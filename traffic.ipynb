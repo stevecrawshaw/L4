{
 "cells": [
  {
   "cell_type": "markdown",
   "metadata": {},
   "source": [
    "# Assignment - British road network use"
   ]
  },
  {
   "cell_type": "markdown",
   "metadata": {},
   "source": [
    "KATE expects your code to define variables with specific names that correspond to certain things we are interested in.\n",
    "\n",
    "KATE will run your notebook from top to bottom and check the latest value of those variables, so make sure you don't overwrite them.\n",
    "\n",
    "* Remember to uncomment the line assigning the variable to your answer and don't change the variable or function names.\n",
    "* Use copies of the original or previous DataFrames to make sure you do not overwrite them by mistake.\n",
    "\n",
    "You will find instructions below about how to define each variable.\n",
    "\n",
    "Once you're happy with your code, upload your notebook to KATE to check your feedback."
   ]
  },
  {
   "cell_type": "markdown",
   "metadata": {},
   "source": [
    "First of all, we will import `pandas` and `pandas_bokeh` and set them up:"
   ]
  },
  {
   "cell_type": "code",
   "execution_count": 1,
   "metadata": {},
   "outputs": [],
   "source": [
    "import pandas as pd\n",
    "import pandas_bokeh\n",
    "from bokeh.plotting import show\n",
    "\n",
    "from bokeh.plotting import output_notebook\n",
    "output_notebook()\n",
    "pd.set_option('plotting.backend', 'pandas_bokeh')\n",
    "\n",
    "import warnings \n",
    "warnings.filterwarnings('ignore')"
   ]
  },
  {
   "cell_type": "markdown",
   "metadata": {},
   "source": [
    "Use `.read_csv()` to get our dataset `data/region_traffic.csv` and assign to `df`:"
   ]
  },
  {
   "cell_type": "code",
   "execution_count": 2,
   "metadata": {},
   "outputs": [],
   "source": [
    "df = pd.read_csv('data/region_traffic.csv')\n",
    "df"
   ]
  },
  {
   "cell_type": "markdown",
   "metadata": {},
   "source": [
    "**Q1.** Use `.groupby()` to create a DataFrame called `year` which groups `df` by `year` and contains the columns `['pedal_cycles', 'cars_and_taxis', 'all_hgvs']`, with the `.sum()` of each of these for each year:"
   ]
  },
  {
   "cell_type": "code",
   "execution_count": 5,
   "metadata": {},
   "outputs": [],
   "source": [
    "year = df.groupby('year')['pedal_cycles', 'cars_and_taxis', 'all_hgvs'].sum()\n",
    "year.head()\n"
   ]
  },
  {
   "cell_type": "markdown",
   "metadata": {},
   "source": [
    "We want to look at the change over time of each of these forms of transport relative to the earliest values. \n",
    "\n",
    "To do so, we will create an *index*. An index allows us to inspect the growth over time of a variable relative to some starting value (known as the *base*). By convention, this starting value is `100.0`. If the value of our variable doubles in some future time period, then the value of our index in that future time period would be `200.0`. \n",
    "\n",
    "**Q2.** Create a new DataFrame called `year_index` as a `.copy()` of `year`. For our index, we will select 1993 as the base year. This means that all values for 1993 should be equal to `100.0`. All subsequent years should be relative to that.\n",
    "\n",
    "Note that you do not need to apply any rounding to the index."
   ]
  },
  {
   "cell_type": "code",
   "execution_count": 87,
   "metadata": {},
   "outputs": [],
   "source": [
    "yr = year.copy()\n",
    "\n",
    "base = yr.loc[1993]\n",
    "year_index = (yr * 100)/ base\n",
    "year_index\n"
   ]
  },
  {
   "cell_type": "markdown",
   "metadata": {},
   "source": [
    "**Q3.** Having already imported and set up `pandas_bokeh` at the start of the notebook, we can now create a Bokeh plot of `year_index` simply using the `.plot()` method and setting to variable `yi_fig`. \n",
    "\n",
    "**Do not pass any additional arguments to `.plot()`**"
   ]
  },
  {
   "cell_type": "code",
   "execution_count": 88,
   "metadata": {},
   "outputs": [],
   "source": [
    "yi_fig = year_index.plot()\n"
   ]
  },
  {
   "cell_type": "markdown",
   "metadata": {},
   "source": [
    "**Q4.** Now that you have created your `yi_fig` variable using just `.plot()`, make the following changes to the specified properties of `yi_fig`:\n",
    "\n",
    "- change the `text` of the `title` to 'Change in road use by vehicle type over time'\n",
    "- change the `axis_label` of the `yaxis` to 'Road use by distance (1993 = 100)'\n",
    "- change the `axis_label` of the `xaxis` to 'Year'\n",
    "- remove the toolbar (by setting the `.toolbar_location` attribute to `None`)\n",
    "- set the legend location to `top_left`\n",
    "- change the `ticker` of the `xaxis` to use the values `[1993, 1998, 2003, 2008, 2013, 2018]`"
   ]
  },
  {
   "cell_type": "code",
   "execution_count": 89,
   "metadata": {},
   "outputs": [],
   "source": [
    "yi_fig.title = \"Change in road use by vehicle type over time\"\n",
    "yi_fig.yaxis.axis_label = 'Road use by distance (1993 = 100)'\n",
    "yi_fig.xaxis.axis_label = 'Year'\n",
    "yi_fig.toolbar_location = None\n",
    "yi_fig.legend.location = \"top_left\"\n",
    "yi_fig.xaxis.ticker = [1993, 1998, 2003, 2008, 2013, 2018]\n"
   ]
  },
  {
   "cell_type": "markdown",
   "metadata": {},
   "source": [
    "Run the cell below to see that your changes have been implemented as expected:"
   ]
  },
  {
   "cell_type": "code",
   "execution_count": 90,
   "metadata": {},
   "outputs": [],
   "source": [
    "show(yi_fig)"
   ]
  },
  {
   "cell_type": "markdown",
   "metadata": {},
   "source": [
    "**Q5.** Create a DataFrame called `green_2018` which:\n",
    "- uses only the data from `df` for 2018\n",
    "- groups this 2018 data by `name`\n",
    "- contains the columns `['pedal_cycles', 'buses_and_coaches']` which have the `.sum()` for each group\n",
    "- is sorted in *descending* order by the values for `pedal_cycles`\n",
    "- divide all of the values in the resulting DataFrame by 1,000,000"
   ]
  },
  {
   "cell_type": "code",
   "execution_count": 37,
   "metadata": {},
   "outputs": [],
   "source": [
    "green_2018 = df[df.year == 2018] \\\n",
    ".groupby('name')['pedal_cycles', 'buses_and_coaches'] \\\n",
    ".sum() \\\n",
    ".sort_values('pedal_cycles', ascending = False) \\\n",
    "/ 1000000\n",
    "green_2018\n"
   ]
  },
  {
   "cell_type": "markdown",
   "metadata": {},
   "source": [
    "**Q6.** Use the `.plot()` method to create a *horizontal, stacked* bar chart from the `green_2018` DataFrame, assigning it to `green_bar`:\n",
    "\n",
    "- you may find the [documentation](https://patrikhlobil.github.io/Pandas-Bokeh/#barplot) useful"
   ]
  },
  {
   "cell_type": "code",
   "execution_count": 38,
   "metadata": {},
   "outputs": [],
   "source": [
    "green_bar = green_2018.plot.barh(stacked = True)\n"
   ]
  },
  {
   "cell_type": "markdown",
   "metadata": {},
   "source": [
    "**Q7.** Once you have created your `green_bar` variable (specifying only that it should be a stacked, horizontal bar plot), modify the following properties of your variable such that:\n",
    "    \n",
    "- the plot `.width` is `800` pixels\n",
    "- the `axis_label` of the `xaxis` is 'Vehicle miles (millions)'\n",
    "- the `axis_label` of the `yaxis` is 'Region'\n",
    "- the `text` of the `title` is 'Regional travel by bicycle and bus in 2018'"
   ]
  },
  {
   "cell_type": "code",
   "execution_count": 40,
   "metadata": {},
   "outputs": [],
   "source": [
    "green_bar.width = 800\n",
    "green_bar.xaxis.axis_label = 'Vehicle miles (millions)'\n",
    "green_bar.yaxis.axis_label = 'Region'\n",
    "green_bar.title = 'Regional travel by bicycle and bus in 2018'"
   ]
  },
  {
   "cell_type": "markdown",
   "metadata": {},
   "source": [
    "Use `show()` to check that your changes have been made as expected:"
   ]
  },
  {
   "cell_type": "code",
   "execution_count": 41,
   "metadata": {},
   "outputs": [],
   "source": [
    "show(green_bar)"
   ]
  },
  {
   "cell_type": "markdown",
   "metadata": {},
   "source": [
    "**Q8.** Create a DataFrame called `length_motor` as follows:\n",
    "\n",
    "- group `df` by `['year', 'name']` with columns for `['total_link_length_miles', 'all_motor_vehicles']` containing the `.sum()` of these\n",
    "- add a column called 'million_vehicle_miles_per_road_mile' which is equal to `(['all_motor_vehicles'] / 1000000) / 'total_link_length_miles'`   \n",
    "    "
   ]
  },
  {
   "cell_type": "code",
   "execution_count": 51,
   "metadata": {},
   "outputs": [],
   "source": [
    "length_motor = df.groupby(['year', 'name'])['total_link_length_miles', 'all_motor_vehicles'].sum()\n",
    "length_motor['million_vehicle_miles_per_road_mile'] = \\\n",
    "(length_motor['all_motor_vehicles'] / 1000000) / length_motor['total_link_length_miles']\n",
    "length_motor"
   ]
  },
  {
   "cell_type": "markdown",
   "metadata": {},
   "source": [
    "**Q9.** From `length_motor`, create a new DataFrame called `reg_density` which has a row index of `year` (i.e. one row for each year 1993-2018), and a column for each region (i.e. each unique value in `name`), with the values within the DataFrame being the appropriate `million_vehicle_miles_per_road_mile` for that year in the given region:\n",
    "\n",
    "- do not change the original `length_motor` DataFrame\n",
    "- you may find `.reset_index()` and the `.pivot()` method useful\n",
    "- you can refer to the [documentation here](https://pandas.pydata.org/pandas-docs/stable/reference/api/pandas.DataFrame.pivot.html)"
   ]
  },
  {
   "cell_type": "code",
   "execution_count": 69,
   "metadata": {},
   "outputs": [],
   "source": [
    "reg_density = length_motor.copy().reset_index(level = (\"name\")).pivot(columns = 'name')['million_vehicle_miles_per_road_mile']\n",
    "reg_density"
   ]
  },
  {
   "cell_type": "markdown",
   "metadata": {},
   "source": [
    "**Q10.** As we did earlier when creating `year_index`, create a new DataFrame called `density_index`, which is the same as `reg_density` except the all values are relative to the 1993 value, which should equal `100`:\n",
    "\n",
    "- do not modify `reg_density`"
   ]
  },
  {
   "cell_type": "code",
   "execution_count": 70,
   "metadata": {},
   "outputs": [],
   "source": [
    "ninety3 = reg_density.copy().loc[1993]\n",
    "\n",
    "density_index = (reg_density.copy() *100) / ninety3\n"
   ]
  },
  {
   "cell_type": "code",
   "execution_count": 71,
   "metadata": {},
   "outputs": [],
   "source": [
    "# density_index.reset_index(inplace=True)\n",
    "density_index"
   ]
  },
  {
   "cell_type": "markdown",
   "metadata": {},
   "source": [
    "\n",
    "**Q11.** Assign to `density_plot` a figure created by using the `.plot()` method on `density_index`, with the parameter `hovertool=False`."
   ]
  },
  {
   "cell_type": "code",
   "execution_count": 72,
   "metadata": {},
   "outputs": [],
   "source": [
    "density_plot = density_index.plot(hovertool = False)\n"
   ]
  },
  {
   "cell_type": "markdown",
   "metadata": {},
   "source": [
    "**Q12.** Make the following changes to `density_plot`:\n",
    "\n",
    "- make the `height` and `width` both `800`\n",
    "- remove the toolbar\n",
    "- move the legend to the `top_left`\n",
    "- use the following values on the x-axis: `[1993, 1998, 2003, 2008, 2013, 2018]`"
   ]
  },
  {
   "cell_type": "code",
   "execution_count": 85,
   "metadata": {},
   "outputs": [],
   "source": [
    "density_plot.height = 800\n",
    "density_plot.width = 800\n",
    "density_plot.toolbar_location = None\n",
    "density_plot.legend.location = \"top_left\"\n",
    "density_plot.xaxis.ticker = [1993, 1998, 2003, 2008, 2013, 2018]"
   ]
  },
  {
   "cell_type": "markdown",
   "metadata": {},
   "source": [
    "Run the following cell to check your changes have been applied as expected:"
   ]
  },
  {
   "cell_type": "code",
   "execution_count": 86,
   "metadata": {},
   "outputs": [],
   "source": [
    "show(density_plot)"
   ]
  }
 ],
 "metadata": {
  "kernelspec": {
   "display_name": "Python 3 (ipykernel)",
   "language": "python",
   "name": "python3"
  },
  "language_info": {
   "codemirror_mode": {
    "name": "ipython",
    "version": 3
   },
   "file_extension": ".py",
   "mimetype": "text/x-python",
   "name": "python",
   "nbconvert_exporter": "python",
   "pygments_lexer": "ipython3",
   "version": "3.7.13"
  }
 },
 "nbformat": 4,
 "nbformat_minor": 4
}
