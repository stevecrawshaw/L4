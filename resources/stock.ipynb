{
 "cells": [
  {
   "cell_type": "markdown",
   "metadata": {},
   "source": [
    "# Analysis of Daily Stock Price Data"
   ]
  },
  {
   "cell_type": "markdown",
   "metadata": {},
   "source": [
    "KATE expects your code to define variables with specific names that correspond to certain things we are interested in.\n",
    "\n",
    "KATE will run your notebook from top to bottom and check the latest value of those variables, so make sure you don't overwrite them.\n",
    "\n",
    "* Remember to uncomment the line assigning the variable to your answer and don't change the variable or function names.\n",
    "* Use copies of the original or previous DataFrames to make sure you do not overwrite them by mistake.\n",
    "\n",
    "You will find instructions below about how to define each variable.\n",
    "\n",
    "Once you're happy with your code, upload your notebook to KATE to check your feedback."
   ]
  },
  {
   "cell_type": "code",
   "execution_count": 1,
   "metadata": {
    "inputHidden": false,
    "outputHidden": false
   },
   "outputs": [],
   "source": [
    "import pandas as pd"
   ]
  },
  {
   "cell_type": "markdown",
   "metadata": {},
   "source": [
    "First, we will load the dataset from `data/AAPL.csv` into a DataFrame."
   ]
  },
  {
   "cell_type": "code",
   "execution_count": 36,
   "metadata": {},
   "outputs": [],
   "source": [
    "df = pd.read_csv('data/AAPL.csv')\n",
    "df.head()"
   ]
  },
  {
   "cell_type": "markdown",
   "metadata": {},
   "source": [
    "This data, in its raw format, is the same as that which can be retrieved from a number of financial websites.\n",
    "\n",
    "Before starting the exercise, let's add some additional data columns, calculated from the raw data. Don't worry if you aren't familiar with the methods used in the following cell."
   ]
  },
  {
   "cell_type": "code",
   "execution_count": 37,
   "metadata": {},
   "outputs": [],
   "source": [
    "df['Date'] = pd.to_datetime(df['Date'])\n",
    "df['Year'] = df['Date'].dt.year\n",
    "df['Month'] = df['Date'].dt.month\n",
    "df['Day'] = df['Date'].dt.day\n",
    "df['Weekday'] = df['Date'].dt.day_name()\n",
    "df['Change %'] = (df['Adj Close'].pct_change() * 100)"
   ]
  },
  {
   "cell_type": "code",
   "execution_count": 38,
   "metadata": {},
   "outputs": [],
   "source": [
    "df.head()"
   ]
  },
  {
   "cell_type": "markdown",
   "metadata": {},
   "source": [
    "Avoid modifying `df` itself in the subsequent questions."
   ]
  },
  {
   "cell_type": "markdown",
   "metadata": {},
   "source": [
    "## Dataset stats\n",
    "\n",
    "#### 1. What's the mean of the values in the `Adj Close` column?\n",
    "\n",
    "Store the answer in a variable called `mean_adj_close`"
   ]
  },
  {
   "cell_type": "code",
   "execution_count": 39,
   "metadata": {},
   "outputs": [],
   "source": [
    "# Add your code below\n",
    "mean_adj_close = df['Adj Close'].mean()\n"
   ]
  },
  {
   "cell_type": "markdown",
   "metadata": {},
   "source": [
    "#### 2. What's the minimum value in the `Low` column?\n",
    "\n",
    "Store the answer in a variable called `min_low`"
   ]
  },
  {
   "cell_type": "code",
   "execution_count": 40,
   "metadata": {},
   "outputs": [],
   "source": [
    "# Add your code below\n",
    "min_low = df['Low'].min()\n"
   ]
  },
  {
   "cell_type": "markdown",
   "metadata": {},
   "source": [
    "#### 3. What's the maximum value in the `High` column?\n",
    "\n",
    "Store the answer in a variable called `max_high`"
   ]
  },
  {
   "cell_type": "code",
   "execution_count": 42,
   "metadata": {},
   "outputs": [],
   "source": [
    "# Add your code below\n",
    "max_high = df['High'].max()"
   ]
  },
  {
   "cell_type": "markdown",
   "metadata": {},
   "source": [
    "#### 4. What's the difference between `min_low` and `max_high`?  \n",
    "\n",
    "Store the answer in a variable called `price_range`"
   ]
  },
  {
   "cell_type": "code",
   "execution_count": 9,
   "metadata": {},
   "outputs": [],
   "source": [
    "# Add your code below\n",
    "price_range = max_high - min_low"
   ]
  },
  {
   "cell_type": "markdown",
   "metadata": {},
   "source": [
    "#### 5. How many rows are there in the DataFrame?\n",
    "\n",
    "Store the answer in a variable called `entries`"
   ]
  },
  {
   "cell_type": "code",
   "execution_count": 44,
   "metadata": {},
   "outputs": [],
   "source": [
    "# Add your code below\n",
    "entries = df.shape[0]"
   ]
  },
  {
   "cell_type": "markdown",
   "metadata": {},
   "source": [
    "#### 6. On how many days (i.e. number of rows) was `Change %` greater than zero?\n",
    "\n",
    "Store the answer in a variable called `positive_days`"
   ]
  },
  {
   "cell_type": "code",
   "execution_count": 45,
   "metadata": {},
   "outputs": [],
   "source": [
    "# Add your code below\n",
    "positive_days = df[df['Change %'] > 0].shape[0]\n",
    "positive_days\n"
   ]
  },
  {
   "cell_type": "markdown",
   "metadata": {},
   "source": [
    "#### 7. On how many days (i.e. number of rows) has `Adj Close` been greater than the value in the final row?\n",
    "\n",
    "Store the answer in a variable called `days_higher`\n",
    "\n",
    "*Hint: we can use list indexing with `.iloc` e.g. `.iloc[-1]` to get the last value in a Series, such as a specific column of a DataFrame*"
   ]
  },
  {
   "cell_type": "code",
   "execution_count": 46,
   "metadata": {},
   "outputs": [],
   "source": [
    "# Add your code below\n",
    "days_higher = df[df['Adj Close'] > df['Adj Close'].iloc[-1]].shape[0]\n",
    "days_higher"
   ]
  },
  {
   "cell_type": "markdown",
   "metadata": {},
   "source": [
    "## Dataset sorting and filtering"
   ]
  },
  {
   "cell_type": "markdown",
   "metadata": {},
   "source": [
    "#### 8. Create a new DataFrame called `df_2020` which is the same as `df` but contains only the rows where `Year == 2020`. \n",
    "\n",
    "Use `set_index('Date', inplace=True)` to set the `Date` column as the row index."
   ]
  },
  {
   "cell_type": "code",
   "execution_count": 50,
   "metadata": {},
   "outputs": [],
   "source": [
    "# Add your code below\n",
    "df_2020 = df[df['Year'] == 2020]\n",
    "df_2020.set_index('Date', inplace=True)\n"
   ]
  },
  {
   "cell_type": "markdown",
   "metadata": {},
   "source": [
    "#### 9. Continuing with `df_2020`, calculate the `.mean()` of `Change %` for entries where `Weekday == Monday`.\n",
    "\n",
    "Store the value in a variable called `mean_change_mon_2020`."
   ]
  },
  {
   "cell_type": "code",
   "execution_count": 52,
   "metadata": {},
   "outputs": [],
   "source": [
    "# Add your code below\n",
    "mean_change_mon_2020 = df_2020[df_2020['Weekday'] == 'Monday']['Change %'].mean()\n",
    "mean_change_mon_2020"
   ]
  },
  {
   "cell_type": "markdown",
   "metadata": {},
   "source": [
    "When you have calculated `mean_change_mon_2020`, uncomment and run the cell below to view its value:"
   ]
  },
  {
   "cell_type": "code",
   "execution_count": 53,
   "metadata": {},
   "outputs": [],
   "source": [
    "mean_change_mon_2020"
   ]
  },
  {
   "cell_type": "markdown",
   "metadata": {},
   "source": [
    "#### 10. Calculate the sum of the `Volume` column in `df_2020` for entries where `Month == 3`.\n",
    "\n",
    "Store the value in a variable called `total_volume_march_2020`."
   ]
  },
  {
   "cell_type": "code",
   "execution_count": 54,
   "metadata": {},
   "outputs": [],
   "source": [
    "# Add your code below\n",
    "total_volume_march_2020 = df_2020[df_2020['Month'] == 3]['Volume'].sum()\n"
   ]
  },
  {
   "cell_type": "markdown",
   "metadata": {},
   "source": [
    "When you have calculated `total_volume_march_2020`, uncomment and run the cell below to view its value:"
   ]
  },
  {
   "cell_type": "code",
   "execution_count": 55,
   "metadata": {},
   "outputs": [],
   "source": [
    "total_volume_march_2020"
   ]
  },
  {
   "cell_type": "markdown",
   "metadata": {},
   "source": [
    "#### 11. Using `df_2020`, determine when `Adj Close` was the highest.\n",
    "\n",
    "- look at the [documentation](https://pandas.pydata.org/pandas-docs/stable/reference/api/pandas.DataFrame.idxmax.html) for the `.idxmax()` method and use it for this task \n",
    "- this will only work if the row index has been set to the `Date` as instructed earlier in the assignment\n",
    "\n",
    "Store the value in a variable called `year_high_timestamp`\n"
   ]
  },
  {
   "cell_type": "code",
   "execution_count": 57,
   "metadata": {},
   "outputs": [],
   "source": [
    "# Add your code below\n",
    "year_high_timestamp = df_2020['Adj Close'].idxmax()\n",
    "year_high_timestamp"
   ]
  },
  {
   "cell_type": "markdown",
   "metadata": {},
   "source": [
    "`year_high_timestamp` should be a pandas `Timestamp` object. Once you have calculated `year_high_timestamp`, uncomment and run the following cell (it should evaluate to `True`):"
   ]
  },
  {
   "cell_type": "code",
   "execution_count": 58,
   "metadata": {},
   "outputs": [],
   "source": [
    "type(year_high_timestamp) == pd._libs.tslibs.timestamps.Timestamp"
   ]
  },
  {
   "cell_type": "markdown",
   "metadata": {},
   "source": [
    "*For future reference, to extract a string from a Timestamp object in your preferred format, the [.strftime()](https://docs.python.org/3/library/datetime.html#strftime-strptime-behavior) method may be useful.*"
   ]
  },
  {
   "cell_type": "markdown",
   "metadata": {},
   "source": [
    "#### 12. Create a DataFrame called `df_top_10` which contains the 10 entries from `df` with the highest positive `Change %` values.\n",
    "- consider all entries in `df` rather than `df_2020`\n",
    "- remember to avoid modifying `df` or any other stored DataFrames \n",
    "- `.copy()` can be used to copy a DataFrame to a new variable"
   ]
  },
  {
   "cell_type": "code",
   "execution_count": 63,
   "metadata": {},
   "outputs": [],
   "source": [
    "# Add your code below\n",
    "df_top_10 = df.sort_values('Change %', ascending = False).head(10)"
   ]
  },
  {
   "cell_type": "markdown",
   "metadata": {},
   "source": [
    "#### 13. How many entries in `df_top_10` were *not* on a Monday?\n",
    "Store the value in a variable called `top_10_not_mon`"
   ]
  },
  {
   "cell_type": "code",
   "execution_count": 69,
   "metadata": {},
   "outputs": [],
   "source": [
    "# Add your code below\n",
    "top_10_not_mon = sum(df_top_10['Weekday'] != 'Monday')"
   ]
  },
  {
   "cell_type": "markdown",
   "metadata": {},
   "source": [
    "When you have calculate `top_10_not_mon`, uncomment and run the cell below to inspect it:"
   ]
  },
  {
   "cell_type": "code",
   "execution_count": 70,
   "metadata": {},
   "outputs": [],
   "source": [
    "top_10_not_mon"
   ]
  },
  {
   "cell_type": "markdown",
   "metadata": {},
   "source": [
    "## Dataset manipulation"
   ]
  },
  {
   "cell_type": "markdown",
   "metadata": {},
   "source": [
    "#### 14. Create a new DataFrame called `df_var`, which the same as `df` but with an additional column `Variation %`, which is equal to:\n",
    "\n",
    "((`High` - `Low`) / `Close`) * 100\n",
    "\n",
    "- be sure to use `Close` rather than `Adj Close` in this question\n",
    "- do not modify `df` but create a copy: `df_var = df.copy()`"
   ]
  },
  {
   "cell_type": "code",
   "execution_count": 73,
   "metadata": {
    "scrolled": true
   },
   "outputs": [],
   "source": [
    "# Add your code below\n",
    "df_var = df.copy()\n",
    "df_var['Variation %'] = ((df_var['High'] -df_var['Low'] ) / df_var['Close']) * 100"
   ]
  },
  {
   "cell_type": "markdown",
   "metadata": {},
   "source": [
    "Once you have calculated `df_var`, you can uncomment and run the cell below to inspect it:"
   ]
  },
  {
   "cell_type": "code",
   "execution_count": 74,
   "metadata": {},
   "outputs": [],
   "source": [
    "\n",
    "df_var.head()"
   ]
  },
  {
   "cell_type": "markdown",
   "metadata": {},
   "source": [
    "#### 15. Create a new DataFrame called `df_var_value`, which the same as `df_var` but with an additional column `Traded Value`, equal to:\n",
    "`Volume * Adj Close`\n",
    "\n",
    "- do not modify `df_var` but create a copy: `df_var_value = df_var.copy()`"
   ]
  },
  {
   "cell_type": "code",
   "execution_count": 75,
   "metadata": {},
   "outputs": [],
   "source": [
    "# Add your code below\n",
    "df_var_value = df_var.copy()\n",
    "df_var_value['Traded Value'] = df_var_value['Volume'] * df_var_value['Adj Close']"
   ]
  },
  {
   "cell_type": "markdown",
   "metadata": {},
   "source": [
    "Now uncomment and run the cell below to view `df_var_value`:"
   ]
  },
  {
   "cell_type": "code",
   "execution_count": 76,
   "metadata": {},
   "outputs": [],
   "source": [
    "df_var_value.head()"
   ]
  }
 ],
 "metadata": {
  "kernel_info": {
   "name": "python3"
  },
  "kernelspec": {
   "display_name": "Python 3 (ipykernel)",
   "language": "python",
   "name": "python3"
  },
  "language_info": {
   "codemirror_mode": {
    "name": "ipython",
    "version": 3
   },
   "file_extension": ".py",
   "mimetype": "text/x-python",
   "name": "python",
   "nbconvert_exporter": "python",
   "pygments_lexer": "ipython3",
   "version": "3.7.12"
  },
  "nteract": {
   "version": "0.15.0"
  }
 },
 "nbformat": 4,
 "nbformat_minor": 1
}
