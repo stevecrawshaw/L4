{
 "cells": [
  {
   "cell_type": "markdown",
   "metadata": {},
   "source": [
    "# Plotting a Property Dataset"
   ]
  },
  {
   "cell_type": "markdown",
   "metadata": {},
   "source": [
    "KATE expects your code to define variables with specific names that correspond to certain things we are interested in.\n",
    "\n",
    "KATE will run your notebook from top to bottom and check the latest value of those variables, so make sure you don't overwrite them.\n",
    "\n",
    "* Remember to uncomment the line assigning the variable to your answer and don't change the variable or function names.\n",
    "* Use copies of the original or previous DataFrames to make sure you do not overwrite them by mistake.\n",
    "\n",
    "You will find instructions below about how to define each variable.\n",
    "\n",
    "Once you're happy with your code, upload your notebook to KATE to check your feedback."
   ]
  },
  {
   "cell_type": "markdown",
   "metadata": {},
   "source": [
    "Run the following cell to import packages and set plotting styling. \n",
    "\n",
    "**The plotting styling should not be changed**; doing so may result in KATE incorrectly evaluating your plots.\n",
    "\n",
    "*Note: `matplotlib` does a lot of work in the background to \"guess\" what figure to plot on. This can have the effect of modifying figures you have created before in the notebook, which will cause your plots to be wrong on KATE. To ensure your plots are always created properly, call `plt.figure()` before each command that creates a new plot, this will ensure you plot on a new figure everytime.*"
   ]
  },
  {
   "cell_type": "code",
   "execution_count": 1,
   "metadata": {},
   "outputs": [],
   "source": [
    "import pandas as pd\n",
    "import seaborn as sns\n",
    "import matplotlib.pyplot as plt\n",
    "sns.set()\n",
    "\n",
    "from matplotlib.axes._axes import _log as matplotlib_axes_logger\n",
    "matplotlib_axes_logger.setLevel('ERROR') #prevents unnecessary mpl warnings about sns color palette"
   ]
  },
  {
   "cell_type": "code",
   "execution_count": 2,
   "metadata": {},
   "outputs": [],
   "source": [
    "df = pd.read_csv('data/assessments.csv')"
   ]
  },
  {
   "cell_type": "markdown",
   "metadata": {},
   "source": [
    "The `data-dictionary.pdf` file provided gives details about each field."
   ]
  },
  {
   "cell_type": "markdown",
   "metadata": {},
   "source": [
    "## Charting residential properties with pandas"
   ]
  },
  {
   "cell_type": "markdown",
   "metadata": {},
   "source": [
    "**Q1.** Create a DataFrame containing only properties from `df` with a `CLASSDESC` of `RESIDENTIAL`.\n",
    "Store the answer in a variable called `res`"
   ]
  },
  {
   "cell_type": "code",
   "execution_count": 3,
   "metadata": {},
   "outputs": [],
   "source": [
    "df.head()"
   ]
  },
  {
   "cell_type": "code",
   "execution_count": 4,
   "metadata": {},
   "outputs": [],
   "source": [
    "#add your code below...\n",
    "res = df[df.CLASSDESC == 'RESIDENTIAL']\n"
   ]
  },
  {
   "cell_type": "markdown",
   "metadata": {},
   "source": [
    "**Q2.** Create a DataFrame containing only properties from `res` with `BEDROOMS` greater than 0 and less than 7.\n",
    "\n",
    "- Use the `.copy()` method so that you have a distinct DataFrame in memory\n",
    "- Use the `.notnull()` method to mask out the rows in `BEDROOMS` which are null\n",
    "- Use the `.astype()` method to change the data type of the `BEDROOMS` column to `int`\n",
    "- Filter the new DataFrame to only contain rows where `BEDROOMS` is greater than `0` and less than `7`\n",
    "\n",
    "Call the new dataframe `res_16`"
   ]
  },
  {
   "cell_type": "code",
   "execution_count": 5,
   "metadata": {},
   "outputs": [],
   "source": [
    "# Add your code below\n",
    "res_16 = res.copy()[res['BEDROOMS'].notnull()] \\\n",
    ".astype({'BEDROOMS': int}) \\\n",
    "[res['BEDROOMS'] > 0][res['BEDROOMS'] < 7]"
   ]
  },
  {
   "cell_type": "markdown",
   "metadata": {},
   "source": [
    "**Q3.** Use `.groupby()` on `res_16` to create a Series with an index of `BEDROOMS` and values of the `.mean()` of `FULLBATHS` for each number of `BEDROOMS`.\n",
    "\n",
    "Assign this series to a new variable called `bed_bath`"
   ]
  },
  {
   "cell_type": "code",
   "execution_count": 6,
   "metadata": {},
   "outputs": [],
   "source": [
    "# Add your code below\n",
    "bed_bath = res_16.groupby('BEDROOMS')['FULLBATHS'].mean()\n",
    "bed_bath.head()"
   ]
  },
  {
   "cell_type": "markdown",
   "metadata": {},
   "source": [
    "**Q4.** Use the `.plot()` method on `bed_bath` to create a plot of `kind='line'`.\n",
    "\n",
    "- This should result in a plot of `BEDROOMS` on the x-axis with the average number of `FULLBATHS` on the y-axis\n",
    "- Save your plot into a new variable, `bb_line`"
   ]
  },
  {
   "cell_type": "code",
   "execution_count": 7,
   "metadata": {},
   "outputs": [],
   "source": [
    "# We create a new figure to make other figures in the notebook don't get modified\n",
    "plt.figure()\n",
    "# Add your code below\n",
    "bb_line = bed_bath.plot(kind = 'line')\n"
   ]
  },
  {
   "cell_type": "markdown",
   "metadata": {},
   "source": [
    "**Q5.** Using the `res_16` DataFrame, create a Series with an index of `BEDROOMS` and values of the `.value_counts()` of each number, using `.sort_index()` to order it by the index.\n",
    "\n",
    "Call the new variable `beds`"
   ]
  },
  {
   "cell_type": "code",
   "execution_count": 8,
   "metadata": {},
   "outputs": [],
   "source": [
    "# Add your code below\n",
    "beds= res_16.BEDROOMS.value_counts().sort_index()\n",
    "beds\n"
   ]
  },
  {
   "cell_type": "markdown",
   "metadata": {},
   "source": [
    "**Q6.** Use the `.plot()` method on `beds` to create a plot of `kind='bar'`, with variable `bar_title` as the `title`.\n",
    "\n",
    "Save your plot into a variable called `beds_bar`"
   ]
  },
  {
   "cell_type": "code",
   "execution_count": 10,
   "metadata": {},
   "outputs": [],
   "source": [
    "bar_title = 'Residential housing by number of bedrooms'"
   ]
  },
  {
   "cell_type": "code",
   "execution_count": 25,
   "metadata": {},
   "outputs": [],
   "source": [
    "# We create a new figure to make sure other figures in the notebook don't get modified\n",
    "plt.figure()\n",
    "# Add your code below\n",
    "beds_bar = beds.plot(title = bar_title, kind = 'bar')\n"
   ]
  },
  {
   "cell_type": "markdown",
   "metadata": {},
   "source": [
    "**Q7.** Create a function called `zip_land` which takes two arguments: a DataFrame (with the same columns as `df`) and an integer (which it can be assumed will always be present in the `PROPERTYZIP` column of the DataFrame).\n",
    "\n",
    "- This function will need to filter down the `df` argument to the rows where the `PROPERTYZIP` column is equal to the `zip_code` argument, before returning a `scatter` plot with the following properties:\n",
    "\n",
    "    - `x=LOTAREA`\n",
    "    - `y=FAIRMARKETLAND`\n",
    "    - `xlim` and `ylim` both from `0` to double the `.mean()` of the respective column values\n",
    "    - `alpha` = 0.4\n",
    "    - `figsize` = (12, 10)\n",
    "\n",
    "Note: make sure you return the plot. You should have in your code something like `my_plot = [command to plot]` and then `return my_plot`"
   ]
  },
  {
   "cell_type": "code",
   "execution_count": 12,
   "metadata": {},
   "outputs": [],
   "source": [
    "# Add your code below to implement zip_land\n",
    "def zip_land(df, zip_code):  \n",
    "    filt_df = df[df['PROPERTYZIP'] == zip_code]\n",
    "    xlim_max = filt_df.LOTAREA.mean() * 2\n",
    "    ylim_max = filt_df.FAIRMARKETLAND.mean() * 2\n",
    "    theplot = filt_df.plot(x = 'LOTAREA',\n",
    "                           y = 'FAIRMARKETLAND',\n",
    "                           xlim = (0, xlim_max),\n",
    "                           ylim = (0, ylim_max),\n",
    "                           alpha = 0.4,\n",
    "                           figsize = (12, 10),\n",
    "                            kind = 'scatter')\n",
    "    return theplot"
   ]
  },
  {
   "cell_type": "markdown",
   "metadata": {},
   "source": [
    "Run the following code cell to check that your function returns a chart as expected:"
   ]
  },
  {
   "cell_type": "code",
   "execution_count": 13,
   "metadata": {},
   "outputs": [],
   "source": [
    "# We create a new figure to make other figures in the notebook don't get modified\n",
    "plt.figure()\n",
    "zip_chart = zip_land(df, 15236)"
   ]
  },
  {
   "cell_type": "markdown",
   "metadata": {},
   "source": [
    "### Charting property values with seaborn"
   ]
  },
  {
   "cell_type": "markdown",
   "metadata": {},
   "source": [
    "**Q8.** Create a DataFrame which contains only entries from `df` with a `SALEDESC` of `VALID SALE`.\n",
    "- Use the `.copy()` method to ensure you have a distinct DataFrame in memory\n",
    "\n",
    "Call the new dataframe `sales`"
   ]
  },
  {
   "cell_type": "code",
   "execution_count": 14,
   "metadata": {},
   "outputs": [],
   "source": [
    "# Add your code below\n",
    "sales = df[df.SALEDESC == 'VALID SALE'].copy()\n"
   ]
  },
  {
   "cell_type": "markdown",
   "metadata": {},
   "source": [
    "**Q9.** Add a column to `sales` called `PITTSBURGH`, containing boolean values of `True` where `PROPERTYCITY` equals `PITTSBURGH` and `False` if not."
   ]
  },
  {
   "cell_type": "code",
   "execution_count": 15,
   "metadata": {},
   "outputs": [],
   "source": [
    "sales['PITTSBURGH'] = sales['PROPERTYCITY'] == 'PITTSBURGH'"
   ]
  },
  {
   "cell_type": "markdown",
   "metadata": {},
   "source": [
    "**Q10.** Create a seaborn `.violinplot()` with the following properties:\n",
    "\n",
    "`x` = `PITTSBURGH`  \n",
    "`y` = `FAIRMARKETTOTAL`   \n",
    "`data` = only entries from `sales` where `['BEDROOMS'] == 1`\n",
    "\n",
    "*Put the `sns.type_of_plot(...)` statement after the `=` assignment sign; you will still see the resulting plot in the notebook, and KATE will be able to evaluate it.*\n",
    "\n",
    "Call the new variable `pitts_violin`"
   ]
  },
  {
   "cell_type": "code",
   "execution_count": 16,
   "metadata": {
    "scrolled": true
   },
   "outputs": [],
   "source": [
    "# We create a new figure to make other figures in the notebook don't get modified\n",
    "plt.figure()\n",
    "onebeds = sales[sales['BEDROOMS'] == 1]\n",
    "\n",
    "pitts_violin = sns.violinplot(x = 'PITTSBURGH', y = 'FAIRMARKETTOTAL', data = onebeds)\n"
   ]
  },
  {
   "cell_type": "markdown",
   "metadata": {},
   "source": [
    "**Q11.** Create a seaborn `.regplot()` with the following properties:\n",
    "\n",
    "`x` = `SALEPRICE`    \n",
    "`y` = `FAIRMARKETTOTAL`  \n",
    "`data` = only entries from `sales` where `['GRADEDESC'] == 'EXCELLENT'`\n",
    "\n",
    "Call the new variable `exc_reg`"
   ]
  },
  {
   "cell_type": "code",
   "execution_count": 17,
   "metadata": {},
   "outputs": [],
   "source": [
    "# We create a new figure to make other figures in the notebook don't get modified\n",
    "plt.figure()\n",
    "exc_grade = sales[sales['GRADEDESC'] == 'EXCELLENT']\n",
    "exc_reg = sns.regplot(x = 'SALEPRICE', y = 'FAIRMARKETTOTAL', data = exc_grade)\n"
   ]
  },
  {
   "cell_type": "markdown",
   "metadata": {},
   "source": [
    "**Q12.** Create a DataFrame called `bus` which contains only entries from `sales` where `CLASSDESC` `.isin(['COMMERCIAL', 'INDUSTRIAL', 'AGRICULTURAL'])`."
   ]
  },
  {
   "cell_type": "code",
   "execution_count": 20,
   "metadata": {},
   "outputs": [],
   "source": [
    "bus = sales[sales['CLASSDESC'].isin(['COMMERCIAL', 'INDUSTRIAL', 'AGRICULTURAL'])]"
   ]
  },
  {
   "cell_type": "markdown",
   "metadata": {},
   "source": [
    "**Q13.** Create a DataFrame using the `.groupby()` method on the `bus` DataFrame with the following properties:\n",
    "\n",
    "- Data grouped by `['CLASSDESC', 'PITTSBURGH']` where the values are of the `.mean()` of `FAIRMARKETTOTAL`\n",
    "- Use `.reset_index()` so that a DataFrame is created\n",
    "- Use `.sort_values(by='FAIRMARKETTOTAL')` to order it\n",
    "\n",
    "\n",
    "Call the new dataframe `bus_value`"
   ]
  },
  {
   "cell_type": "code",
   "execution_count": 23,
   "metadata": {},
   "outputs": [],
   "source": [
    "bus_value = bus \\\n",
    ".groupby(['CLASSDESC', 'PITTSBURGH'])['FAIRMARKETTOTAL']. \\\n",
    "mean(). \\\n",
    "reset_index(). \\\n",
    "sort_values(by = 'FAIRMARKETTOTAL')\n",
    "bus_value\n"
   ]
  },
  {
   "cell_type": "markdown",
   "metadata": {},
   "source": [
    "**Q14.** Create a seaborn `.barplot()` with the following properties:\n",
    "- `x` = `CLASSDESC`\n",
    "- `y` = `FAIRMARKETTOTAL`\n",
    "- `hue` = `PITTSBURGH`\n",
    "- `data` = `bus_value`\n",
    "\n",
    "Call the new variable `bus_bar`"
   ]
  },
  {
   "cell_type": "code",
   "execution_count": 24,
   "metadata": {},
   "outputs": [],
   "source": [
    "# We create a new figure to make other figures in the notebook don't get modified\n",
    "plt.figure()\n",
    "bus_bar =  sns.barplot(x = 'CLASSDESC', y = 'FAIRMARKETTOTAL', hue = 'PITTSBURGH', data = bus_value)\n"
   ]
  }
 ],
 "metadata": {
  "kernelspec": {
   "display_name": "Python 3 (ipykernel)",
   "language": "python",
   "name": "python3"
  },
  "language_info": {
   "codemirror_mode": {
    "name": "ipython",
    "version": 3
   },
   "file_extension": ".py",
   "mimetype": "text/x-python",
   "name": "python",
   "nbconvert_exporter": "python",
   "pygments_lexer": "ipython3",
   "version": "3.7.13"
  }
 },
 "nbformat": 4,
 "nbformat_minor": 4
}
