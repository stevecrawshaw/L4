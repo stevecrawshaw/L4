{
 "cells": [
  {
   "cell_type": "code",
   "execution_count": 25,
   "id": "e2e87717-fddf-4b53-b4b2-1f691f711648",
   "metadata": {},
   "outputs": [],
   "source": [
    "import pandas as pd, numpy as np, requests, json, io, yaml, plotnine, seaborn as sns, re\n",
    "from plotnine import *"
   ]
  },
  {
   "cell_type": "markdown",
   "id": "09bd30f1-af7a-4bd3-9470-93afc5ae34e5",
   "metadata": {},
   "source": [
    "The bearer token is provided for the Remote Management System to access router information via the API\n",
    "https://developers.rms.teltonika-networks.com/\n",
    "\n",
    "The PAT for teltonika is stored in a config.yml file for security"
   ]
  },
  {
   "cell_type": "code",
   "execution_count": 2,
   "id": "deca790d-6042-4419-9b42-f1dbec6fb8af",
   "metadata": {},
   "outputs": [],
   "source": [
    "with open('../config.yml', 'r') as file:\n",
    "    cfg = yaml.safe_load(file)"
   ]
  },
  {
   "cell_type": "code",
   "execution_count": 3,
   "id": "8008b6c4-5a7d-4f41-af29-9d9002505014",
   "metadata": {},
   "outputs": [],
   "source": [
    "pat = cfg['teltonika']['pat']\n",
    "bearer = f'Bearer {pat}'"
   ]
  },
  {
   "cell_type": "markdown",
   "id": "923d22e3-5cbd-42a8-a092-578a0d90a22c",
   "metadata": {},
   "source": [
    "The performance metrics are queried for each month - as defined by start and end dates supplied as variables in the cell below. In addition we define fields for data collected by the routers which may indicate performance in various ways. Of key interest is data usage (collected via a separate end point later)."
   ]
  },
  {
   "cell_type": "code",
   "execution_count": 4,
   "id": "ca07f138-d2a4-4312-82a6-1936b4dfb1ec",
   "metadata": {},
   "outputs": [],
   "source": [
    "start_date = \"2022-09-01\"\n",
    "end_date = \"2022-10-01\"\n",
    " \n",
    "fields = \"\"\"id,model,name,serial,mac,wlan_mac,mqtt,\n",
    "last_connection_at,updated_at,status,temperature,\n",
    "signal,cell_id,connection_uptime,iccid,operator,router_uptime,wan_ip\"\"\""
   ]
  },
  {
   "cell_type": "markdown",
   "id": "4b32e502-151d-4373-ac39-3ccd7419c92d",
   "metadata": {},
   "source": [
    "API URLs"
   ]
  },
  {
   "cell_type": "code",
   "execution_count": 5,
   "id": "1f0ea6e9-700d-4966-95a6-49c792540d3f",
   "metadata": {},
   "outputs": [],
   "source": [
    "url950 = \"https://rms.teltonika-networks.com/api/devices?limit=10&status=online&model=RUT950\"\n",
    "urlall = \"https://rms.teltonika-networks.com/api/devices?limit=10\"\n",
    "shorturl = \"https://rms.teltonika-networks.com/api/devices/\"\n",
    "csv_url = \"https://rms.teltonika-networks.com/api/devices/export/csv\""
   ]
  },
  {
   "cell_type": "markdown",
   "id": "3f5a0865-3a1d-4daa-b677-5c1a3f34d953",
   "metadata": {},
   "source": [
    "Basic information about the devices, the response is in JSON. This endpoint is needed because the router id's are not returned in the csv version."
   ]
  },
  {
   "cell_type": "code",
   "execution_count": 6,
   "id": "20c2672c-4aab-4c3a-b0fd-fa765eac025a",
   "metadata": {},
   "outputs": [],
   "source": [
    "response_devices = requests.get(urlall, \\\n",
    "                                headers = {\"Authorization\": bearer, \"Accept\":\"application/json\"})"
   ]
  },
  {
   "cell_type": "markdown",
   "id": "3ddb5b5b-919c-4e34-9095-975c7ed1c7a7",
   "metadata": {},
   "source": [
    "The API call below brings in a range of metrics defined in the field parameter. CSV endpoint used for larger datasets.\n"
   ]
  },
  {
   "cell_type": "code",
   "execution_count": 7,
   "id": "661530c4-8a3e-4e74-9edb-a2d53c073ed4",
   "metadata": {},
   "outputs": [],
   "source": [
    "response_devices_csv = requests.get(csv_url, \\\n",
    "                                   headers = {\"Authorization\": bearer, \"Accept\":\"text/csv\"}, \\\n",
    "                                   params = {\"fields\":fields})"
   ]
  },
  {
   "cell_type": "markdown",
   "id": "e1d4f0ed-4259-4e64-8e90-6a9f7dd117f2",
   "metadata": {},
   "source": [
    "We convert to a DataFrame here for use in further analysis."
   ]
  },
  {
   "cell_type": "code",
   "execution_count": 8,
   "id": "883df77f-c858-44e5-873c-0a0ac7356b87",
   "metadata": {},
   "outputs": [],
   "source": [
    "responses_df = pd.read_csv(io.StringIO(response_devices_csv.text))"
   ]
  },
  {
   "cell_type": "markdown",
   "id": "fbdf46ec-fbfa-4550-9b41-d9c5f3016b38",
   "metadata": {},
   "source": [
    "Use the json response to get id's, then the `data-usage` endpoint to get daily usage stats from each device. Create a dataframe to hold the data usage data for each device to enable plotting to review any spikes in use - could indicate compromised security or unexpected updates."
   ]
  },
  {
   "cell_type": "code",
   "execution_count": 9,
   "id": "9027d3af-45e4-48cb-9f7a-e13d866397e0",
   "metadata": {},
   "outputs": [],
   "source": [
    "devices = response_devices.json()"
   ]
  },
  {
   "cell_type": "code",
   "execution_count": 10,
   "id": "85ba8047-1f79-4687-b406-61de5935053c",
   "metadata": {},
   "outputs": [],
   "source": [
    "d_data = devices['data']"
   ]
  },
  {
   "cell_type": "code",
   "execution_count": 11,
   "id": "e3c13dea-01ee-4d3b-a645-508a14273378",
   "metadata": {},
   "outputs": [],
   "source": [
    "ids_sno = [(device['id'], device['serial'], device['name']) for device in d_data]"
   ]
  },
  {
   "cell_type": "code",
   "execution_count": 12,
   "id": "9c1f31ce-afdb-46f7-8688-7604c776cf9b",
   "metadata": {},
   "outputs": [],
   "source": [
    "\n",
    "serials_df = pd.DataFrame(ids_sno, columns=['id', 'serial_no', 'name'])"
   ]
  },
  {
   "cell_type": "code",
   "execution_count": 13,
   "id": "f3ac034b-770d-4e5f-96a2-c7d7029886d7",
   "metadata": {},
   "outputs": [],
   "source": [
    "site_routers_df = serials_df.copy()"
   ]
  },
  {
   "cell_type": "code",
   "execution_count": 14,
   "id": "bf1f6a37-0114-4512-b45d-1d5bc85a916d",
   "metadata": {},
   "outputs": [
    {
     "data": {
      "text/plain": [
       "0               RUT955_BTW_500\n",
       "1           RUT955_Airport_573\n",
       "2             RUT950_Spare_000\n",
       "3    RUT950_Marlborough_St_672\n",
       "4         RUT950_Parson_St_215\n",
       "5    RUT950_Colston_Avenue_501\n",
       "6         RUT950_Fishponds_463\n",
       "7        RUT950_Wells_Road_270\n",
       "8       RUT950_Brislington_203\n",
       "Name: name, dtype: string"
      ]
     },
     "execution_count": 14,
     "metadata": {},
     "output_type": "execute_result"
    }
   ],
   "source": [
    "site_routers_df['name'].astype(\"string\")"
   ]
  },
  {
   "cell_type": "code",
   "execution_count": 15,
   "id": "bad54b08-fc08-4f8f-97d3-164b05c5887d",
   "metadata": {},
   "outputs": [],
   "source": [
    "def mk_name(t_string):\n",
    "    '''Strips out the start and end portions of the name string'''\n",
    "    nicename = re.sub(pattern = \"_\", repl = \" \", string = t_string[7:-4]).strip()\n",
    "    return nicename    \n"
   ]
  },
  {
   "cell_type": "code",
   "execution_count": 16,
   "id": "a64f5570-98b6-4733-9447-af855381da38",
   "metadata": {},
   "outputs": [],
   "source": [
    "site_routers_df['Site'] = site_routers_df.name.apply(mk_name)"
   ]
  },
  {
   "cell_type": "code",
   "execution_count": 17,
   "id": "cd1ebc9d-adf3-4915-b33f-8ff9e45b73d1",
   "metadata": {},
   "outputs": [
    {
     "data": {
      "text/html": [
       "<div>\n",
       "<style scoped>\n",
       "    .dataframe tbody tr th:only-of-type {\n",
       "        vertical-align: middle;\n",
       "    }\n",
       "\n",
       "    .dataframe tbody tr th {\n",
       "        vertical-align: top;\n",
       "    }\n",
       "\n",
       "    .dataframe thead th {\n",
       "        text-align: right;\n",
       "    }\n",
       "</style>\n",
       "<table border=\"1\" class=\"dataframe\">\n",
       "  <thead>\n",
       "    <tr style=\"text-align: right;\">\n",
       "      <th></th>\n",
       "      <th>id</th>\n",
       "      <th>serial_no</th>\n",
       "      <th>name</th>\n",
       "      <th>Site</th>\n",
       "    </tr>\n",
       "  </thead>\n",
       "  <tbody>\n",
       "    <tr>\n",
       "      <th>0</th>\n",
       "      <td>413202</td>\n",
       "      <td>1104590839</td>\n",
       "      <td>RUT955_BTW_500</td>\n",
       "      <td>BTW</td>\n",
       "    </tr>\n",
       "    <tr>\n",
       "      <th>1</th>\n",
       "      <td>413145</td>\n",
       "      <td>1104560850</td>\n",
       "      <td>RUT955_Airport_573</td>\n",
       "      <td>Airport</td>\n",
       "    </tr>\n",
       "    <tr>\n",
       "      <th>2</th>\n",
       "      <td>406262</td>\n",
       "      <td>1114535631</td>\n",
       "      <td>RUT950_Spare_000</td>\n",
       "      <td>Spare</td>\n",
       "    </tr>\n",
       "    <tr>\n",
       "      <th>3</th>\n",
       "      <td>404606</td>\n",
       "      <td>1114535283</td>\n",
       "      <td>RUT950_Marlborough_St_672</td>\n",
       "      <td>Marlborough St</td>\n",
       "    </tr>\n",
       "    <tr>\n",
       "      <th>4</th>\n",
       "      <td>404003</td>\n",
       "      <td>1114541531</td>\n",
       "      <td>RUT950_Parson_St_215</td>\n",
       "      <td>Parson St</td>\n",
       "    </tr>\n",
       "    <tr>\n",
       "      <th>5</th>\n",
       "      <td>403462</td>\n",
       "      <td>1114548739</td>\n",
       "      <td>RUT950_Colston_Avenue_501</td>\n",
       "      <td>Colston Avenue</td>\n",
       "    </tr>\n",
       "    <tr>\n",
       "      <th>6</th>\n",
       "      <td>401873</td>\n",
       "      <td>1114530778</td>\n",
       "      <td>RUT950_Fishponds_463</td>\n",
       "      <td>Fishponds</td>\n",
       "    </tr>\n",
       "    <tr>\n",
       "      <th>7</th>\n",
       "      <td>401760</td>\n",
       "      <td>1114535282</td>\n",
       "      <td>RUT950_Wells_Road_270</td>\n",
       "      <td>Wells Road</td>\n",
       "    </tr>\n",
       "    <tr>\n",
       "      <th>8</th>\n",
       "      <td>400809</td>\n",
       "      <td>1114535706</td>\n",
       "      <td>RUT950_Brislington_203</td>\n",
       "      <td>Brislington</td>\n",
       "    </tr>\n",
       "  </tbody>\n",
       "</table>\n",
       "</div>"
      ],
      "text/plain": [
       "       id   serial_no                       name            Site\n",
       "0  413202  1104590839             RUT955_BTW_500             BTW\n",
       "1  413145  1104560850         RUT955_Airport_573         Airport\n",
       "2  406262  1114535631           RUT950_Spare_000           Spare\n",
       "3  404606  1114535283  RUT950_Marlborough_St_672  Marlborough St\n",
       "4  404003  1114541531       RUT950_Parson_St_215       Parson St\n",
       "5  403462  1114548739  RUT950_Colston_Avenue_501  Colston Avenue\n",
       "6  401873  1114530778       RUT950_Fishponds_463       Fishponds\n",
       "7  401760  1114535282      RUT950_Wells_Road_270      Wells Road\n",
       "8  400809  1114535706     RUT950_Brislington_203     Brislington"
      ]
     },
     "execution_count": 17,
     "metadata": {},
     "output_type": "execute_result"
    }
   ],
   "source": [
    "site_routers_df"
   ]
  },
  {
   "cell_type": "code",
   "execution_count": 19,
   "id": "1f4c3cfc-8b41-445a-89f6-2a9ff29be501",
   "metadata": {},
   "outputs": [],
   "source": [
    "# loop over the list of tuples extracting the first item in each tuple\n",
    "ids = [ID for ID, serial, name in ids_sno]\n"
   ]
  },
  {
   "cell_type": "code",
   "execution_count": 20,
   "id": "79164586-3a24-49e8-a0d3-eb2e953190a8",
   "metadata": {},
   "outputs": [],
   "source": [
    "def datause(i_d, start_date, end_date, bearer):\n",
    "    ''' function to fetch the daily data use for a router and return a dataframe'''\n",
    "    time_bit = \" 00:00:00\"\n",
    "    sd = f'{start_date}{time_bit}'\n",
    "    ed = f'{end_date}{time_bit}'\n",
    "    params = {\"start_date\":sd, \"end_date\":ed}\n",
    "    du_url = f\"https://rms.teltonika-networks.com/api/devices/{i_d}/data-usage\"\n",
    "    device_datause = requests.get(du_url, \\\n",
    "                headers = {\"Authorization\": bearer, \"Accept\":\"application/json\"}, \\\n",
    "                params = params)\n",
    "    du = pd.DataFrame(device_datause.json()['data'])\n",
    "    du['i_d'] = i_d\n",
    "    return du\n",
    "    "
   ]
  },
  {
   "cell_type": "code",
   "execution_count": 35,
   "id": "64574293-4ec3-408f-aaa1-5b7ef6468fc4",
   "metadata": {},
   "outputs": [],
   "source": [
    "# check function operation\n",
    "# du = datause(i_d = '413202', start_date = start_date, end_date = end_date, bearer = bearer)"
   ]
  },
  {
   "cell_type": "markdown",
   "id": "1f97c099-ee5d-4ef8-969a-e63fc8965186",
   "metadata": {},
   "source": [
    "This code loops over each router id in the list and runs the function above to get a dataframe of data use, concatenating it into one combined df."
   ]
  },
  {
   "cell_type": "code",
   "execution_count": 21,
   "id": "5c86d628-933a-4a37-91e1-733e250c6e66",
   "metadata": {},
   "outputs": [
    {
     "data": {
      "text/html": [
       "<div>\n",
       "<style scoped>\n",
       "    .dataframe tbody tr th:only-of-type {\n",
       "        vertical-align: middle;\n",
       "    }\n",
       "\n",
       "    .dataframe tbody tr th {\n",
       "        vertical-align: top;\n",
       "    }\n",
       "\n",
       "    .dataframe thead th {\n",
       "        text-align: right;\n",
       "    }\n",
       "</style>\n",
       "<table border=\"1\" class=\"dataframe\">\n",
       "  <thead>\n",
       "    <tr style=\"text-align: right;\">\n",
       "      <th></th>\n",
       "      <th>date</th>\n",
       "      <th>sim1_rx</th>\n",
       "      <th>sim2_rx</th>\n",
       "      <th>sim1_tx</th>\n",
       "      <th>sim2_tx</th>\n",
       "      <th>i_d</th>\n",
       "    </tr>\n",
       "  </thead>\n",
       "  <tbody>\n",
       "    <tr>\n",
       "      <th>0</th>\n",
       "      <td>2022-09-01</td>\n",
       "      <td>2131079</td>\n",
       "      <td>0</td>\n",
       "      <td>2713677</td>\n",
       "      <td>0</td>\n",
       "      <td>413202</td>\n",
       "    </tr>\n",
       "    <tr>\n",
       "      <th>1</th>\n",
       "      <td>2022-09-02</td>\n",
       "      <td>2423346</td>\n",
       "      <td>0</td>\n",
       "      <td>3018082</td>\n",
       "      <td>0</td>\n",
       "      <td>413202</td>\n",
       "    </tr>\n",
       "    <tr>\n",
       "      <th>2</th>\n",
       "      <td>2022-09-03</td>\n",
       "      <td>2207295</td>\n",
       "      <td>0</td>\n",
       "      <td>2885533</td>\n",
       "      <td>0</td>\n",
       "      <td>413202</td>\n",
       "    </tr>\n",
       "    <tr>\n",
       "      <th>3</th>\n",
       "      <td>2022-09-04</td>\n",
       "      <td>2113078</td>\n",
       "      <td>0</td>\n",
       "      <td>2903646</td>\n",
       "      <td>0</td>\n",
       "      <td>413202</td>\n",
       "    </tr>\n",
       "    <tr>\n",
       "      <th>4</th>\n",
       "      <td>2022-09-05</td>\n",
       "      <td>2255319</td>\n",
       "      <td>0</td>\n",
       "      <td>2970863</td>\n",
       "      <td>0</td>\n",
       "      <td>413202</td>\n",
       "    </tr>\n",
       "    <tr>\n",
       "      <th>...</th>\n",
       "      <td>...</td>\n",
       "      <td>...</td>\n",
       "      <td>...</td>\n",
       "      <td>...</td>\n",
       "      <td>...</td>\n",
       "      <td>...</td>\n",
       "    </tr>\n",
       "    <tr>\n",
       "      <th>274</th>\n",
       "      <td>2022-09-27</td>\n",
       "      <td>10218684</td>\n",
       "      <td>0</td>\n",
       "      <td>4983775</td>\n",
       "      <td>0</td>\n",
       "      <td>400809</td>\n",
       "    </tr>\n",
       "    <tr>\n",
       "      <th>275</th>\n",
       "      <td>2022-09-28</td>\n",
       "      <td>250907034</td>\n",
       "      <td>0</td>\n",
       "      <td>10109730</td>\n",
       "      <td>0</td>\n",
       "      <td>400809</td>\n",
       "    </tr>\n",
       "    <tr>\n",
       "      <th>276</th>\n",
       "      <td>2022-09-29</td>\n",
       "      <td>9849940</td>\n",
       "      <td>0</td>\n",
       "      <td>4325711</td>\n",
       "      <td>0</td>\n",
       "      <td>400809</td>\n",
       "    </tr>\n",
       "    <tr>\n",
       "      <th>277</th>\n",
       "      <td>2022-09-30</td>\n",
       "      <td>168847250</td>\n",
       "      <td>0</td>\n",
       "      <td>10008433</td>\n",
       "      <td>0</td>\n",
       "      <td>400809</td>\n",
       "    </tr>\n",
       "    <tr>\n",
       "      <th>278</th>\n",
       "      <td>2022-10-01</td>\n",
       "      <td>17702</td>\n",
       "      <td>0</td>\n",
       "      <td>18929</td>\n",
       "      <td>0</td>\n",
       "      <td>400809</td>\n",
       "    </tr>\n",
       "  </tbody>\n",
       "</table>\n",
       "<p>279 rows × 6 columns</p>\n",
       "</div>"
      ],
      "text/plain": [
       "           date    sim1_rx  sim2_rx   sim1_tx  sim2_tx     i_d\n",
       "0    2022-09-01    2131079        0   2713677        0  413202\n",
       "1    2022-09-02    2423346        0   3018082        0  413202\n",
       "2    2022-09-03    2207295        0   2885533        0  413202\n",
       "3    2022-09-04    2113078        0   2903646        0  413202\n",
       "4    2022-09-05    2255319        0   2970863        0  413202\n",
       "..          ...        ...      ...       ...      ...     ...\n",
       "274  2022-09-27   10218684        0   4983775        0  400809\n",
       "275  2022-09-28  250907034        0  10109730        0  400809\n",
       "276  2022-09-29    9849940        0   4325711        0  400809\n",
       "277  2022-09-30  168847250        0  10008433        0  400809\n",
       "278  2022-10-01      17702        0     18929        0  400809\n",
       "\n",
       "[279 rows x 6 columns]"
      ]
     },
     "execution_count": 21,
     "metadata": {},
     "output_type": "execute_result"
    }
   ],
   "source": [
    "bigdf=pd.DataFrame()\n",
    "for i_d in ids: # for each id in the list\n",
    "    du = datause(i_d = i_d, start_date = start_date, end_date = end_date, bearer = bearer) #call the function to get a df of datause\n",
    "    bigdf=pd.concat([bigdf, du], ignore_index=True) # concatenate (bind_rows)\n",
    "    \n",
    "bigdf"
   ]
  },
  {
   "cell_type": "markdown",
   "id": "fac18108-4cfa-4b92-bbfc-7e9a61b9aac2",
   "metadata": {},
   "source": [
    "The consolidated DataFrame for all routers shows the receive (rx) and transmit (tx) data use for each SIM card in the router. In our routers, only one SIM is used (sim1), so the sim2 columns can be dropped. In addition, the data is shown in bytes. A simple operation converts into MB for optimal display after adding the rx and tx components together.\n",
    "\n",
    "Further, it is useful to see the cumulative data use for each month as exceededing data allowances ('overage') incurs a cost. The data allowances are spread over the whole fleet of routers and are equivalent to 3GB per router per month. The allowances roll over on the 1st of the month."
   ]
  },
  {
   "cell_type": "code",
   "execution_count": 22,
   "id": "e52ca910-3e40-442e-a511-e624b088df50",
   "metadata": {},
   "outputs": [],
   "source": [
    "bigdf['total_data'] = (bigdf['sim1_rx'] + bigdf['sim1_tx']) / (1024 * 1024)\n",
    "bigdf.drop(columns = ['sim1_rx', 'sim2_rx', 'sim2_tx', 'sim1_tx'], inplace = True)\n",
    "\n",
    "# df['cumsum'] = df.groupby('id')['val'].transform(pd.Series.cumsum)\n",
    "\n",
    "bigdf['cum_data'] = bigdf.groupby('i_d')['total_data'].transform(pd.Series.cumsum)\n"
   ]
  },
  {
   "cell_type": "markdown",
   "id": "ead7cb3b-d629-4380-9d36-eecf1588fb07",
   "metadata": {},
   "source": [
    "A `plot_data` Data Frame is constructed by joining the router meta data to the main dataset to enable meaningful display of the chart to be plotted later."
   ]
  },
  {
   "cell_type": "code",
   "execution_count": 23,
   "id": "8fcc83d9-72dd-47b5-aa17-1644c2498639",
   "metadata": {},
   "outputs": [],
   "source": [
    "plot_data = pd.merge(left = bigdf, right = site_routers_df, left_on = 'i_d', right_on = 'id', how = 'inner')"
   ]
  },
  {
   "cell_type": "code",
   "execution_count": 29,
   "id": "7be989e6-e2f9-47e0-a997-6cc7e337dedc",
   "metadata": {},
   "outputs": [
    {
     "data": {
      "image/png": "[encoded data removed]",
      "text/plain": [
       "<Figure size 640x480 with 1 Axes>"
      ]
     },
     "metadata": {},
     "output_type": "display_data"
    },
    {
     "data": {
      "text/plain": [
       "<ggplot: (8734762564813)>"
      ]
     },
     "execution_count": 29,
     "metadata": {},
     "output_type": "execute_result"
    }
   ],
   "source": [
    "\n",
    "(plotnine.ggplot(plot_data, aes('date', 'cum_data', group = 'factor(Site)', color = 'factor(Site)')) +\n",
    "geom_line() +\n",
    "scale_x_date(breaks = \"1 week\", date_labels = \"%d\") +\n",
    "labs(x = \"Date\", colour = \"Site\", y = \"Cumulative Data (MB)\")) \n"
   ]
  },
  {
   "cell_type": "code",
   "execution_count": 33,
   "id": "cd075111-d15c-40d1-a712-7b4eb622c417",
   "metadata": {},
   "outputs": [
    {
     "ename": "NameError",
     "evalue": "name 'ax' is not defined",
     "output_type": "error",
     "traceback": [
      "\u001b[0;31m---------------------------------------------------------------------------\u001b[0m",
      "\u001b[0;31mNameError\u001b[0m                                 Traceback (most recent call last)",
      "Input \u001b[0;32mIn [33]\u001b[0m, in \u001b[0;36m<cell line: 4>\u001b[0;34m()\u001b[0m\n\u001b[1;32m      1\u001b[0m \u001b[38;5;66;03m# sns.lineplot(data=flights, x=\"year\", y=\"passengers\", hue=\"month\")\u001b[39;00m\n\u001b[1;32m      3\u001b[0m sns\u001b[38;5;241m.\u001b[39mlineplot(data \u001b[38;5;241m=\u001b[39m plot_data, x \u001b[38;5;241m=\u001b[39m \u001b[38;5;124m'\u001b[39m\u001b[38;5;124mdate\u001b[39m\u001b[38;5;124m'\u001b[39m, y \u001b[38;5;241m=\u001b[39m \u001b[38;5;124m'\u001b[39m\u001b[38;5;124mcum_data\u001b[39m\u001b[38;5;124m'\u001b[39m, hue \u001b[38;5;241m=\u001b[39m \u001b[38;5;124m'\u001b[39m\u001b[38;5;124mSite\u001b[39m\u001b[38;5;124m'\u001b[39m )\n\u001b[0;32m----> 4\u001b[0m \u001b[43max\u001b[49m\u001b[38;5;241m.\u001b[39mxaxis\u001b[38;5;241m.\u001b[39mset_major_formatter(DateFormatter(\u001b[38;5;124m'\u001b[39m\u001b[38;5;132;01m%d\u001b[39;00m\u001b[38;5;124m'\u001b[39m))\n",
      "\u001b[0;31mNameError\u001b[0m: name 'ax' is not defined"
     ]
    },
    {
     "data": {
      "image/png": "[encoded data removed]",
      "text/plain": [
       "<Figure size 432x288 with 1 Axes>"
      ]
     },
     "metadata": {
      "needs_background": "light"
     },
     "output_type": "display_data"
    }
   ],
   "source": [
    "# sns.lineplot(data=flights, x=\"year\", y=\"passengers\", hue=\"month\")\n",
    "\n",
    "sns.lineplot(data = plot_data, x = 'date', y = 'cum_data', hue = 'Site' )\n",
    "ax.xaxis.set_major_formatter(DateFormatter('%d'))"
   ]
  }
 ],
 "metadata": {
  "kernelspec": {
   "display_name": "Python 3 (ipykernel)",
   "language": "python",
   "name": "python3"
  },
  "language_info": {
   "codemirror_mode": {
    "name": "ipython",
    "version": 3
   },
   "file_extension": ".py",
   "mimetype": "text/x-python",
   "name": "python",
   "nbconvert_exporter": "python",
   "pygments_lexer": "ipython3",
   "version": "3.9.12"
  }
 },
 "nbformat": 4,
 "nbformat_minor": 5
}
