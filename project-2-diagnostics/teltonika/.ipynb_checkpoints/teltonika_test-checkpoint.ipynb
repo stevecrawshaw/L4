{
 "cells": [
  {
   "cell_type": "code",
   "execution_count": 1,
   "id": "e2e87717-fddf-4b53-b4b2-1f691f711648",
   "metadata": {},
   "outputs": [],
   "source": [
    "import pandas as pd, requests, json, io, yaml\n"
   ]
  },
  {
   "cell_type": "markdown",
   "id": "09bd30f1-af7a-4bd3-9470-93afc5ae34e5",
   "metadata": {},
   "source": [
    "The bearer token is provided for the Remote Management System to access router information via the API\n",
    "https://developers.rms.teltonika-networks.com/\n",
    "\n",
    "The PAT for teltonika is stored in a config.yml file for security"
   ]
  },
  {
   "cell_type": "code",
   "execution_count": 2,
   "id": "deca790d-6042-4419-9b42-f1dbec6fb8af",
   "metadata": {},
   "outputs": [],
   "source": [
    "with open('../config.yml', 'r') as file:\n",
    "    cfg = yaml.safe_load(file)"
   ]
  },
  {
   "cell_type": "code",
   "execution_count": 3,
   "id": "8008b6c4-5a7d-4f41-af29-9d9002505014",
   "metadata": {},
   "outputs": [],
   "source": [
    "pat = cfg['teltonika']['pat']"
   ]
  },
  {
   "cell_type": "code",
   "execution_count": 5,
   "id": "1f0ea6e9-700d-4966-95a6-49c792540d3f",
   "metadata": {},
   "outputs": [],
   "source": [
    "url950 = \"https://rms.teltonika-networks.com/api/devices?limit=10&status=online&model=RUT950\"\n",
    "urlall = \"https://rms.teltonika-networks.com/api/devices?limit=10\"\n",
    "shorturl = \"https://rms.teltonika-networks.com/api/devices/\"\n",
    "csv_url = \"https://rms.teltonika-networks.com/api/devices/export/csv\""
   ]
  },
  {
   "cell_type": "code",
   "execution_count": 6,
   "id": "20c2672c-4aab-4c3a-b0fd-fa765eac025a",
   "metadata": {},
   "outputs": [],
   "source": [
    "bearer = f'Bearer {pat}'\n",
    "response_devices = requests.get(urlall, \\\n",
    "                                headers = {\"Authorization\": bearer, \"Accept\":\"application/json\"})"
   ]
  },
  {
   "cell_type": "code",
   "execution_count": 7,
   "id": "0a6aab3a-7eaf-42b3-8919-4b711708fb8f",
   "metadata": {},
   "outputs": [],
   "source": [
    "start_date = \"2022-09-01\"\n",
    "end_date = \"2022-10-01\"\n",
    " \n",
    "\n",
    "fields = \"\"\"id,model,name,serial,mac,wlan_mac,mqtt,\n",
    "last_connection_at,updated_at,status,temperature,\n",
    "signal,cell_id,connection_uptime,iccid,operator,router_uptime,wan_ip\"\"\"\n"
   ]
  },
  {
   "cell_type": "code",
   "execution_count": 8,
   "id": "661530c4-8a3e-4e74-9edb-a2d53c073ed4",
   "metadata": {},
   "outputs": [],
   "source": [
    "response_devices_csv = requests.get(csv_url, \\\n",
    "                                   headers = {\"Authorization\": bearer, \"Accept\":\"text/csv\"}, \\\n",
    "                                   params = {\"fields\":fields})"
   ]
  },
  {
   "cell_type": "code",
   "execution_count": 9,
   "id": "4dcaade0-d6d2-42e4-9558-97c1dda5d63b",
   "metadata": {},
   "outputs": [
    {
     "data": {
      "text/plain": [
       "'https://rms.teltonika-networks.com/api/devices/export/csv?fields=id%2Cmodel%2Cname%2Cserial%2Cmac%2Cwlan_mac%2Cmqtt%2C%0Alast_connection_at%2Cupdated_at%2Cstatus%2Ctemperature%2C%0Asignal%2Ccell_id%2Cconnection_uptime%2Ciccid%2Coperator%2Crouter_uptime%2Cwan_ip'"
      ]
     },
     "execution_count": 9,
     "metadata": {},
     "output_type": "execute_result"
    }
   ],
   "source": [
    "# test_df = pd.read_csv(response_devices_csv.url()) This won't work because of authentication\n",
    "response_devices_csv.url"
   ]
  },
  {
   "cell_type": "code",
   "execution_count": 10,
   "id": "883df77f-c858-44e5-873c-0a0ac7356b87",
   "metadata": {},
   "outputs": [],
   "source": [
    "responses_df = pd.read_csv(io.StringIO(response_devices_csv.text))"
   ]
  },
  {
   "cell_type": "markdown",
   "id": "fbdf46ec-fbfa-4550-9b41-d9c5f3016b38",
   "metadata": {},
   "source": [
    "Use the json response to get id's, then the `data-usage` endpoint to get daily usage stats from each device. Create a dataframe to hold the data usage data for each device to enable plotting to review any spikes in use - could indicate compromised security or unexpected updates."
   ]
  },
  {
   "cell_type": "code",
   "execution_count": 16,
   "id": "9027d3af-45e4-48cb-9f7a-e13d866397e0",
   "metadata": {},
   "outputs": [],
   "source": [
    "devices = response_devices.json()"
   ]
  },
  {
   "cell_type": "code",
   "execution_count": 17,
   "id": "85ba8047-1f79-4687-b406-61de5935053c",
   "metadata": {},
   "outputs": [],
   "source": [
    "d_data = devices['data']"
   ]
  },
  {
   "cell_type": "code",
   "execution_count": 22,
   "id": "e3c13dea-01ee-4d3b-a645-508a14273378",
   "metadata": {},
   "outputs": [],
   "source": [
    "\n",
    "ids_sno = [(device['id'], device['serial']) for device in d_data]"
   ]
  },
  {
   "cell_type": "code",
   "execution_count": 34,
   "id": "9c1f31ce-afdb-46f7-8688-7604c776cf9b",
   "metadata": {},
   "outputs": [],
   "source": [
    "serials_df = pd.DataFrame(ids_sno, columns=['id', 'serial_no'])"
   ]
  },
  {
   "cell_type": "code",
   "execution_count": 35,
   "id": "80dfd9e9-83d1-439f-9e7d-2423276c54f9",
   "metadata": {},
   "outputs": [
    {
     "data": {
      "text/html": [
       "<div>\n",
       "<style scoped>\n",
       "    .dataframe tbody tr th:only-of-type {\n",
       "        vertical-align: middle;\n",
       "    }\n",
       "\n",
       "    .dataframe tbody tr th {\n",
       "        vertical-align: top;\n",
       "    }\n",
       "\n",
       "    .dataframe thead th {\n",
       "        text-align: right;\n",
       "    }\n",
       "</style>\n",
       "<table border=\"1\" class=\"dataframe\">\n",
       "  <thead>\n",
       "    <tr style=\"text-align: right;\">\n",
       "      <th></th>\n",
       "      <th>id</th>\n",
       "      <th>serial_no</th>\n",
       "    </tr>\n",
       "  </thead>\n",
       "  <tbody>\n",
       "    <tr>\n",
       "      <th>0</th>\n",
       "      <td>413202</td>\n",
       "      <td>1104590839</td>\n",
       "    </tr>\n",
       "    <tr>\n",
       "      <th>1</th>\n",
       "      <td>413145</td>\n",
       "      <td>1104560850</td>\n",
       "    </tr>\n",
       "    <tr>\n",
       "      <th>2</th>\n",
       "      <td>406262</td>\n",
       "      <td>1114535631</td>\n",
       "    </tr>\n",
       "    <tr>\n",
       "      <th>3</th>\n",
       "      <td>404606</td>\n",
       "      <td>1114535283</td>\n",
       "    </tr>\n",
       "    <tr>\n",
       "      <th>4</th>\n",
       "      <td>404003</td>\n",
       "      <td>1114541531</td>\n",
       "    </tr>\n",
       "    <tr>\n",
       "      <th>5</th>\n",
       "      <td>403462</td>\n",
       "      <td>1114548739</td>\n",
       "    </tr>\n",
       "    <tr>\n",
       "      <th>6</th>\n",
       "      <td>401873</td>\n",
       "      <td>1114530778</td>\n",
       "    </tr>\n",
       "    <tr>\n",
       "      <th>7</th>\n",
       "      <td>401760</td>\n",
       "      <td>1114535282</td>\n",
       "    </tr>\n",
       "    <tr>\n",
       "      <th>8</th>\n",
       "      <td>400809</td>\n",
       "      <td>1114535706</td>\n",
       "    </tr>\n",
       "  </tbody>\n",
       "</table>\n",
       "</div>"
      ],
      "text/plain": [
       "       id   serial_no\n",
       "0  413202  1104590839\n",
       "1  413145  1104560850\n",
       "2  406262  1114535631\n",
       "3  404606  1114535283\n",
       "4  404003  1114541531\n",
       "5  403462  1114548739\n",
       "6  401873  1114530778\n",
       "7  401760  1114535282\n",
       "8  400809  1114535706"
      ]
     },
     "execution_count": 35,
     "metadata": {},
     "output_type": "execute_result"
    }
   ],
   "source": [
    "serials_df"
   ]
  },
  {
   "cell_type": "code",
   "execution_count": 45,
   "id": "1f4c3cfc-8b41-445a-89f6-2a9ff29be501",
   "metadata": {},
   "outputs": [],
   "source": [
    "\n",
    "time_bit = \" 00:00:00\"\n",
    "sd = f'{start_date}{time_bit}'\n",
    "ed = f'{end_date}{time_bit}'\n",
    "params = {\"start_date\":sd, \"end_date\":ed}\n",
    "i_d = 413202\n",
    "du_url = f\"{shorturl}/{i_d}/'data-usage'\"\n",
    "# loop over thlist of tuples extracting the first item in each tuple\n",
    "ids = [ID for ID, serial in ids_sno]\n"
   ]
  },
  {
   "cell_type": "code",
   "execution_count": 65,
   "id": "79164586-3a24-49e8-a0d3-eb2e953190a8",
   "metadata": {},
   "outputs": [],
   "source": [
    "def datause(i_d, start_date, end_date, bearer):\n",
    "    time_bit = \" 00:00:00\"\n",
    "    sd = f'{start_date}{time_bit}'\n",
    "    ed = f'{end_date}{time_bit}'\n",
    "    params = {\"start_date\":sd, \"end_date\":ed}\n",
    "    du_url = f\"https://rms.teltonika-networks.com/api/devices/{i_d}/data-usage\"\n",
    "    device_datause = requests.get(du_url, \\\n",
    "                headers = {\"Authorization\": bearer, \"Accept\":\"application/json\"}, \\\n",
    "                params = params)\n",
    "    du = pd.DataFrame(device_datause.json()['data'])\n",
    "    return du\n",
    "    "
   ]
  },
  {
   "cell_type": "code",
   "execution_count": 58,
   "id": "64574293-4ec3-408f-aaa1-5b7ef6468fc4",
   "metadata": {},
   "outputs": [],
   "source": [
    "du = datause(i_d = '413202', start_date = start_date, end_date = end_date, bearer = bearer)"
   ]
  },
  {
   "cell_type": "code",
   "execution_count": 71,
   "id": "ceae636b-a6ee-4f61-81f0-cc708678a6b5",
   "metadata": {},
   "outputs": [],
   "source": [
    "# pd.DataFrame(du.json()['data'])\n",
    "# du.json()\n",
    "appended_data = []\n",
    "for i_d in ids:\n",
    "    du = datause(i_d = i_d, start_date = start_date, end_date = end_date, bearer = bearer)\n",
    "    # store DataFrame in list\n",
    "    list_of_dfs = appended_data.append(du)\n",
    "    \n",
    "#combined_dfs = pd.concat(du)\n",
    "\n"
   ]
  },
  {
   "cell_type": "code",
   "execution_count": 76,
   "id": "5c86d628-933a-4a37-91e1-733e250c6e66",
   "metadata": {},
   "outputs": [
    {
     "data": {
      "text/html": [
       "<div>\n",
       "<style scoped>\n",
       "    .dataframe tbody tr th:only-of-type {\n",
       "        vertical-align: middle;\n",
       "    }\n",
       "\n",
       "    .dataframe tbody tr th {\n",
       "        vertical-align: top;\n",
       "    }\n",
       "\n",
       "    .dataframe thead th {\n",
       "        text-align: right;\n",
       "    }\n",
       "</style>\n",
       "<table border=\"1\" class=\"dataframe\">\n",
       "  <thead>\n",
       "    <tr style=\"text-align: right;\">\n",
       "      <th></th>\n",
       "      <th>date</th>\n",
       "      <th>sim1_rx</th>\n",
       "      <th>sim2_rx</th>\n",
       "      <th>sim1_tx</th>\n",
       "      <th>sim2_tx</th>\n",
       "    </tr>\n",
       "  </thead>\n",
       "  <tbody>\n",
       "    <tr>\n",
       "      <th>0</th>\n",
       "      <td>2022-09-01</td>\n",
       "      <td>2131079</td>\n",
       "      <td>0</td>\n",
       "      <td>2713677</td>\n",
       "      <td>0</td>\n",
       "    </tr>\n",
       "    <tr>\n",
       "      <th>1</th>\n",
       "      <td>2022-09-02</td>\n",
       "      <td>2423346</td>\n",
       "      <td>0</td>\n",
       "      <td>3018082</td>\n",
       "      <td>0</td>\n",
       "    </tr>\n",
       "    <tr>\n",
       "      <th>2</th>\n",
       "      <td>2022-09-03</td>\n",
       "      <td>2207295</td>\n",
       "      <td>0</td>\n",
       "      <td>2885533</td>\n",
       "      <td>0</td>\n",
       "    </tr>\n",
       "    <tr>\n",
       "      <th>3</th>\n",
       "      <td>2022-09-04</td>\n",
       "      <td>2113078</td>\n",
       "      <td>0</td>\n",
       "      <td>2903646</td>\n",
       "      <td>0</td>\n",
       "    </tr>\n",
       "    <tr>\n",
       "      <th>4</th>\n",
       "      <td>2022-09-05</td>\n",
       "      <td>2255319</td>\n",
       "      <td>0</td>\n",
       "      <td>2970863</td>\n",
       "      <td>0</td>\n",
       "    </tr>\n",
       "    <tr>\n",
       "      <th>...</th>\n",
       "      <td>...</td>\n",
       "      <td>...</td>\n",
       "      <td>...</td>\n",
       "      <td>...</td>\n",
       "      <td>...</td>\n",
       "    </tr>\n",
       "    <tr>\n",
       "      <th>274</th>\n",
       "      <td>2022-09-27</td>\n",
       "      <td>10218684</td>\n",
       "      <td>0</td>\n",
       "      <td>4983775</td>\n",
       "      <td>0</td>\n",
       "    </tr>\n",
       "    <tr>\n",
       "      <th>275</th>\n",
       "      <td>2022-09-28</td>\n",
       "      <td>250907034</td>\n",
       "      <td>0</td>\n",
       "      <td>10109730</td>\n",
       "      <td>0</td>\n",
       "    </tr>\n",
       "    <tr>\n",
       "      <th>276</th>\n",
       "      <td>2022-09-29</td>\n",
       "      <td>9849940</td>\n",
       "      <td>0</td>\n",
       "      <td>4325711</td>\n",
       "      <td>0</td>\n",
       "    </tr>\n",
       "    <tr>\n",
       "      <th>277</th>\n",
       "      <td>2022-09-30</td>\n",
       "      <td>168847250</td>\n",
       "      <td>0</td>\n",
       "      <td>10008433</td>\n",
       "      <td>0</td>\n",
       "    </tr>\n",
       "    <tr>\n",
       "      <th>278</th>\n",
       "      <td>2022-10-01</td>\n",
       "      <td>17702</td>\n",
       "      <td>0</td>\n",
       "      <td>18929</td>\n",
       "      <td>0</td>\n",
       "    </tr>\n",
       "  </tbody>\n",
       "</table>\n",
       "<p>279 rows × 5 columns</p>\n",
       "</div>"
      ],
      "text/plain": [
       "           date    sim1_rx  sim2_rx   sim1_tx  sim2_tx\n",
       "0    2022-09-01    2131079        0   2713677        0\n",
       "1    2022-09-02    2423346        0   3018082        0\n",
       "2    2022-09-03    2207295        0   2885533        0\n",
       "3    2022-09-04    2113078        0   2903646        0\n",
       "4    2022-09-05    2255319        0   2970863        0\n",
       "..          ...        ...      ...       ...      ...\n",
       "274  2022-09-27   10218684        0   4983775        0\n",
       "275  2022-09-28  250907034        0  10109730        0\n",
       "276  2022-09-29    9849940        0   4325711        0\n",
       "277  2022-09-30  168847250        0  10008433        0\n",
       "278  2022-10-01      17702        0     18929        0\n",
       "\n",
       "[279 rows x 5 columns]"
      ]
     },
     "execution_count": 76,
     "metadata": {},
     "output_type": "execute_result"
    }
   ],
   "source": [
    "bigdf=pd.DataFrame()\n",
    "for i_d in ids: # for each id in the list\n",
    "    du = datause(i_d = i_d, start_date = start_date, end_date = end_date, bearer = bearer) #call the function to get a df of datause\n",
    "    bigdf=pd.concat([data_you_need, du], ignore_index=True) # concatenate (bind_rows)\n",
    "    \n",
    "bigdf"
   ]
  }
 ],
 "metadata": {
  "kernelspec": {
   "display_name": "Python 3 (ipykernel)",
   "language": "python",
   "name": "python3"
  },
  "language_info": {
   "codemirror_mode": {
    "name": "ipython",
    "version": 3
   },
   "file_extension": ".py",
   "mimetype": "text/x-python",
   "name": "python",
   "nbconvert_exporter": "python",
   "pygments_lexer": "ipython3",
   "version": "3.9.12"
  }
 },
 "nbformat": 4,
 "nbformat_minor": 5
}
