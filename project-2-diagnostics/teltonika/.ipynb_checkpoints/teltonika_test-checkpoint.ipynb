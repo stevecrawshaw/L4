{
 "cells": [
  {
   "cell_type": "code",
   "execution_count": 1,
   "id": "e2e87717-fddf-4b53-b4b2-1f691f711648",
   "metadata": {},
   "outputs": [],
   "source": [
    "import pandas as pd, requests, json, io, yaml\n"
   ]
  },
  {
   "cell_type": "markdown",
   "id": "09bd30f1-af7a-4bd3-9470-93afc5ae34e5",
   "metadata": {},
   "source": [
    "The bearer token is provided for the Remote Management System to access router information via the API\n",
    "https://developers.rms.teltonika-networks.com/\n",
    "\n",
    "The PAT for teltonika is stored in a config.yml file for security"
   ]
  },
  {
   "cell_type": "code",
   "execution_count": 3,
   "id": "deca790d-6042-4419-9b42-f1dbec6fb8af",
   "metadata": {},
   "outputs": [],
   "source": [
    "with open('../config.yml', 'r') as file:\n",
    "    cfg = yaml.safe_load(file)"
   ]
  },
  {
   "cell_type": "code",
   "execution_count": 7,
   "id": "8008b6c4-5a7d-4f41-af29-9d9002505014",
   "metadata": {},
   "outputs": [],
   "source": [
    "pat = cfg['teltonika']['pat']"
   ]
  },
  {
   "cell_type": "code",
   "execution_count": 27,
   "id": "1f0ea6e9-700d-4966-95a6-49c792540d3f",
   "metadata": {},
   "outputs": [],
   "source": [
    "url950 = \"https://rms.teltonika-networks.com/api/devices?limit=10&status=online&model=RUT950\"\n",
    "urlall = \"https://rms.teltonika-networks.com/api/devices?limit=10\"\n",
    "shorturl = \"https://rms.teltonika-networks.com/api/devices/\"\n",
    "csv_url = \"https://rms.teltonika-networks.com/api/devices/export/csv\""
   ]
  },
  {
   "cell_type": "code",
   "execution_count": 15,
   "id": "20c2672c-4aab-4c3a-b0fd-fa765eac025a",
   "metadata": {},
   "outputs": [],
   "source": [
    "bearer = f'Bearer {pat}'\n",
    "response_devices = requests.get(urlall, \\\n",
    "                                headers = {\"Authorization\": bearer, \"Accept\":\"application/json\"})"
   ]
  },
  {
   "cell_type": "code",
   "execution_count": 38,
   "id": "0a6aab3a-7eaf-42b3-8919-4b711708fb8f",
   "metadata": {},
   "outputs": [],
   "source": [
    "start_date = \"2022-09-01\"\n",
    "end_date = \"2022-10-01\"\n",
    " \n",
    "\n",
    "fields = \"\"\"id,model,name,serial,mac,wlan_mac,mqtt,\n",
    "last_connection_at,updated_at,status,temperature,\n",
    "signal,cell_id,connection_uptime,iccid,operator,router_uptime,wan_ip\"\"\"\n"
   ]
  },
  {
   "cell_type": "code",
   "execution_count": 28,
   "id": "661530c4-8a3e-4e74-9edb-a2d53c073ed4",
   "metadata": {},
   "outputs": [],
   "source": [
    "response_devices_csv = requests.get(csv_url, \\\n",
    "                                   headers = {\"Authorization\": bearer, \"Accept\":\"text/csv\"}, \\\n",
    "                                   params = {\"fields\":fields})"
   ]
  },
  {
   "cell_type": "code",
   "execution_count": 43,
   "id": "4dcaade0-d6d2-42e4-9558-97c1dda5d63b",
   "metadata": {},
   "outputs": [
    {
     "data": {
      "text/plain": [
       "'https://rms.teltonika-networks.com/api/devices/export/csv?fields=id%2Cmodel%2Cname%2Cserial%2Cmac%2Cwlan_mac%2Cmqtt%2C%0Alast_connection_at%2Cupdated_at%2Cstatus%2Ctemperature%2C%0Asignal%2Ccell_id%2Cconnection_uptime%2Ciccid%2Coperator%2Crouter_uptime%2Cwan_ip'"
      ]
     },
     "execution_count": 43,
     "metadata": {},
     "output_type": "execute_result"
    }
   ],
   "source": [
    "# test_df = pd.read_csv(response_devices_csv.url()) This won't work because of authentication\n",
    "response_devices_csv.url"
   ]
  },
  {
   "cell_type": "code",
   "execution_count": 44,
   "id": "883df77f-c858-44e5-873c-0a0ac7356b87",
   "metadata": {},
   "outputs": [],
   "source": [
    "responses_df = pd.read_csv(io.StringIO(response_devices_csv.text))"
   ]
  },
  {
   "cell_type": "code",
   "execution_count": 45,
   "id": "9027d3af-45e4-48cb-9f7a-e13d866397e0",
   "metadata": {},
   "outputs": [
    {
     "name": "stdout",
     "output_type": "stream",
     "text": [
      "    model                       name      serial                mac  \\\n",
      "0  RUT955             RUT955_BTW_500  1104590839  00:1E:42:26:13:4B   \n",
      "1  RUT955         RUT955_Airport_573  1104560850  00:1E:42:25:A7:A0   \n",
      "2  RUT950               RUT950_Spare  1114535631  00:1E:42:39:6C:80   \n",
      "3  RUT950  RUT950_Marlborough_St_672  1114535283  00:1E:42:3E:78:16   \n",
      "4  RUT950       RUT950_Parson_St_215  1114541531  00:1E:42:37:41:CB   \n",
      "5  RUT950  RUT950_Colston_Avenue_501  1114548739  00:1E:42:3D:1E:54   \n",
      "6  RUT950       RUT950_Fishponds_463  1114530778  00:1E:42:3A:4B:0D   \n",
      "7  RUT950      RUT950_Wells_Road_270  1114535282  00:1E:42:3E:53:FE   \n",
      "8  RUT950     RUT950_Brislington_203  1114535706  00:1E:42:3E:05:6F   \n",
      "\n",
      "            wlan_mac  mqtt     updated_at (UTC)  status  temperature °C  \\\n",
      "0  00:1E:42:26:13:4D     1  2022-10-20 08:02:18       1              41   \n",
      "1  00:1E:42:25:A7:A2     1  2022-10-16 13:02:05       1              42   \n",
      "2  00:1E:42:39:6C:82     2  2022-10-24 09:57:57       1              34   \n",
      "3  00:1E:42:3E:78:18     1  2022-10-01 04:03:54       1              44   \n",
      "4  00:1E:42:37:41:CD     1  2022-10-24 18:45:49       1              45   \n",
      "5  00:1E:42:3D:1E:56     1  2022-10-21 11:01:49       1              40   \n",
      "6  00:1E:42:3A:4B:0F     1  2022-10-26 07:34:56       1              45   \n",
      "7  00:1E:42:3E:54:00     1  2022-10-11 13:57:45       1              46   \n",
      "8  00:1E:42:3E:05:71     1  2022-10-27 16:24:45       1              43   \n",
      "\n",
      "     cell_id  connection_uptime                 iccid         operator  \\\n",
      "0  2562563.0           647405.0  8931080019070910261F           EE KPN   \n",
      "1  1294882.0           197871.0  8931080820093498873F  vodafone UK KPN   \n",
      "2        NaN                NaN                   NaN              NaN   \n",
      "3  4019218.0          2303432.0  8931080019070910436F              KPN   \n",
      "4  2572800.0           546823.0  8931080820093498956F              KPN   \n",
      "5  4019218.0           550408.0  8931081121037733890F              KPN   \n",
      "6  2581771.0          5776872.0  8931080019070910279F           EE KPN   \n",
      "7  4109314.0          3901684.0  8931081121037733882F              KPN   \n",
      "8  2141820.0           552268.0  8931081121037734153F              KPN   \n",
      "\n",
      "   router_uptime          wan_ip  \n",
      "0         647488   154.62.176.27  \n",
      "1         975083   154.60.77.254  \n",
      "2        8796176   192.168.2.177  \n",
      "3        2303466  154.62.179.190  \n",
      "4         546857   154.60.77.253  \n",
      "5         550441  154.51.167.239  \n",
      "6        8185983   154.62.176.26  \n",
      "7        3901721  154.51.167.250  \n",
      "8         552303  154.51.167.254  \n"
     ]
    }
   ],
   "source": [
    "\n",
    "print(responses_df)"
   ]
  }
 ],
 "metadata": {
  "kernelspec": {
   "display_name": "Python 3 (ipykernel)",
   "language": "python",
   "name": "python3"
  },
  "language_info": {
   "codemirror_mode": {
    "name": "ipython",
    "version": 3
   },
   "file_extension": ".py",
   "mimetype": "text/x-python",
   "name": "python",
   "nbconvert_exporter": "python",
   "pygments_lexer": "ipython3",
   "version": "3.9.12"
  }
 },
 "nbformat": 4,
 "nbformat_minor": 5
}
