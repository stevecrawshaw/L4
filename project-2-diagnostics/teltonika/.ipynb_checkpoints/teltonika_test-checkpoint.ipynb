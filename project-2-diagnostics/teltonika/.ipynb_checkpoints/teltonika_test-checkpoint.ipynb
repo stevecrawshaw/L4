{
 "cells": [
  {
   "cell_type": "code",
   "execution_count": 1,
   "id": "e2e87717-fddf-4b53-b4b2-1f691f711648",
   "metadata": {},
   "outputs": [],
   "source": [
    "import pandas as pd, numpy as np, requests, json, io, yaml, plotnine, seaborn as sns, re\n"
   ]
  },
  {
   "cell_type": "code",
   "execution_count": 2,
   "id": "faa86cd9-bed9-4075-b09e-8fa89fdd8921",
   "metadata": {},
   "outputs": [],
   "source": [
    "from plotnine import *"
   ]
  },
  {
   "cell_type": "markdown",
   "id": "09bd30f1-af7a-4bd3-9470-93afc5ae34e5",
   "metadata": {},
   "source": [
    "The bearer token is provided for the Remote Management System to access router information via the API\n",
    "https://developers.rms.teltonika-networks.com/\n",
    "\n",
    "The PAT for teltonika is stored in a config.yml file for security"
   ]
  },
  {
   "cell_type": "code",
   "execution_count": 3,
   "id": "deca790d-6042-4419-9b42-f1dbec6fb8af",
   "metadata": {},
   "outputs": [],
   "source": [
    "with open('../config.yml', 'r') as file:\n",
    "    cfg = yaml.safe_load(file)"
   ]
  },
  {
   "cell_type": "code",
   "execution_count": 4,
   "id": "8008b6c4-5a7d-4f41-af29-9d9002505014",
   "metadata": {},
   "outputs": [],
   "source": [
    "pat = cfg['teltonika']['pat']\n",
    "bearer = f'Bearer {pat}'"
   ]
  },
  {
   "cell_type": "markdown",
   "id": "923d22e3-5cbd-42a8-a092-578a0d90a22c",
   "metadata": {},
   "source": [
    "The performance metrics are queried for each month - as defined by start and end dates supplied as variables in the cell below. In addition we define fields for data collected by the routers which may indicate performance in various ways. Of key interest is data usage (collected via a separate end point later)."
   ]
  },
  {
   "cell_type": "code",
   "execution_count": 32,
   "id": "ca07f138-d2a4-4312-82a6-1936b4dfb1ec",
   "metadata": {},
   "outputs": [],
   "source": [
    "from datetime import datetime\n",
    "\n",
    "start_date = \"2022-12-01\"\n",
    "end_date = \"2022-12-31\"\n",
    " \n",
    "moi  = str(datetime.fromisoformat(start_date).strftime(\"%B\"))\n",
    "yoi = str(datetime.fromisoformat(start_date).strftime(\"%Y\"))\n",
    "fields = \"\"\"id,model,name,serial,mac,wlan_mac,mqtt,\n",
    "last_connection_at,updated_at,status,temperature,\n",
    "signal,cell_id,connection_uptime,iccid,operator,router_uptime,wan_ip\"\"\"\n",
    "\n"
   ]
  },
  {
   "cell_type": "markdown",
   "id": "4b32e502-151d-4373-ac39-3ccd7419c92d",
   "metadata": {},
   "source": [
    "API URLs"
   ]
  },
  {
   "cell_type": "code",
   "execution_count": 6,
   "id": "1f0ea6e9-700d-4966-95a6-49c792540d3f",
   "metadata": {},
   "outputs": [],
   "source": [
    "url950 = \"https://rms.teltonika-networks.com/api/devices?limit=10&status=online&model=RUT950\"\n",
    "urlall = \"https://rms.teltonika-networks.com/api/devices?limit=10\"\n",
    "shorturl = \"https://rms.teltonika-networks.com/api/devices/\"\n",
    "csv_url = \"https://rms.teltonika-networks.com/api/devices/export/csv\""
   ]
  },
  {
   "cell_type": "markdown",
   "id": "3f5a0865-3a1d-4daa-b677-5c1a3f34d953",
   "metadata": {},
   "source": [
    "Basic information about the devices, the response is in JSON. This endpoint is needed because the router id's are not returned in the csv version."
   ]
  },
  {
   "cell_type": "code",
   "execution_count": 33,
   "id": "20c2672c-4aab-4c3a-b0fd-fa765eac025a",
   "metadata": {},
   "outputs": [],
   "source": [
    "response_devices = requests.get(urlall, \\\n",
    "                                headers = {\"Authorization\": bearer, \"Accept\":\"application/json\"})"
   ]
  },
  {
   "cell_type": "markdown",
   "id": "3ddb5b5b-919c-4e34-9095-975c7ed1c7a7",
   "metadata": {},
   "source": [
    "The API call below brings in a range of metrics defined in the field parameter. CSV endpoint used for larger datasets.\n"
   ]
  },
  {
   "cell_type": "code",
   "execution_count": 34,
   "id": "661530c4-8a3e-4e74-9edb-a2d53c073ed4",
   "metadata": {},
   "outputs": [],
   "source": [
    "response_devices_csv = requests.get(csv_url, \\\n",
    "                                   headers = {\"Authorization\": bearer, \"Accept\":\"text/csv\"}, \\\n",
    "                                   params = {\"fields\":fields})"
   ]
  },
  {
   "cell_type": "markdown",
   "id": "e1d4f0ed-4259-4e64-8e90-6a9f7dd117f2",
   "metadata": {},
   "source": [
    "We convert to a DataFrame here for use in further analysis."
   ]
  },
  {
   "cell_type": "code",
   "execution_count": 35,
   "id": "883df77f-c858-44e5-873c-0a0ac7356b87",
   "metadata": {},
   "outputs": [],
   "source": [
    "responses_df = pd.read_csv(io.StringIO(response_devices_csv.text))"
   ]
  },
  {
   "cell_type": "code",
   "execution_count": 36,
   "id": "aabd3547-4aaa-42d7-b513-80fcbf6ae606",
   "metadata": {},
   "outputs": [
    {
     "data": {
      "text/html": [
       "<div>\n",
       "<style scoped>\n",
       "    .dataframe tbody tr th:only-of-type {\n",
       "        vertical-align: middle;\n",
       "    }\n",
       "\n",
       "    .dataframe tbody tr th {\n",
       "        vertical-align: top;\n",
       "    }\n",
       "\n",
       "    .dataframe thead th {\n",
       "        text-align: right;\n",
       "    }\n",
       "</style>\n",
       "<table border=\"1\" class=\"dataframe\">\n",
       "  <thead>\n",
       "    <tr style=\"text-align: right;\">\n",
       "      <th></th>\n",
       "      <th>model</th>\n",
       "      <th>name</th>\n",
       "      <th>serial</th>\n",
       "      <th>mac</th>\n",
       "      <th>wlan_mac</th>\n",
       "      <th>mqtt</th>\n",
       "      <th>updated_at (UTC)</th>\n",
       "      <th>status</th>\n",
       "      <th>temperature °C</th>\n",
       "      <th>cell_id</th>\n",
       "      <th>connection_uptime</th>\n",
       "      <th>iccid</th>\n",
       "      <th>operator</th>\n",
       "      <th>router_uptime</th>\n",
       "      <th>wan_ip</th>\n",
       "    </tr>\n",
       "  </thead>\n",
       "  <tbody>\n",
       "    <tr>\n",
       "      <th>0</th>\n",
       "      <td>RUT955</td>\n",
       "      <td>RUT955_BTW_500</td>\n",
       "      <td>1104590839</td>\n",
       "      <td>00:1E:42:26:13:4B</td>\n",
       "      <td>00:1E:42:26:13:4D</td>\n",
       "      <td>1</td>\n",
       "      <td>2023-01-28 16:55:01</td>\n",
       "      <td>1</td>\n",
       "      <td>43</td>\n",
       "      <td>2562563</td>\n",
       "      <td>890719.0</td>\n",
       "      <td>8931080019070910261F</td>\n",
       "      <td>EE KPN</td>\n",
       "      <td>890804</td>\n",
       "      <td>154.62.176.27</td>\n",
       "    </tr>\n",
       "    <tr>\n",
       "      <th>1</th>\n",
       "      <td>RUT955</td>\n",
       "      <td>RUT955_Airport_573</td>\n",
       "      <td>1104560850</td>\n",
       "      <td>00:1E:42:25:A7:A0</td>\n",
       "      <td>00:1E:42:25:A7:A2</td>\n",
       "      <td>1</td>\n",
       "      <td>2023-02-02 12:33:03</td>\n",
       "      <td>1</td>\n",
       "      <td>35</td>\n",
       "      <td>1294886</td>\n",
       "      <td>193005.0</td>\n",
       "      <td>8931080820093498873F</td>\n",
       "      <td>vodafone UK KPN</td>\n",
       "      <td>466054</td>\n",
       "      <td>154.60.77.254</td>\n",
       "    </tr>\n",
       "    <tr>\n",
       "      <th>2</th>\n",
       "      <td>RUT950</td>\n",
       "      <td>RUT950_Spare_000</td>\n",
       "      <td>1114535631</td>\n",
       "      <td>00:1E:42:39:6C:80</td>\n",
       "      <td>00:1E:42:39:6C:82</td>\n",
       "      <td>3</td>\n",
       "      <td>2023-01-22 21:16:24</td>\n",
       "      <td>1</td>\n",
       "      <td>33</td>\n",
       "      <td>NaN</td>\n",
       "      <td>NaN</td>\n",
       "      <td>NaN</td>\n",
       "      <td>NaN</td>\n",
       "      <td>1112534</td>\n",
       "      <td>192.168.2.177</td>\n",
       "    </tr>\n",
       "    <tr>\n",
       "      <th>3</th>\n",
       "      <td>RUT950</td>\n",
       "      <td>RUT950_Marlborough_St_672</td>\n",
       "      <td>1114535283</td>\n",
       "      <td>00:1E:42:3E:78:16</td>\n",
       "      <td>00:1E:42:3E:78:18</td>\n",
       "      <td>1</td>\n",
       "      <td>2023-01-20 16:02:50</td>\n",
       "      <td>1</td>\n",
       "      <td>39</td>\n",
       "      <td>8502786</td>\n",
       "      <td>1303464.0</td>\n",
       "      <td>8931080019070910436F</td>\n",
       "      <td>KPN</td>\n",
       "      <td>1303501</td>\n",
       "      <td>154.62.179.190</td>\n",
       "    </tr>\n",
       "    <tr>\n",
       "      <th>4</th>\n",
       "      <td>RUT950</td>\n",
       "      <td>RUT950_Parson_St_215</td>\n",
       "      <td>1114541531</td>\n",
       "      <td>00:1E:42:37:41:CB</td>\n",
       "      <td>00:1E:42:37:41:CD</td>\n",
       "      <td>1</td>\n",
       "      <td>2023-01-20 16:47:07</td>\n",
       "      <td>1</td>\n",
       "      <td>46</td>\n",
       "      <td>2572800</td>\n",
       "      <td>1328974.0</td>\n",
       "      <td>8931080820093498956F</td>\n",
       "      <td>KPN</td>\n",
       "      <td>1329007</td>\n",
       "      <td>154.60.77.253</td>\n",
       "    </tr>\n",
       "    <tr>\n",
       "      <th>5</th>\n",
       "      <td>RUT950</td>\n",
       "      <td>RUT950_Colston_Avenue_501</td>\n",
       "      <td>1114548739</td>\n",
       "      <td>00:1E:42:3D:1E:54</td>\n",
       "      <td>00:1E:42:3D:1E:56</td>\n",
       "      <td>1</td>\n",
       "      <td>2023-02-02 14:01:56</td>\n",
       "      <td>1</td>\n",
       "      <td>36</td>\n",
       "      <td>4019212</td>\n",
       "      <td>187729.0</td>\n",
       "      <td>8931081121037733890F</td>\n",
       "      <td>KPN</td>\n",
       "      <td>187761</td>\n",
       "      <td>154.51.167.239</td>\n",
       "    </tr>\n",
       "    <tr>\n",
       "      <th>6</th>\n",
       "      <td>RUT950</td>\n",
       "      <td>RUT950_Fishponds_463</td>\n",
       "      <td>1114530778</td>\n",
       "      <td>00:1E:42:3A:4B:0D</td>\n",
       "      <td>00:1E:42:3A:4B:0F</td>\n",
       "      <td>1</td>\n",
       "      <td>2023-01-11 15:05:53</td>\n",
       "      <td>1</td>\n",
       "      <td>39</td>\n",
       "      <td>2581768</td>\n",
       "      <td>1924768.0</td>\n",
       "      <td>8931080019070910279F</td>\n",
       "      <td>EE KPN</td>\n",
       "      <td>2084597</td>\n",
       "      <td>154.62.176.26</td>\n",
       "    </tr>\n",
       "    <tr>\n",
       "      <th>7</th>\n",
       "      <td>RUT950</td>\n",
       "      <td>RUT950_Wells_Road_270</td>\n",
       "      <td>1114535282</td>\n",
       "      <td>00:1E:42:3E:53:FE</td>\n",
       "      <td>00:1E:42:3E:54:00</td>\n",
       "      <td>3</td>\n",
       "      <td>2023-01-13 11:26:25</td>\n",
       "      <td>1</td>\n",
       "      <td>44</td>\n",
       "      <td>03EB40B</td>\n",
       "      <td>1925057.0</td>\n",
       "      <td>8931081121037733882F</td>\n",
       "      <td>EE KPN</td>\n",
       "      <td>1926099</td>\n",
       "      <td>154.51.167.250</td>\n",
       "    </tr>\n",
       "    <tr>\n",
       "      <th>8</th>\n",
       "      <td>RUT950</td>\n",
       "      <td>RUT950_Brislington_203</td>\n",
       "      <td>1114535706</td>\n",
       "      <td>00:1E:42:3E:05:6F</td>\n",
       "      <td>00:1E:42:3E:05:71</td>\n",
       "      <td>1</td>\n",
       "      <td>2023-02-01 15:03:00</td>\n",
       "      <td>1</td>\n",
       "      <td>36</td>\n",
       "      <td>2141820</td>\n",
       "      <td>270290.0</td>\n",
       "      <td>8931081121037734153F</td>\n",
       "      <td>KPN</td>\n",
       "      <td>270324</td>\n",
       "      <td>154.51.167.254</td>\n",
       "    </tr>\n",
       "  </tbody>\n",
       "</table>\n",
       "</div>"
      ],
      "text/plain": [
       "    model                       name      serial                mac  \\\n",
       "0  RUT955             RUT955_BTW_500  1104590839  00:1E:42:26:13:4B   \n",
       "1  RUT955         RUT955_Airport_573  1104560850  00:1E:42:25:A7:A0   \n",
       "2  RUT950           RUT950_Spare_000  1114535631  00:1E:42:39:6C:80   \n",
       "3  RUT950  RUT950_Marlborough_St_672  1114535283  00:1E:42:3E:78:16   \n",
       "4  RUT950       RUT950_Parson_St_215  1114541531  00:1E:42:37:41:CB   \n",
       "5  RUT950  RUT950_Colston_Avenue_501  1114548739  00:1E:42:3D:1E:54   \n",
       "6  RUT950       RUT950_Fishponds_463  1114530778  00:1E:42:3A:4B:0D   \n",
       "7  RUT950      RUT950_Wells_Road_270  1114535282  00:1E:42:3E:53:FE   \n",
       "8  RUT950     RUT950_Brislington_203  1114535706  00:1E:42:3E:05:6F   \n",
       "\n",
       "            wlan_mac  mqtt     updated_at (UTC)  status  temperature °C  \\\n",
       "0  00:1E:42:26:13:4D     1  2023-01-28 16:55:01       1              43   \n",
       "1  00:1E:42:25:A7:A2     1  2023-02-02 12:33:03       1              35   \n",
       "2  00:1E:42:39:6C:82     3  2023-01-22 21:16:24       1              33   \n",
       "3  00:1E:42:3E:78:18     1  2023-01-20 16:02:50       1              39   \n",
       "4  00:1E:42:37:41:CD     1  2023-01-20 16:47:07       1              46   \n",
       "5  00:1E:42:3D:1E:56     1  2023-02-02 14:01:56       1              36   \n",
       "6  00:1E:42:3A:4B:0F     1  2023-01-11 15:05:53       1              39   \n",
       "7  00:1E:42:3E:54:00     3  2023-01-13 11:26:25       1              44   \n",
       "8  00:1E:42:3E:05:71     1  2023-02-01 15:03:00       1              36   \n",
       "\n",
       "   cell_id  connection_uptime                 iccid         operator  \\\n",
       "0  2562563           890719.0  8931080019070910261F           EE KPN   \n",
       "1  1294886           193005.0  8931080820093498873F  vodafone UK KPN   \n",
       "2      NaN                NaN                   NaN              NaN   \n",
       "3  8502786          1303464.0  8931080019070910436F              KPN   \n",
       "4  2572800          1328974.0  8931080820093498956F              KPN   \n",
       "5  4019212           187729.0  8931081121037733890F              KPN   \n",
       "6  2581768          1924768.0  8931080019070910279F           EE KPN   \n",
       "7  03EB40B          1925057.0  8931081121037733882F           EE KPN   \n",
       "8  2141820           270290.0  8931081121037734153F              KPN   \n",
       "\n",
       "   router_uptime          wan_ip  \n",
       "0         890804   154.62.176.27  \n",
       "1         466054   154.60.77.254  \n",
       "2        1112534   192.168.2.177  \n",
       "3        1303501  154.62.179.190  \n",
       "4        1329007   154.60.77.253  \n",
       "5         187761  154.51.167.239  \n",
       "6        2084597   154.62.176.26  \n",
       "7        1926099  154.51.167.250  \n",
       "8         270324  154.51.167.254  "
      ]
     },
     "execution_count": 36,
     "metadata": {},
     "output_type": "execute_result"
    }
   ],
   "source": [
    "responses_df"
   ]
  },
  {
   "cell_type": "markdown",
   "id": "fbdf46ec-fbfa-4550-9b41-d9c5f3016b38",
   "metadata": {},
   "source": [
    "Use the json response to get id's, then the `data-usage` endpoint to get daily usage stats from each device. Create a dataframe to hold the data usage data for each device to enable plotting to review any spikes in use - could indicate compromised security or unexpected updates."
   ]
  },
  {
   "cell_type": "code",
   "execution_count": 37,
   "id": "9027d3af-45e4-48cb-9f7a-e13d866397e0",
   "metadata": {},
   "outputs": [],
   "source": [
    "devices = response_devices.json()"
   ]
  },
  {
   "cell_type": "code",
   "execution_count": 38,
   "id": "85ba8047-1f79-4687-b406-61de5935053c",
   "metadata": {},
   "outputs": [],
   "source": [
    "d_data = devices['data']"
   ]
  },
  {
   "cell_type": "code",
   "execution_count": 39,
   "id": "e3c13dea-01ee-4d3b-a645-508a14273378",
   "metadata": {},
   "outputs": [],
   "source": [
    "ids_sno = [(device['id'], device['serial'], device['name']) for device in d_data]"
   ]
  },
  {
   "cell_type": "code",
   "execution_count": 40,
   "id": "c05b6726-84ca-490c-889d-83479e932460",
   "metadata": {},
   "outputs": [
    {
     "data": {
      "text/plain": [
       "[(413202, '1104590839', 'RUT955_BTW_500'),\n",
       " (413145, '1104560850', 'RUT955_Airport_573'),\n",
       " (406262, '1114535631', 'RUT950_Spare_000'),\n",
       " (404606, '1114535283', 'RUT950_Marlborough_St_672'),\n",
       " (404003, '1114541531', 'RUT950_Parson_St_215'),\n",
       " (403462, '1114548739', 'RUT950_Colston_Avenue_501'),\n",
       " (401873, '1114530778', 'RUT950_Fishponds_463'),\n",
       " (401760, '1114535282', 'RUT950_Wells_Road_270'),\n",
       " (400809, '1114535706', 'RUT950_Brislington_203')]"
      ]
     },
     "execution_count": 40,
     "metadata": {},
     "output_type": "execute_result"
    }
   ],
   "source": [
    "ids_sno"
   ]
  },
  {
   "cell_type": "code",
   "execution_count": 41,
   "id": "9c1f31ce-afdb-46f7-8688-7604c776cf9b",
   "metadata": {},
   "outputs": [],
   "source": [
    "\n",
    "serials_df = pd.DataFrame(ids_sno, columns=['id', 'serial_no', 'name'])"
   ]
  },
  {
   "cell_type": "code",
   "execution_count": 42,
   "id": "f3ac034b-770d-4e5f-96a2-c7d7029886d7",
   "metadata": {},
   "outputs": [],
   "source": [
    "site_routers_df = serials_df.copy()"
   ]
  },
  {
   "cell_type": "code",
   "execution_count": 43,
   "id": "bf1f6a37-0114-4512-b45d-1d5bc85a916d",
   "metadata": {},
   "outputs": [
    {
     "data": {
      "text/plain": [
       "0               RUT955_BTW_500\n",
       "1           RUT955_Airport_573\n",
       "2             RUT950_Spare_000\n",
       "3    RUT950_Marlborough_St_672\n",
       "4         RUT950_Parson_St_215\n",
       "5    RUT950_Colston_Avenue_501\n",
       "6         RUT950_Fishponds_463\n",
       "7        RUT950_Wells_Road_270\n",
       "8       RUT950_Brislington_203\n",
       "Name: name, dtype: string"
      ]
     },
     "execution_count": 43,
     "metadata": {},
     "output_type": "execute_result"
    }
   ],
   "source": [
    "site_routers_df['name'].astype(\"string\")"
   ]
  },
  {
   "cell_type": "code",
   "execution_count": 44,
   "id": "bad54b08-fc08-4f8f-97d3-164b05c5887d",
   "metadata": {},
   "outputs": [],
   "source": [
    "def mk_name(t_string):\n",
    "    '''Strips out the start and end portions of the name string'''\n",
    "    nicename = re.sub(pattern = \"_\", repl = \" \", string = t_string[7:-4]).strip()\n",
    "    return nicename    \n"
   ]
  },
  {
   "cell_type": "code",
   "execution_count": 45,
   "id": "a64f5570-98b6-4733-9447-af855381da38",
   "metadata": {},
   "outputs": [],
   "source": [
    "site_routers_df['Site'] = site_routers_df.name.apply(mk_name)"
   ]
  },
  {
   "cell_type": "code",
   "execution_count": 46,
   "id": "cd1ebc9d-adf3-4915-b33f-8ff9e45b73d1",
   "metadata": {},
   "outputs": [
    {
     "data": {
      "text/html": [
       "<div>\n",
       "<style scoped>\n",
       "    .dataframe tbody tr th:only-of-type {\n",
       "        vertical-align: middle;\n",
       "    }\n",
       "\n",
       "    .dataframe tbody tr th {\n",
       "        vertical-align: top;\n",
       "    }\n",
       "\n",
       "    .dataframe thead th {\n",
       "        text-align: right;\n",
       "    }\n",
       "</style>\n",
       "<table border=\"1\" class=\"dataframe\">\n",
       "  <thead>\n",
       "    <tr style=\"text-align: right;\">\n",
       "      <th></th>\n",
       "      <th>id</th>\n",
       "      <th>serial_no</th>\n",
       "      <th>name</th>\n",
       "      <th>Site</th>\n",
       "    </tr>\n",
       "  </thead>\n",
       "  <tbody>\n",
       "    <tr>\n",
       "      <th>0</th>\n",
       "      <td>413202</td>\n",
       "      <td>1104590839</td>\n",
       "      <td>RUT955_BTW_500</td>\n",
       "      <td>BTW</td>\n",
       "    </tr>\n",
       "    <tr>\n",
       "      <th>1</th>\n",
       "      <td>413145</td>\n",
       "      <td>1104560850</td>\n",
       "      <td>RUT955_Airport_573</td>\n",
       "      <td>Airport</td>\n",
       "    </tr>\n",
       "    <tr>\n",
       "      <th>2</th>\n",
       "      <td>406262</td>\n",
       "      <td>1114535631</td>\n",
       "      <td>RUT950_Spare_000</td>\n",
       "      <td>Spare</td>\n",
       "    </tr>\n",
       "    <tr>\n",
       "      <th>3</th>\n",
       "      <td>404606</td>\n",
       "      <td>1114535283</td>\n",
       "      <td>RUT950_Marlborough_St_672</td>\n",
       "      <td>Marlborough St</td>\n",
       "    </tr>\n",
       "    <tr>\n",
       "      <th>4</th>\n",
       "      <td>404003</td>\n",
       "      <td>1114541531</td>\n",
       "      <td>RUT950_Parson_St_215</td>\n",
       "      <td>Parson St</td>\n",
       "    </tr>\n",
       "    <tr>\n",
       "      <th>5</th>\n",
       "      <td>403462</td>\n",
       "      <td>1114548739</td>\n",
       "      <td>RUT950_Colston_Avenue_501</td>\n",
       "      <td>Colston Avenue</td>\n",
       "    </tr>\n",
       "    <tr>\n",
       "      <th>6</th>\n",
       "      <td>401873</td>\n",
       "      <td>1114530778</td>\n",
       "      <td>RUT950_Fishponds_463</td>\n",
       "      <td>Fishponds</td>\n",
       "    </tr>\n",
       "    <tr>\n",
       "      <th>7</th>\n",
       "      <td>401760</td>\n",
       "      <td>1114535282</td>\n",
       "      <td>RUT950_Wells_Road_270</td>\n",
       "      <td>Wells Road</td>\n",
       "    </tr>\n",
       "    <tr>\n",
       "      <th>8</th>\n",
       "      <td>400809</td>\n",
       "      <td>1114535706</td>\n",
       "      <td>RUT950_Brislington_203</td>\n",
       "      <td>Brislington</td>\n",
       "    </tr>\n",
       "  </tbody>\n",
       "</table>\n",
       "</div>"
      ],
      "text/plain": [
       "       id   serial_no                       name            Site\n",
       "0  413202  1104590839             RUT955_BTW_500             BTW\n",
       "1  413145  1104560850         RUT955_Airport_573         Airport\n",
       "2  406262  1114535631           RUT950_Spare_000           Spare\n",
       "3  404606  1114535283  RUT950_Marlborough_St_672  Marlborough St\n",
       "4  404003  1114541531       RUT950_Parson_St_215       Parson St\n",
       "5  403462  1114548739  RUT950_Colston_Avenue_501  Colston Avenue\n",
       "6  401873  1114530778       RUT950_Fishponds_463       Fishponds\n",
       "7  401760  1114535282      RUT950_Wells_Road_270      Wells Road\n",
       "8  400809  1114535706     RUT950_Brislington_203     Brislington"
      ]
     },
     "execution_count": 46,
     "metadata": {},
     "output_type": "execute_result"
    }
   ],
   "source": [
    "site_routers_df"
   ]
  },
  {
   "cell_type": "code",
   "execution_count": 47,
   "id": "1f4c3cfc-8b41-445a-89f6-2a9ff29be501",
   "metadata": {},
   "outputs": [],
   "source": [
    "# loop over the list of tuples extracting the first item in each tuple\n",
    "ids = [ID for ID, serial, name in ids_sno]\n"
   ]
  },
  {
   "cell_type": "code",
   "execution_count": 48,
   "id": "79164586-3a24-49e8-a0d3-eb2e953190a8",
   "metadata": {},
   "outputs": [],
   "source": [
    "def datause(i_d, start_date, end_date, bearer):\n",
    "    ''' function to fetch the daily data use for a router and return a dataframe'''\n",
    "    time_bit = \" 00:00:00\"\n",
    "    sd = f'{start_date}{time_bit}'\n",
    "    ed = f'{end_date}{time_bit}'\n",
    "    params = {\"start_date\":sd, \"end_date\":ed}\n",
    "    du_url = f\"https://rms.teltonika-networks.com/api/devices/{i_d}/data-usage\"\n",
    "    device_datause = requests.get(du_url, \\\n",
    "                headers = {\"Authorization\": bearer, \"Accept\":\"application/json\"}, \\\n",
    "                params = params)\n",
    "    du = pd.DataFrame(device_datause.json()['data'])\n",
    "    du['i_d'] = i_d\n",
    "    return du\n",
    "    "
   ]
  },
  {
   "cell_type": "code",
   "execution_count": 49,
   "id": "64574293-4ec3-408f-aaa1-5b7ef6468fc4",
   "metadata": {},
   "outputs": [],
   "source": [
    "# check function operation\n",
    "du = datause(i_d = '413202', start_date = start_date, end_date = end_date, bearer = bearer)"
   ]
  },
  {
   "cell_type": "code",
   "execution_count": null,
   "id": "827aac06-8a01-497c-84b8-0a9841ac06e0",
   "metadata": {},
   "outputs": [],
   "source": []
  },
  {
   "cell_type": "markdown",
   "id": "1f97c099-ee5d-4ef8-969a-e63fc8965186",
   "metadata": {},
   "source": [
    "This code loops over each router id in the list and runs the function above to get a dataframe of data use, concatenating it into one combined df."
   ]
  },
  {
   "cell_type": "code",
   "execution_count": 51,
   "id": "5c86d628-933a-4a37-91e1-733e250c6e66",
   "metadata": {},
   "outputs": [],
   "source": [
    "bigdf=pd.DataFrame()\n",
    "for i_d in ids: # for each id in the list\n",
    "    du = datause(i_d = i_d, start_date = start_date, end_date = end_date, bearer = bearer) #call the function to get a df of datause\n",
    "    bigdf=pd.concat([bigdf, du], ignore_index=True) # concatenate (bind_rows)"
   ]
  },
  {
   "cell_type": "code",
   "execution_count": 52,
   "id": "77db9783-5daa-4a9d-b9b2-ed40f8b6e1ae",
   "metadata": {},
   "outputs": [
    {
     "data": {
      "text/html": [
       "<div>\n",
       "<style scoped>\n",
       "    .dataframe tbody tr th:only-of-type {\n",
       "        vertical-align: middle;\n",
       "    }\n",
       "\n",
       "    .dataframe tbody tr th {\n",
       "        vertical-align: top;\n",
       "    }\n",
       "\n",
       "    .dataframe thead th {\n",
       "        text-align: right;\n",
       "    }\n",
       "</style>\n",
       "<table border=\"1\" class=\"dataframe\">\n",
       "  <thead>\n",
       "    <tr style=\"text-align: right;\">\n",
       "      <th></th>\n",
       "      <th>date</th>\n",
       "      <th>sim1_rx</th>\n",
       "      <th>sim2_rx</th>\n",
       "      <th>sim1_tx</th>\n",
       "      <th>sim2_tx</th>\n",
       "      <th>i_d</th>\n",
       "    </tr>\n",
       "  </thead>\n",
       "  <tbody>\n",
       "    <tr>\n",
       "      <th>0</th>\n",
       "      <td>2022-12-01</td>\n",
       "      <td>2693435</td>\n",
       "      <td>0</td>\n",
       "      <td>3349693</td>\n",
       "      <td>0</td>\n",
       "      <td>413202</td>\n",
       "    </tr>\n",
       "    <tr>\n",
       "      <th>1</th>\n",
       "      <td>2022-12-02</td>\n",
       "      <td>3083650</td>\n",
       "      <td>0</td>\n",
       "      <td>3607241</td>\n",
       "      <td>0</td>\n",
       "      <td>413202</td>\n",
       "    </tr>\n",
       "    <tr>\n",
       "      <th>2</th>\n",
       "      <td>2022-12-03</td>\n",
       "      <td>3014325</td>\n",
       "      <td>0</td>\n",
       "      <td>3559331</td>\n",
       "      <td>0</td>\n",
       "      <td>413202</td>\n",
       "    </tr>\n",
       "    <tr>\n",
       "      <th>3</th>\n",
       "      <td>2022-12-04</td>\n",
       "      <td>2499487</td>\n",
       "      <td>0</td>\n",
       "      <td>3047378</td>\n",
       "      <td>0</td>\n",
       "      <td>413202</td>\n",
       "    </tr>\n",
       "    <tr>\n",
       "      <th>4</th>\n",
       "      <td>2022-12-05</td>\n",
       "      <td>2707632</td>\n",
       "      <td>0</td>\n",
       "      <td>3298498</td>\n",
       "      <td>0</td>\n",
       "      <td>413202</td>\n",
       "    </tr>\n",
       "    <tr>\n",
       "      <th>...</th>\n",
       "      <td>...</td>\n",
       "      <td>...</td>\n",
       "      <td>...</td>\n",
       "      <td>...</td>\n",
       "      <td>...</td>\n",
       "      <td>...</td>\n",
       "    </tr>\n",
       "    <tr>\n",
       "      <th>274</th>\n",
       "      <td>2022-12-27</td>\n",
       "      <td>27952002</td>\n",
       "      <td>0</td>\n",
       "      <td>14950574</td>\n",
       "      <td>0</td>\n",
       "      <td>400809</td>\n",
       "    </tr>\n",
       "    <tr>\n",
       "      <th>275</th>\n",
       "      <td>2022-12-28</td>\n",
       "      <td>12179721</td>\n",
       "      <td>0</td>\n",
       "      <td>5663997</td>\n",
       "      <td>0</td>\n",
       "      <td>400809</td>\n",
       "    </tr>\n",
       "    <tr>\n",
       "      <th>276</th>\n",
       "      <td>2022-12-29</td>\n",
       "      <td>13121876</td>\n",
       "      <td>0</td>\n",
       "      <td>5887996</td>\n",
       "      <td>0</td>\n",
       "      <td>400809</td>\n",
       "    </tr>\n",
       "    <tr>\n",
       "      <th>277</th>\n",
       "      <td>2022-12-30</td>\n",
       "      <td>21100850</td>\n",
       "      <td>0</td>\n",
       "      <td>13171723</td>\n",
       "      <td>0</td>\n",
       "      <td>400809</td>\n",
       "    </tr>\n",
       "    <tr>\n",
       "      <th>278</th>\n",
       "      <td>2022-12-31</td>\n",
       "      <td>0</td>\n",
       "      <td>0</td>\n",
       "      <td>0</td>\n",
       "      <td>0</td>\n",
       "      <td>400809</td>\n",
       "    </tr>\n",
       "  </tbody>\n",
       "</table>\n",
       "<p>279 rows × 6 columns</p>\n",
       "</div>"
      ],
      "text/plain": [
       "           date   sim1_rx  sim2_rx   sim1_tx  sim2_tx     i_d\n",
       "0    2022-12-01   2693435        0   3349693        0  413202\n",
       "1    2022-12-02   3083650        0   3607241        0  413202\n",
       "2    2022-12-03   3014325        0   3559331        0  413202\n",
       "3    2022-12-04   2499487        0   3047378        0  413202\n",
       "4    2022-12-05   2707632        0   3298498        0  413202\n",
       "..          ...       ...      ...       ...      ...     ...\n",
       "274  2022-12-27  27952002        0  14950574        0  400809\n",
       "275  2022-12-28  12179721        0   5663997        0  400809\n",
       "276  2022-12-29  13121876        0   5887996        0  400809\n",
       "277  2022-12-30  21100850        0  13171723        0  400809\n",
       "278  2022-12-31         0        0         0        0  400809\n",
       "\n",
       "[279 rows x 6 columns]"
      ]
     },
     "execution_count": 52,
     "metadata": {},
     "output_type": "execute_result"
    }
   ],
   "source": [
    "bigdf"
   ]
  },
  {
   "cell_type": "markdown",
   "id": "fac18108-4cfa-4b92-bbfc-7e9a61b9aac2",
   "metadata": {},
   "source": [
    "The consolidated DataFrame for all routers shows the receive (rx) and transmit (tx) data use for each SIM card in the router. In our routers, only one SIM is used (sim1), so the sim2 columns can be dropped. In addition, the data is shown in bytes. A simple operation converts into MB for optimal display after adding the rx and tx components together.\n",
    "\n",
    "Further, it is useful to see the cumulative data use for each month as exceeding data allowances ('overage') incurs a cost. The data allowances are spread over the whole fleet of routers and are equivalent to 3GB per router per month. The allowances roll over on the 1st of the month."
   ]
  },
  {
   "cell_type": "code",
   "execution_count": 53,
   "id": "5fbc0618-e70f-46f6-9cf4-b8be02377dd7",
   "metadata": {},
   "outputs": [],
   "source": [
    "def day_of_month(datestring):\n",
    "    dom  = datetime.fromisoformat(datestring).strftime(\"%d\")\n",
    "    return dom\n",
    "    "
   ]
  },
  {
   "cell_type": "code",
   "execution_count": 56,
   "id": "e52ca910-3e40-442e-a511-e624b088df50",
   "metadata": {},
   "outputs": [
    {
     "data": {
      "text/html": [
       "<div>\n",
       "<style scoped>\n",
       "    .dataframe tbody tr th:only-of-type {\n",
       "        vertical-align: middle;\n",
       "    }\n",
       "\n",
       "    .dataframe tbody tr th {\n",
       "        vertical-align: top;\n",
       "    }\n",
       "\n",
       "    .dataframe thead th {\n",
       "        text-align: right;\n",
       "    }\n",
       "</style>\n",
       "<table border=\"1\" class=\"dataframe\">\n",
       "  <thead>\n",
       "    <tr style=\"text-align: right;\">\n",
       "      <th></th>\n",
       "      <th>date</th>\n",
       "      <th>i_d</th>\n",
       "      <th>total_data</th>\n",
       "      <th>day_of_month</th>\n",
       "      <th>cum_data</th>\n",
       "    </tr>\n",
       "  </thead>\n",
       "  <tbody>\n",
       "    <tr>\n",
       "      <th>0</th>\n",
       "      <td>2022-12-01</td>\n",
       "      <td>413202</td>\n",
       "      <td>5.763176</td>\n",
       "      <td>01</td>\n",
       "      <td>5.763176</td>\n",
       "    </tr>\n",
       "    <tr>\n",
       "      <th>1</th>\n",
       "      <td>2022-12-02</td>\n",
       "      <td>413202</td>\n",
       "      <td>6.380931</td>\n",
       "      <td>02</td>\n",
       "      <td>12.144107</td>\n",
       "    </tr>\n",
       "    <tr>\n",
       "      <th>2</th>\n",
       "      <td>2022-12-03</td>\n",
       "      <td>413202</td>\n",
       "      <td>6.269127</td>\n",
       "      <td>03</td>\n",
       "      <td>18.413234</td>\n",
       "    </tr>\n",
       "    <tr>\n",
       "      <th>3</th>\n",
       "      <td>2022-12-04</td>\n",
       "      <td>413202</td>\n",
       "      <td>5.289903</td>\n",
       "      <td>04</td>\n",
       "      <td>23.703136</td>\n",
       "    </tr>\n",
       "    <tr>\n",
       "      <th>4</th>\n",
       "      <td>2022-12-05</td>\n",
       "      <td>413202</td>\n",
       "      <td>5.727892</td>\n",
       "      <td>05</td>\n",
       "      <td>29.431028</td>\n",
       "    </tr>\n",
       "    <tr>\n",
       "      <th>...</th>\n",
       "      <td>...</td>\n",
       "      <td>...</td>\n",
       "      <td>...</td>\n",
       "      <td>...</td>\n",
       "      <td>...</td>\n",
       "    </tr>\n",
       "    <tr>\n",
       "      <th>274</th>\n",
       "      <td>2022-12-27</td>\n",
       "      <td>400809</td>\n",
       "      <td>40.915085</td>\n",
       "      <td>27</td>\n",
       "      <td>3138.663840</td>\n",
       "    </tr>\n",
       "    <tr>\n",
       "      <th>275</th>\n",
       "      <td>2022-12-28</td>\n",
       "      <td>400809</td>\n",
       "      <td>17.017096</td>\n",
       "      <td>28</td>\n",
       "      <td>3155.680936</td>\n",
       "    </tr>\n",
       "    <tr>\n",
       "      <th>276</th>\n",
       "      <td>2022-12-29</td>\n",
       "      <td>400809</td>\n",
       "      <td>18.129227</td>\n",
       "      <td>29</td>\n",
       "      <td>3173.810163</td>\n",
       "    </tr>\n",
       "    <tr>\n",
       "      <th>277</th>\n",
       "      <td>2022-12-30</td>\n",
       "      <td>400809</td>\n",
       "      <td>32.684873</td>\n",
       "      <td>30</td>\n",
       "      <td>3206.495035</td>\n",
       "    </tr>\n",
       "    <tr>\n",
       "      <th>278</th>\n",
       "      <td>2022-12-31</td>\n",
       "      <td>400809</td>\n",
       "      <td>0.000000</td>\n",
       "      <td>31</td>\n",
       "      <td>3206.495035</td>\n",
       "    </tr>\n",
       "  </tbody>\n",
       "</table>\n",
       "<p>279 rows × 5 columns</p>\n",
       "</div>"
      ],
      "text/plain": [
       "           date     i_d  total_data day_of_month     cum_data\n",
       "0    2022-12-01  413202    5.763176           01     5.763176\n",
       "1    2022-12-02  413202    6.380931           02    12.144107\n",
       "2    2022-12-03  413202    6.269127           03    18.413234\n",
       "3    2022-12-04  413202    5.289903           04    23.703136\n",
       "4    2022-12-05  413202    5.727892           05    29.431028\n",
       "..          ...     ...         ...          ...          ...\n",
       "274  2022-12-27  400809   40.915085           27  3138.663840\n",
       "275  2022-12-28  400809   17.017096           28  3155.680936\n",
       "276  2022-12-29  400809   18.129227           29  3173.810163\n",
       "277  2022-12-30  400809   32.684873           30  3206.495035\n",
       "278  2022-12-31  400809    0.000000           31  3206.495035\n",
       "\n",
       "[279 rows x 5 columns]"
      ]
     },
     "execution_count": 56,
     "metadata": {},
     "output_type": "execute_result"
    }
   ],
   "source": [
    "stacked_df = bigdf.copy()\n",
    "stacked_df['total_data'] = (stacked_df['sim1_rx'] + stacked_df['sim1_tx']) / (1024 * 1024)\n",
    "stacked_df.drop(columns = ['sim1_rx', 'sim2_rx', 'sim2_tx', 'sim1_tx'], inplace = True)\n",
    "\n",
    "stacked_df['day_of_month'] = stacked_df['date'].apply(day_of_month)\n",
    "\n",
    "stacked_df['cum_data'] = stacked_df.groupby('i_d')['total_data'].transform(pd.Series.cumsum)\n",
    "stacked_df"
   ]
  },
  {
   "cell_type": "markdown",
   "id": "ead7cb3b-d629-4380-9d36-eecf1588fb07",
   "metadata": {},
   "source": [
    "A `plot_data` Data Frame is constructed by joining the router meta data to the main dataset to enable meaningful display of the chart to be plotted later."
   ]
  },
  {
   "cell_type": "code",
   "execution_count": 57,
   "id": "8fcc83d9-72dd-47b5-aa17-1644c2498639",
   "metadata": {},
   "outputs": [],
   "source": [
    "plot_data = pd.merge(left = stacked_df, right = site_routers_df, left_on = 'i_d', right_on = 'id', how = 'inner')"
   ]
  },
  {
   "cell_type": "markdown",
   "id": "380688b7-a8fc-46af-9512-d082e2664c4a",
   "metadata": {},
   "source": [
    "Construct a chart showing the cumulative data use per router. Plotnine is used for this as the API is consistent and accords with the grammar of graphics."
   ]
  },
  {
   "cell_type": "code",
   "execution_count": 58,
   "id": "7be989e6-e2f9-47e0-a997-6cc7e337dedc",
   "metadata": {},
   "outputs": [
    {
     "data": {
      "image/png": "[encoded data removed]",
      "text/plain": [
       "<Figure size 640x480 with 1 Axes>"
      ]
     },
     "metadata": {},
     "output_type": "display_data"
    },
    {
     "data": {
      "text/plain": [
       "<ggplot: (8778070858909)>"
      ]
     },
     "execution_count": 58,
     "metadata": {},
     "output_type": "execute_result"
    }
   ],
   "source": [
    "(plotnine.ggplot(plot_data, aes('date', 'cum_data', group = 'factor(Site)', color = 'factor(Site)')) +\n",
    "geom_line() +\n",
    "scale_x_date(breaks = \"1 week\", date_labels = \"%d\") +\n",
    "labs(x = \"Date\", colour = \"Site\", y = \"Cumulative Data (MB)\", title = f\"Cumulative data use by site: {moi} {yoi}\", caption = \"Note: Airport, BTW and Spare are expected to be low\") +\n",
    "theme_bw())\n"
   ]
  },
  {
   "cell_type": "code",
   "execution_count": null,
   "id": "e00e74dc-14d7-463b-80cf-95ebe196681d",
   "metadata": {},
   "outputs": [],
   "source": []
  }
 ],
 "metadata": {
  "kernelspec": {
   "display_name": "Python 3 (ipykernel)",
   "language": "python",
   "name": "python3"
  },
  "language_info": {
   "codemirror_mode": {
    "name": "ipython",
    "version": 3
   },
   "file_extension": ".py",
   "mimetype": "text/x-python",
   "name": "python",
   "nbconvert_exporter": "python",
   "pygments_lexer": "ipython3",
   "version": "3.9.15"
  }
 },
 "nbformat": 4,
 "nbformat_minor": 5
}
