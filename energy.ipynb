{
 "cells": [
  {
   "cell_type": "markdown",
   "metadata": {},
   "source": [
    "# Energy Analysis"
   ]
  },
  {
   "cell_type": "markdown",
   "metadata": {},
   "source": [
    "KATE expects your code to define variables with specific names that correspond to certain things we are interested in.\n",
    "\n",
    "KATE will run your notebook from top to bottom and check the latest value of those variables, so make sure you don't overwrite them.\n",
    "\n",
    "* Remember to uncomment the line assigning the variable to your answer and don't change the variable or function names.\n",
    "* Use copies of the original or previous DataFrames to make sure you do not overwrite them by mistake.\n",
    "\n",
    "You will find instructions below about how to define each variable.\n",
    "\n",
    "Once you're happy with your code, upload your notebook to KATE to check your feedback."
   ]
  },
  {
   "cell_type": "markdown",
   "metadata": {},
   "source": [
    "Run the cell below first, to import `pandas`, and `matplotlib` `pyplot`. The `matplotlib` code isn't important, but prevents some unnecessary warnings from showing."
   ]
  },
  {
   "cell_type": "code",
   "execution_count": 1,
   "metadata": {
    "inputHidden": false,
    "outputHidden": false
   },
   "outputs": [],
   "source": [
    "import pandas as pd\n",
    "\n",
    "from matplotlib import pyplot as plt\n",
    "from matplotlib.axes._axes import _log as matplotlib_axes_logger\n",
    "matplotlib_axes_logger.setLevel('ERROR')"
   ]
  },
  {
   "cell_type": "markdown",
   "metadata": {},
   "source": [
    "This assignment will focus on data visualisation using pandas. \n",
    "\n",
    "We have written some code below to do some initial collation and cleaning of the datasets we'll be working with - see if you can follow along and understand what each line is doing.\n",
    "\n",
    "### Data collection\n",
    "\n",
    "Run the following cell to import and concatenate the datasets, assigning the result to `data`:"
   ]
  },
  {
   "cell_type": "code",
   "execution_count": 2,
   "metadata": {
    "scrolled": true
   },
   "outputs": [],
   "source": [
    "df1 = pd.read_csv('data/heating_2018.csv')\n",
    "df2 = pd.read_csv('data/hot_water_2018.csv')\n",
    "df3 = pd.read_csv('data/catering_2018.csv')\n",
    "data = pd.concat([df1, df2, df3], keys=['Heating', 'Hot Water', 'Catering']).reset_index(level=[0])"
   ]
  },
  {
   "cell_type": "markdown",
   "metadata": {},
   "source": [
    "Running `data.head()` will show us the top of our DataFrame:"
   ]
  },
  {
   "cell_type": "code",
   "execution_count": 3,
   "metadata": {},
   "outputs": [],
   "source": [
    "data.head()"
   ]
  },
  {
   "cell_type": "markdown",
   "metadata": {},
   "source": [
    "### Data processing"
   ]
  },
  {
   "cell_type": "markdown",
   "metadata": {},
   "source": [
    "**Q1.** First of all, let's tidy up the `data` DataFrame:\n",
    "\n",
    "- Use the `.rename()` method to change the name of the `level_0` column to `Use`\n",
    "- Use the `.fillna()` method to update all `NaN` values to `0`\n",
    "- Use the `astype()` method to convert the numerical columns to integers\n",
    "- Create a new column `Total` which contains the sum of the other numerical columns\n",
    "\n",
    "KATE will evaluate your updated version of `data` to check these changes have been made.\n"
   ]
  },
  {
   "cell_type": "code",
   "execution_count": 4,
   "metadata": {},
   "outputs": [],
   "source": [
    "#add your code to update the `data` DataFrame below\n",
    "data.rename(columns = {'level_0': 'Use'}, inplace=True)\n",
    "data.fillna(0, inplace=True)\n",
    "\n",
    "data['District Heating'] = data['District Heating'].astype('int')\n",
    "data.Other = data.Other.astype('int')\n",
    "data['Total'] = data[['Electricity', 'Natural Gas', 'Oil', 'District Heating', 'Other']].sum(axis = 1)\n"
   ]
  },
  {
   "cell_type": "markdown",
   "metadata": {},
   "source": [
    "### Data grouping"
   ]
  },
  {
   "cell_type": "markdown",
   "metadata": {},
   "source": [
    "**Q2.** Create a new DataFrame called `ss`, using `.groupby()` to group `data` by `Sub-Sector`, which contains the `.sum()` for each of the numerical (energy type) columns for each group:"
   ]
  },
  {
   "cell_type": "code",
   "execution_count": 5,
   "metadata": {},
   "outputs": [],
   "source": [
    "ss = data.groupby('Sub-Sector').sum()"
   ]
  },
  {
   "cell_type": "markdown",
   "metadata": {},
   "source": [
    "**Q3.** Create a new DataFrame called `use`, using `.groupby()` to group `data` by `Use`, which contains the `.sum()` for each of the numerical (energy type) columns for each group:"
   ]
  },
  {
   "cell_type": "code",
   "execution_count": 7,
   "metadata": {},
   "outputs": [],
   "source": [
    "use = data.groupby('Use').sum()"
   ]
  },
  {
   "cell_type": "markdown",
   "metadata": {},
   "source": [
    "**Q4.** Create a new DataFrame called `sector`, using `.groupby()` to group `data` by `Sector`, and `.agg()` on the `Total` column such that the new DataFrame has columns for `sum`, `mean`, and `count` of the values in `Total`:\n",
    "\n",
    "- Use the `sort_values()` method to sort the resulting DataFrame by `sum`, in *descending* order\n",
    "\n",
    "- You may find [this documentation page](https://pandas.pydata.org/pandas-docs/version/0.23.1/generated/pandas.core.groupby.DataFrameGroupBy.agg.html) useful"
   ]
  },
  {
   "cell_type": "code",
   "execution_count": 8,
   "metadata": {},
   "outputs": [],
   "source": [
    "sector = data.groupby('Sector').Total.agg(['sum', 'mean', 'count']).sort_values('sum', ascending = False)\n",
    "\n",
    "sector.head()\n"
   ]
  },
  {
   "cell_type": "markdown",
   "metadata": {},
   "source": [
    "*You may want to submit your notebook to KATE to ensure your `data`, `ss`, and `use` and `sector` DataFrames are as expected before moving on to the visualisations.*"
   ]
  },
  {
   "cell_type": "markdown",
   "metadata": {},
   "source": [
    "### Data visualisation"
   ]
  },
  {
   "cell_type": "markdown",
   "metadata": {},
   "source": [
    "**Q5.** Create a **histogram** from the `Electricity` column of `ss` using the `.plot()` method:\n",
    "- The histogram should have 5 `bins`\n",
    "- Assign the plot to the variable `elec_hist`\n",
    "- Ensure your code cell starts with `plt.figure()`\n",
    "\n",
    "*We need to execute `plt.figure()` before creating each new plot in the notebook, otherwise the properties of previous plots will be overwritten in memory and KATE will not evaluate them correctly.*\n",
    "\n",
    "`plt.figure()`  \n",
    "`elec_hist = ss.plot(....)`"
   ]
  },
  {
   "cell_type": "code",
   "execution_count": 13,
   "metadata": {},
   "outputs": [],
   "source": [
    "plt.figure()\n",
    "elec_hist = ss.Electricity.plot(kind = 'hist', bins = 5)\n"
   ]
  },
  {
   "cell_type": "markdown",
   "metadata": {},
   "source": [
    "**Q6.** Create a **scatter plot** of `Natural Gas` vs `Total`, to see the relationship between the two values.\n",
    "\n",
    "- Use the `.plot()` method on `ss`\n",
    "- Have `Natural Gas` on the x-axis and `Total` on the y-axis\n",
    "- Assign the plot to the variable `gas_total`\n",
    "- Ensure your code cell starts with `plt.figure()`"
   ]
  },
  {
   "cell_type": "code",
   "execution_count": 15,
   "metadata": {},
   "outputs": [],
   "source": [
    "#gas_total/n#hide\n",
    "plt.figure()\n",
    "gas_total = ss.plot(x='Natural Gas', y='Total', kind='scatter');\n"
   ]
  },
  {
   "cell_type": "markdown",
   "metadata": {},
   "source": [
    "**Q7.** Create a **bar chart** of the `sum` column of the `sector` DataFrame using the `.plot()` method:\n",
    "\n",
    "- Add a title of `Energy consumption by sector` to the plot\n",
    "- Assign the plot to the variable `sector_sum`\n",
    "- Ensure your code cell starts with `plt.figure()`"
   ]
  },
  {
   "cell_type": "code",
   "execution_count": 21,
   "metadata": {},
   "outputs": [],
   "source": [
    "plt.figure()\n",
    "sector_sum = sector.reset_index().plot(x = 'Sector', y = 'sum', kind = 'bar', title = 'Energy consumption by sector');\n"
   ]
  },
  {
   "cell_type": "markdown",
   "metadata": {},
   "source": [
    "**Q8.** Create a *horizontal* and *stacked* bar chart from the `use` DataFrame, using the `.plot()` method:\n",
    "\n",
    "- Do not include the `Total` column values\n",
    "- Assign the plot to the variable `use_type`\n",
    "- Give it a `figsize` of `(12, 12)`\n",
    "- You may find [this page](https://pandas.pydata.org/pandas-docs/stable/reference/api/pandas.DataFrame.plot.barh.html) useful\n",
    "- Ensure your code cell starts with `plt.figure()`"
   ]
  },
  {
   "cell_type": "code",
   "execution_count": 32,
   "metadata": {},
   "outputs": [],
   "source": [
    "plt.figure();\n",
    "use_type = use.drop(columns = 'Total').plot(kind = 'barh', stacked = True, figsize = (12,12))\n"
   ]
  }
 ],
 "metadata": {
  "kernel_info": {
   "name": "python3"
  },
  "kernelspec": {
   "display_name": "Python 3 (ipykernel)",
   "language": "python",
   "name": "python3"
  },
  "language_info": {
   "codemirror_mode": {
    "name": "ipython",
    "version": 3
   },
   "file_extension": ".py",
   "mimetype": "text/x-python",
   "name": "python",
   "nbconvert_exporter": "python",
   "pygments_lexer": "ipython3",
   "version": "3.7.13"
  },
  "nteract": {
   "version": "0.15.0"
  }
 },
 "nbformat": 4,
 "nbformat_minor": 4
}
