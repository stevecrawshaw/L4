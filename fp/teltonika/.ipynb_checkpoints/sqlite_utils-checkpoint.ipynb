{
 "cells": [
  {
   "cell_type": "markdown",
   "id": "14209a80-3738-4432-9d85-5832ea272db3",
   "metadata": {},
   "source": [
    "A notebook for testing sqlite-utils - mainly the upsert function to update a database when the unique constraint is violated"
   ]
  },
  {
   "cell_type": "code",
   "execution_count": 1,
   "id": "bb962bed-0496-4da6-bc27-6411b41b1ede",
   "metadata": {},
   "outputs": [],
   "source": [
    "import pandas as pd\n",
    "import numpy as np\n",
    "import sqlite3\n",
    "import sqlalchemy\n",
    "from sqlite_utils import Database #datasette sqlite utilities"
   ]
  },
  {
   "cell_type": "code",
   "execution_count": 2,
   "id": "0629ceb9-9c37-42d0-af83-14cbf47d8b44",
   "metadata": {},
   "outputs": [],
   "source": [
    "# download air quality monitoring sites\n",
    "url_aqms = 'https://opendata.bristol.gov.uk/' \\\n",
    "'explore/dataset/air-quality-monitoring-sites/download/' \\\n",
    "'?format=csv&timezone=Europe/London&lang=en&use_labels_for_header=false&csv_separator=%3B'\n",
    "\n",
    "aqms = pd.read_csv(url_aqms, sep = \";\")"
   ]
  },
  {
   "cell_type": "code",
   "execution_count": null,
   "id": "180db6b7-7262-46ec-b88e-d7de8ac6085e",
   "metadata": {},
   "outputs": [],
   "source": [
    "# %who"
   ]
  },
  {
   "cell_type": "code",
   "execution_count": null,
   "id": "492a46f3-e723-4bf6-9b12-bd4c8f5027c6",
   "metadata": {},
   "outputs": [],
   "source": [
    "# %lsmagic"
   ]
  },
  {
   "cell_type": "code",
   "execution_count": null,
   "id": "c0c6e4b4-d411-4730-a471-b92c393f8100",
   "metadata": {},
   "outputs": [],
   "source": [
    "# %pwd\n",
    "# %pinfo aqms"
   ]
  },
  {
   "cell_type": "code",
   "execution_count": 3,
   "id": "1186b602-a7af-4855-95da-e69179ca301b",
   "metadata": {},
   "outputs": [],
   "source": [
    "# change dtype for this field\n",
    "aqms.colocated = aqms.colocated.fillna(0.0).astype('int', errors = 'ignore')"
   ]
  },
  {
   "cell_type": "code",
   "execution_count": 4,
   "id": "c32a2398-3903-4af4-bf89-87eebbb819e1",
   "metadata": {},
   "outputs": [],
   "source": [
    "# df for the splitting of geopoint\n",
    "latlon_df = aqms.geo_point_2d.str.split(\",\", n = 1, expand = True)"
   ]
  },
  {
   "cell_type": "code",
   "execution_count": 5,
   "id": "efd44a32-0390-4425-a2d4-ac1b102e78bb",
   "metadata": {},
   "outputs": [],
   "source": [
    "aqms['latitude'] = latlon_df[0].astype('float')\n",
    "aqms['longitude'] = latlon_df[1].astype('float') #need long names for cluster map plugin"
   ]
  },
  {
   "cell_type": "code",
   "execution_count": 6,
   "id": "3dd2d3f2-3b88-40d5-8df2-4ebcf28e01b2",
   "metadata": {},
   "outputs": [],
   "source": [
    "aqms.drop(columns = ['geo_point_2d'], inplace = True)"
   ]
  },
  {
   "cell_type": "code",
   "execution_count": 7,
   "id": "f255228a-5b1c-4194-a629-9030b01bfe07",
   "metadata": {},
   "outputs": [],
   "source": [
    "aqms.rename(columns = {'siteid': 'site_id'}, inplace = True)"
   ]
  },
  {
   "cell_type": "code",
   "execution_count": 8,
   "id": "f7aca62f-08bf-4c0c-83dd-61a3cd9dd56c",
   "metadata": {},
   "outputs": [],
   "source": [
    "# get the diffusion tube data\n",
    "url_no2 = 'https://opendata.bristol.gov.uk/' \\\n",
    "'explore/dataset/no2-diffusion-tube-data/download/' \\\n",
    "'?format=csv&timezone=Europe/London&lang=en&use_labels_for_header=false&csv_separator=%3B'\n",
    "\n",
    "usecols = ['siteid', 'count', 'conc_ugm3', 'year']\n",
    "\n",
    "no2dt = pd.read_csv(url_no2, sep = \";\", usecols = usecols)\n",
    "no2dt.rename(columns = {'siteid': 'site_id'}, inplace = True)"
   ]
  },
  {
   "cell_type": "code",
   "execution_count": 9,
   "id": "624121eb-bfdf-4bbe-bde5-e1ba8ca8eedb",
   "metadata": {},
   "outputs": [],
   "source": [
    "# retrieve a sample of continuous data\n",
    "# download using ods_api.ipynb\n",
    "url_aqdc_1 = 'aqdc_df_smaller.csv'\n"
   ]
  },
  {
   "cell_type": "code",
   "execution_count": 10,
   "id": "0424926c-6864-4218-9731-0559dfaa8cd7",
   "metadata": {},
   "outputs": [],
   "source": [
    "# def read_aqdc_from_url(url):\n",
    "#     drop_cols = ['location', 'geo_point_2d', 'datestart', 'dateend', 'current', 'instrumenttype']\n",
    "#     df = pd.read_csv(url, sep = \";\", usecols = lambda x: x not in drop_cols)\n",
    "#     #aqdc['date_time'] = pd.to_datetime(aqdc.date_time)\n",
    "#     df.rename(columns = {'siteid': 'site_id'}, inplace = True)\n",
    "#     return df\n",
    "    "
   ]
  },
  {
   "cell_type": "code",
   "execution_count": 11,
   "id": "b2ba464f-65a4-47f4-9dc6-70d496e4313f",
   "metadata": {},
   "outputs": [],
   "source": [
    "# wrangle continuous data to add useful date time artefacts and clean\n",
    "aqdc = pd.read_csv(url_aqdc_1, sep = \",\")\n",
    "aqdc.drop(columns = 'Unnamed: 0', inplace = True)\n",
    "aqdc.rename(columns = {'siteid': 'site_id'}, inplace = True)\n",
    "aqdc['date'] = aqdc['date_time'].str.slice(0, 10)\n",
    "aqdc['hour'] = aqdc['date_time'].str.slice(11, 13).astype(int)\n",
    "aqdc['year'] = aqdc['date_time'].str.slice(0, 4).astype(int)\n",
    "aqdc['month'] = aqdc['date_time'].str.slice(6, 7).astype(int)\n",
    "aqdc['day_of_month'] = aqdc['date_time'].str.slice(8, 10).astype(int)\n",
    "aqdc['date_time'] = pd.to_datetime(aqdc.date_time)\n"
   ]
  },
  {
   "cell_type": "code",
   "execution_count": 12,
   "id": "5d1893cf-af91-43bb-b6ce-a1394b587e3f",
   "metadata": {},
   "outputs": [
    {
     "data": {
      "text/html": [
       "<div>\n",
       "<style scoped>\n",
       "    .dataframe tbody tr th:only-of-type {\n",
       "        vertical-align: middle;\n",
       "    }\n",
       "\n",
       "    .dataframe tbody tr th {\n",
       "        vertical-align: top;\n",
       "    }\n",
       "\n",
       "    .dataframe thead th {\n",
       "        text-align: right;\n",
       "    }\n",
       "</style>\n",
       "<table border=\"1\" class=\"dataframe\">\n",
       "  <thead>\n",
       "    <tr style=\"text-align: right;\">\n",
       "      <th></th>\n",
       "      <th>date_time</th>\n",
       "      <th>site_id</th>\n",
       "      <th>nox</th>\n",
       "      <th>no2</th>\n",
       "      <th>no</th>\n",
       "      <th>pm10</th>\n",
       "      <th>pm25</th>\n",
       "      <th>temp</th>\n",
       "      <th>rh</th>\n",
       "      <th>date</th>\n",
       "      <th>hour</th>\n",
       "      <th>year</th>\n",
       "      <th>month</th>\n",
       "      <th>day_of_month</th>\n",
       "    </tr>\n",
       "  </thead>\n",
       "  <tbody>\n",
       "    <tr>\n",
       "      <th>0</th>\n",
       "      <td>2019-04-29 23:00:00+00:00</td>\n",
       "      <td>501</td>\n",
       "      <td>122.250000</td>\n",
       "      <td>49.250000</td>\n",
       "      <td>47.750000</td>\n",
       "      <td>30.400</td>\n",
       "      <td>NaN</td>\n",
       "      <td>NaN</td>\n",
       "      <td>NaN</td>\n",
       "      <td>2019-04-29</td>\n",
       "      <td>23</td>\n",
       "      <td>2019</td>\n",
       "      <td>4</td>\n",
       "      <td>29</td>\n",
       "    </tr>\n",
       "    <tr>\n",
       "      <th>1</th>\n",
       "      <td>2019-04-30 03:00:00+00:00</td>\n",
       "      <td>501</td>\n",
       "      <td>42.250000</td>\n",
       "      <td>35.250000</td>\n",
       "      <td>4.500000</td>\n",
       "      <td>20.275</td>\n",
       "      <td>NaN</td>\n",
       "      <td>NaN</td>\n",
       "      <td>NaN</td>\n",
       "      <td>2019-04-30</td>\n",
       "      <td>3</td>\n",
       "      <td>2019</td>\n",
       "      <td>4</td>\n",
       "      <td>30</td>\n",
       "    </tr>\n",
       "    <tr>\n",
       "      <th>2</th>\n",
       "      <td>2019-05-01 06:00:00+00:00</td>\n",
       "      <td>501</td>\n",
       "      <td>82.000000</td>\n",
       "      <td>48.500000</td>\n",
       "      <td>21.750000</td>\n",
       "      <td>28.125</td>\n",
       "      <td>NaN</td>\n",
       "      <td>NaN</td>\n",
       "      <td>NaN</td>\n",
       "      <td>2019-05-01</td>\n",
       "      <td>6</td>\n",
       "      <td>2019</td>\n",
       "      <td>5</td>\n",
       "      <td>1</td>\n",
       "    </tr>\n",
       "    <tr>\n",
       "      <th>3</th>\n",
       "      <td>2019-05-01 18:00:00+00:00</td>\n",
       "      <td>501</td>\n",
       "      <td>357.250000</td>\n",
       "      <td>117.750000</td>\n",
       "      <td>156.500000</td>\n",
       "      <td>27.700</td>\n",
       "      <td>NaN</td>\n",
       "      <td>NaN</td>\n",
       "      <td>NaN</td>\n",
       "      <td>2019-05-01</td>\n",
       "      <td>18</td>\n",
       "      <td>2019</td>\n",
       "      <td>5</td>\n",
       "      <td>1</td>\n",
       "    </tr>\n",
       "    <tr>\n",
       "      <th>4</th>\n",
       "      <td>2019-05-02 14:00:00+00:00</td>\n",
       "      <td>501</td>\n",
       "      <td>194.500000</td>\n",
       "      <td>73.250000</td>\n",
       "      <td>79.250000</td>\n",
       "      <td>23.775</td>\n",
       "      <td>NaN</td>\n",
       "      <td>NaN</td>\n",
       "      <td>NaN</td>\n",
       "      <td>2019-05-02</td>\n",
       "      <td>14</td>\n",
       "      <td>2019</td>\n",
       "      <td>5</td>\n",
       "      <td>2</td>\n",
       "    </tr>\n",
       "    <tr>\n",
       "      <th>...</th>\n",
       "      <td>...</td>\n",
       "      <td>...</td>\n",
       "      <td>...</td>\n",
       "      <td>...</td>\n",
       "      <td>...</td>\n",
       "      <td>...</td>\n",
       "      <td>...</td>\n",
       "      <td>...</td>\n",
       "      <td>...</td>\n",
       "      <td>...</td>\n",
       "      <td>...</td>\n",
       "      <td>...</td>\n",
       "      <td>...</td>\n",
       "      <td>...</td>\n",
       "    </tr>\n",
       "    <tr>\n",
       "      <th>865213</th>\n",
       "      <td>2022-11-14 16:00:00+00:00</td>\n",
       "      <td>463</td>\n",
       "      <td>119.510531</td>\n",
       "      <td>54.631625</td>\n",
       "      <td>42.342925</td>\n",
       "      <td>NaN</td>\n",
       "      <td>NaN</td>\n",
       "      <td>NaN</td>\n",
       "      <td>NaN</td>\n",
       "      <td>2022-11-14</td>\n",
       "      <td>16</td>\n",
       "      <td>2022</td>\n",
       "      <td>1</td>\n",
       "      <td>14</td>\n",
       "    </tr>\n",
       "    <tr>\n",
       "      <th>865214</th>\n",
       "      <td>2022-11-14 16:00:00+00:00</td>\n",
       "      <td>672</td>\n",
       "      <td>99.628500</td>\n",
       "      <td>52.838657</td>\n",
       "      <td>30.597570</td>\n",
       "      <td>NaN</td>\n",
       "      <td>NaN</td>\n",
       "      <td>NaN</td>\n",
       "      <td>NaN</td>\n",
       "      <td>2022-11-14</td>\n",
       "      <td>16</td>\n",
       "      <td>2022</td>\n",
       "      <td>1</td>\n",
       "      <td>14</td>\n",
       "    </tr>\n",
       "    <tr>\n",
       "      <th>865215</th>\n",
       "      <td>2022-11-14 17:00:00+00:00</td>\n",
       "      <td>463</td>\n",
       "      <td>145.496627</td>\n",
       "      <td>60.319720</td>\n",
       "      <td>55.533760</td>\n",
       "      <td>NaN</td>\n",
       "      <td>NaN</td>\n",
       "      <td>NaN</td>\n",
       "      <td>NaN</td>\n",
       "      <td>2022-11-14</td>\n",
       "      <td>17</td>\n",
       "      <td>2022</td>\n",
       "      <td>1</td>\n",
       "      <td>14</td>\n",
       "    </tr>\n",
       "    <tr>\n",
       "      <th>865216</th>\n",
       "      <td>2022-11-14 16:00:00+00:00</td>\n",
       "      <td>203</td>\n",
       "      <td>55.781782</td>\n",
       "      <td>31.465938</td>\n",
       "      <td>15.841056</td>\n",
       "      <td>NaN</td>\n",
       "      <td>NaN</td>\n",
       "      <td>NaN</td>\n",
       "      <td>NaN</td>\n",
       "      <td>2022-11-14</td>\n",
       "      <td>16</td>\n",
       "      <td>2022</td>\n",
       "      <td>1</td>\n",
       "      <td>14</td>\n",
       "    </tr>\n",
       "    <tr>\n",
       "      <th>865217</th>\n",
       "      <td>2022-11-14 16:00:00+00:00</td>\n",
       "      <td>501</td>\n",
       "      <td>228.350909</td>\n",
       "      <td>69.189468</td>\n",
       "      <td>103.725460</td>\n",
       "      <td>NaN</td>\n",
       "      <td>NaN</td>\n",
       "      <td>NaN</td>\n",
       "      <td>NaN</td>\n",
       "      <td>2022-11-14</td>\n",
       "      <td>16</td>\n",
       "      <td>2022</td>\n",
       "      <td>1</td>\n",
       "      <td>14</td>\n",
       "    </tr>\n",
       "  </tbody>\n",
       "</table>\n",
       "<p>865218 rows × 14 columns</p>\n",
       "</div>"
      ],
      "text/plain": [
       "                       date_time  site_id         nox         no2          no  \\\n",
       "0      2019-04-29 23:00:00+00:00      501  122.250000   49.250000   47.750000   \n",
       "1      2019-04-30 03:00:00+00:00      501   42.250000   35.250000    4.500000   \n",
       "2      2019-05-01 06:00:00+00:00      501   82.000000   48.500000   21.750000   \n",
       "3      2019-05-01 18:00:00+00:00      501  357.250000  117.750000  156.500000   \n",
       "4      2019-05-02 14:00:00+00:00      501  194.500000   73.250000   79.250000   \n",
       "...                          ...      ...         ...         ...         ...   \n",
       "865213 2022-11-14 16:00:00+00:00      463  119.510531   54.631625   42.342925   \n",
       "865214 2022-11-14 16:00:00+00:00      672   99.628500   52.838657   30.597570   \n",
       "865215 2022-11-14 17:00:00+00:00      463  145.496627   60.319720   55.533760   \n",
       "865216 2022-11-14 16:00:00+00:00      203   55.781782   31.465938   15.841056   \n",
       "865217 2022-11-14 16:00:00+00:00      501  228.350909   69.189468  103.725460   \n",
       "\n",
       "          pm10  pm25  temp  rh        date  hour  year  month  day_of_month  \n",
       "0       30.400   NaN   NaN NaN  2019-04-29    23  2019      4            29  \n",
       "1       20.275   NaN   NaN NaN  2019-04-30     3  2019      4            30  \n",
       "2       28.125   NaN   NaN NaN  2019-05-01     6  2019      5             1  \n",
       "3       27.700   NaN   NaN NaN  2019-05-01    18  2019      5             1  \n",
       "4       23.775   NaN   NaN NaN  2019-05-02    14  2019      5             2  \n",
       "...        ...   ...   ...  ..         ...   ...   ...    ...           ...  \n",
       "865213     NaN   NaN   NaN NaN  2022-11-14    16  2022      1            14  \n",
       "865214     NaN   NaN   NaN NaN  2022-11-14    16  2022      1            14  \n",
       "865215     NaN   NaN   NaN NaN  2022-11-14    17  2022      1            14  \n",
       "865216     NaN   NaN   NaN NaN  2022-11-14    16  2022      1            14  \n",
       "865217     NaN   NaN   NaN NaN  2022-11-14    16  2022      1            14  \n",
       "\n",
       "[865218 rows x 14 columns]"
      ]
     },
     "execution_count": 12,
     "metadata": {},
     "output_type": "execute_result"
    }
   ],
   "source": [
    "aqdc"
   ]
  },
  {
   "cell_type": "code",
   "execution_count": 13,
   "id": "e2298566-42b4-4b01-82ac-e2821cdde333",
   "metadata": {},
   "outputs": [
    {
     "name": "stdout",
     "output_type": "stream",
     "text": [
      "int64\n"
     ]
    }
   ],
   "source": [
    "print(aqdc.year.dtype)"
   ]
  },
  {
   "cell_type": "code",
   "execution_count": 14,
   "id": "a01aea7b-6702-4c2a-a42d-7581d0bbfbdc",
   "metadata": {},
   "outputs": [
    {
     "data": {
      "text/plain": [
       "site_id        int64\n",
       "year           int64\n",
       "conc_ugm3    float64\n",
       "count          int64\n",
       "dtype: object"
      ]
     },
     "execution_count": 14,
     "metadata": {},
     "output_type": "execute_result"
    }
   ],
   "source": [
    "no2dt.dtypes"
   ]
  },
  {
   "cell_type": "code",
   "execution_count": 15,
   "id": "0233e83f-ff2e-41a7-83b4-9ce0fed1cea4",
   "metadata": {},
   "outputs": [],
   "source": [
    "# data for inserting as dicts\n",
    "aqdc_payload = aqdc.to_dict(orient = 'records')\n",
    "no2dt_payload = no2dt.to_dict(orient = 'records')\n",
    "aqms_payload = aqms.to_dict(orient = 'records')"
   ]
  },
  {
   "cell_type": "code",
   "execution_count": 16,
   "id": "bdb1963f-a889-494d-b11b-43fd0336b064",
   "metadata": {},
   "outputs": [],
   "source": [
    "db = Database('aq_data.db', recreate = True)"
   ]
  },
  {
   "cell_type": "code",
   "execution_count": 17,
   "id": "fb9af8cd-9848-404f-b103-b9e671521d5a",
   "metadata": {},
   "outputs": [
    {
     "data": {
      "text/plain": [
       "<Table no2-diffusion-tube-data (site_id, year, conc_ugm3, count)>"
      ]
     },
     "execution_count": 17,
     "metadata": {},
     "output_type": "execute_result"
    }
   ],
   "source": [
    "db['no2-diffusion-tube-data'].create({\n",
    "    'site_id':int,\n",
    "    'year': int,\n",
    "    'conc_ugm3':float,\n",
    "    'count':int\n",
    "},\n",
    "    pk = ['site_id', 'year']\n",
    ")"
   ]
  },
  {
   "cell_type": "code",
   "execution_count": 18,
   "id": "0c63149d-4a90-4e0c-a05c-f9bce3ff2ea5",
   "metadata": {},
   "outputs": [
    {
     "data": {
      "text/plain": [
       "<Table air-quality-monitoring-sites (location, site_id, easting, northing, current, pollutants, instrumenttype, exposure, tube_kerb_distance_m, rec_kerb_distance_m, comments, aqma, detailed_location, sample_height, elevation, grid_id, locationclass, photopath, datestart, dateend, description, colocated, duplicate_triplicate, laqm_locationclass, latitude, longitude)>"
      ]
     },
     "execution_count": 18,
     "metadata": {},
     "output_type": "execute_result"
    }
   ],
   "source": [
    "db['air-quality-monitoring-sites'].create(\n",
    "{\n",
    "    'location':str,\n",
    "   'site_id':int,\n",
    "   'easting':int,\n",
    "   'northing':int,\n",
    "   'current':int,\n",
    "   'pollutants':str,\n",
    "   'instrumenttype':str,\n",
    "   'exposure':int,\n",
    "   'tube_kerb_distance_m':float,\n",
    "   'rec_kerb_distance_m':float,\n",
    "   'comments':str,\n",
    "   'aqma':int,\n",
    "   'detailed_location':str,\n",
    "   'sample_height':float,\n",
    "   'elevation':float,\n",
    "   'grid_id':float,\n",
    "   'locationclass':str,\n",
    "   'photopath':str,\n",
    "   'datestart':str,\n",
    "   'dateend':str,\n",
    "   'description':float,\n",
    "   'colocated':int,\n",
    "   'duplicate_triplicate':str,\n",
    "   'laqm_locationclass':str,\n",
    "   'latitude':float,\n",
    "   'longitude':float\n",
    "},\n",
    "    pk = ['site_id']\n",
    ")"
   ]
  },
  {
   "cell_type": "code",
   "execution_count": 19,
   "id": "2de46152-cb7f-4e50-89b5-479c3dfbef0c",
   "metadata": {},
   "outputs": [
    {
     "data": {
      "text/plain": [
       "<Table air-quality-data-continuous (site_id, date_time, date, year, month, day_of_month, hour, nox, no2, no, pm10, pm25, temp, rh)>"
      ]
     },
     "execution_count": 19,
     "metadata": {},
     "output_type": "execute_result"
    }
   ],
   "source": [
    "db[\"air-quality-data-continuous\"].create({\n",
    "   \"site_id\": int,\n",
    "   \"date_time\": str,\n",
    "   \"date\": str,\n",
    "   \"year\":int,\n",
    "   \"month\": int,\n",
    "   \"day_of_month\":int,\n",
    "   \"hour\":int,\n",
    "   \"nox\": float,\n",
    "   \"no2\": float,\n",
    "   \"no\": float,\n",
    "   \"pm10\": float,\n",
    "   \"pm25\": float,\n",
    "   \"temp\": float,\n",
    "   \"rh\": float\n",
    "    },\n",
    "    pk = (\"date_time\", \"site_id\")\n",
    ")"
   ]
  },
  {
   "cell_type": "code",
   "execution_count": 20,
   "id": "d29d98c2-63ea-49e0-baac-420abefb0921",
   "metadata": {},
   "outputs": [
    {
     "data": {
      "text/plain": [
       "<Table no2-diffusion-tube-data (site_id, year, conc_ugm3, count)>"
      ]
     },
     "execution_count": 20,
     "metadata": {},
     "output_type": "execute_result"
    }
   ],
   "source": [
    "# table.add_foreign_key(column, other_table, other_column)\n",
    "\n",
    "db['air-quality-data-continuous'].add_foreign_key('site_id', 'air-quality-monitoring-sites', 'site_id')\n",
    "db['air-quality-monitoring-sites'].add_foreign_key('site_id', 'air-quality-data-continuous', 'site_id')\n",
    "db['no2-diffusion-tube-data'].add_foreign_key('site_id', 'air-quality-monitoring-sites', 'site_id')\n"
   ]
  },
  {
   "cell_type": "code",
   "execution_count": 21,
   "id": "f49c2d5a-8588-42dd-85af-21548f0373c5",
   "metadata": {},
   "outputs": [
    {
     "data": {
      "text/plain": [
       "<Table no2-diffusion-tube-data (site_id, year, conc_ugm3, count)>"
      ]
     },
     "execution_count": 21,
     "metadata": {},
     "output_type": "execute_result"
    }
   ],
   "source": [
    "db['no2-diffusion-tube-data'].insert_all(no2dt_payload)"
   ]
  },
  {
   "cell_type": "code",
   "execution_count": 22,
   "id": "383739c1-d29c-4240-a498-7bef3d890b61",
   "metadata": {},
   "outputs": [
    {
     "data": {
      "text/plain": [
       "<Table air-quality-monitoring-sites (location, site_id, easting, northing, current, pollutants, instrumenttype, exposure, tube_kerb_distance_m, rec_kerb_distance_m, comments, aqma, detailed_location, sample_height, elevation, grid_id, locationclass, photopath, datestart, dateend, description, colocated, duplicate_triplicate, laqm_locationclass, latitude, longitude)>"
      ]
     },
     "execution_count": 22,
     "metadata": {},
     "output_type": "execute_result"
    }
   ],
   "source": [
    "db['air-quality-monitoring-sites'].insert_all(aqms_payload)"
   ]
  },
  {
   "cell_type": "code",
   "execution_count": 23,
   "id": "70b99a99-b1a4-4afb-aec8-a862bd79a174",
   "metadata": {},
   "outputs": [
    {
     "data": {
      "text/plain": [
       "<Table air-quality-data-continuous (site_id, date_time, date, year, month, day_of_month, hour, nox, no2, no, pm10, pm25, temp, rh)>"
      ]
     },
     "execution_count": 23,
     "metadata": {},
     "output_type": "execute_result"
    }
   ],
   "source": [
    "db['air-quality-data-continuous'].insert_all(aqdc_payload)"
   ]
  },
  {
   "cell_type": "code",
   "execution_count": 24,
   "id": "94b43b5c-9b42-46df-87e6-5dc22304b356",
   "metadata": {},
   "outputs": [
    {
     "name": "stdout",
     "output_type": "stream",
     "text": [
      "CREATE TABLE [no2-diffusion-tube-data] (\n",
      "   [site_id] INTEGER,\n",
      "   [year] INTEGER,\n",
      "   [conc_ugm3] FLOAT,\n",
      "   [count] INTEGER,\n",
      "   PRIMARY KEY ([site_id], [year]),\n",
      "   FOREIGN KEY([site_id]) REFERENCES [air-quality-monitoring-sites]([site_id])\n",
      ");\n",
      "CREATE TABLE [air-quality-monitoring-sites] (\n",
      "   [location] TEXT,\n",
      "   [site_id] INTEGER PRIMARY KEY,\n",
      "   [easting] INTEGER,\n",
      "   [northing] INTEGER,\n",
      "   [current] INTEGER,\n",
      "   [pollutants] TEXT,\n",
      "   [instrumenttype] TEXT,\n",
      "   [exposure] INTEGER,\n",
      "   [tube_kerb_distance_m] FLOAT,\n",
      "   [rec_kerb_distance_m] FLOAT,\n",
      "   [comments] TEXT,\n",
      "   [aqma] INTEGER,\n",
      "   [detailed_location] TEXT,\n",
      "   [sample_height] FLOAT,\n",
      "   [elevation] FLOAT,\n",
      "   [grid_id] FLOAT,\n",
      "   [locationclass] TEXT,\n",
      "   [photopath] TEXT,\n",
      "   [datestart] TEXT,\n",
      "   [dateend] TEXT,\n",
      "   [description] FLOAT,\n",
      "   [colocated] INTEGER,\n",
      "   [duplicate_triplicate] TEXT,\n",
      "   [laqm_locationclass] TEXT,\n",
      "   [latitude] FLOAT,\n",
      "   [longitude] FLOAT,\n",
      "   FOREIGN KEY([site_id]) REFERENCES [air-quality-data-continuous]([site_id])\n",
      ");\n",
      "CREATE TABLE [air-quality-data-continuous] (\n",
      "   [site_id] INTEGER,\n",
      "   [date_time] TEXT,\n",
      "   [date] TEXT,\n",
      "   [year] INTEGER,\n",
      "   [month] INTEGER,\n",
      "   [day_of_month] INTEGER,\n",
      "   [hour] INTEGER,\n",
      "   [nox] FLOAT,\n",
      "   [no2] FLOAT,\n",
      "   [no] FLOAT,\n",
      "   [pm10] FLOAT,\n",
      "   [pm25] FLOAT,\n",
      "   [temp] FLOAT,\n",
      "   [rh] FLOAT,\n",
      "   PRIMARY KEY ([date_time], [site_id]),\n",
      "   FOREIGN KEY([site_id]) REFERENCES [air-quality-monitoring-sites]([site_id])\n",
      ");\n"
     ]
    }
   ],
   "source": [
    "print(db.schema)"
   ]
  },
  {
   "cell_type": "markdown",
   "id": "6efd5b32-bb46-4536-a35a-15280ab3f302",
   "metadata": {},
   "source": [
    "This section sets up spatial index to enable spatial operations on the data"
   ]
  },
  {
   "cell_type": "code",
   "execution_count": 25,
   "id": "90d58ed3-aa8e-4b9d-a2d4-7234ee2da69b",
   "metadata": {},
   "outputs": [],
   "source": [
    "conn = sqlite3.connect(\"aq_data.db\")\n",
    "# Lead the spatialite extension:\n",
    "conn.enable_load_extension(True)"
   ]
  },
  {
   "cell_type": "code",
   "execution_count": 26,
   "id": "fb56d529-129b-443c-8494-cb31cd82cca7",
   "metadata": {},
   "outputs": [],
   "source": [
    "conn.load_extension(\"/usr/lib/x86_64-linux-gnu/mod_spatialite\")"
   ]
  },
  {
   "cell_type": "code",
   "execution_count": 27,
   "id": "38c93d03-c181-4b5f-a59b-8fd11090106c",
   "metadata": {},
   "outputs": [
    {
     "data": {
      "text/plain": [
       "<sqlite3.Cursor at 0x7f5cb2138260>"
      ]
     },
     "execution_count": 27,
     "metadata": {},
     "output_type": "execute_result"
    }
   ],
   "source": [
    "# Initialize spatial metadata for this database:\n",
    "conn.execute(\"select InitSpatialMetadata(1)\")\n",
    "# Add a geometry column called point_geom to our museums table:\n",
    "conn.execute(\n",
    "    \"SELECT AddGeometryColumn('air-quality-monitoring-sites', 'point_geom', 4326, 'POINT', 2);\"\n",
    ")"
   ]
  },
  {
   "cell_type": "code",
   "execution_count": 28,
   "id": "f536bd9a-d373-4bb8-8654-666c9b08c2a4",
   "metadata": {},
   "outputs": [
    {
     "data": {
      "text/plain": [
       "<sqlite3.Cursor at 0x7f5cb21383b0>"
      ]
     },
     "execution_count": 28,
     "metadata": {},
     "output_type": "execute_result"
    }
   ],
   "source": [
    "# Now update that geometry column with the lat/lon points\n",
    "conn.execute(\n",
    "    \"\"\"\n",
    "    UPDATE 'air-quality-monitoring-sites' SET\n",
    "    point_geom = GeomFromText('POINT('||\"longitude\"||' '||\"latitude\"||')',4326);\n",
    "\"\"\"\n",
    ")"
   ]
  },
  {
   "cell_type": "code",
   "execution_count": 29,
   "id": "f2332e08-054a-4703-9d3c-e472e8383906",
   "metadata": {},
   "outputs": [
    {
     "data": {
      "text/plain": [
       "<sqlite3.Cursor at 0x7f5cb2138490>"
      ]
     },
     "execution_count": 29,
     "metadata": {},
     "output_type": "execute_result"
    }
   ],
   "source": [
    "# Now add a spatial index to that column\n",
    "conn.execute(\n",
    "    'select CreateSpatialIndex(\"air-quality-monitoring-sites\", \"point_geom\");'\n",
    ")"
   ]
  },
  {
   "cell_type": "code",
   "execution_count": 30,
   "id": "b00692a9-dfe3-4e05-98be-c86bb8ec3865",
   "metadata": {},
   "outputs": [],
   "source": [
    "# If you don't commit your changes will not be persisted:\n",
    "conn.commit()\n",
    "conn.close()"
   ]
  },
  {
   "cell_type": "markdown",
   "id": "281e1abc-7a48-461c-bf8e-c2ef5b61e734",
   "metadata": {},
   "source": [
    "Now set up some Views for easy access to commonly desired snapshots of the data"
   ]
  },
  {
   "cell_type": "code",
   "execution_count": 31,
   "id": "4d90709d-f44c-4ad6-a861-e25d2ac5e02d",
   "metadata": {},
   "outputs": [],
   "source": [
    "if db['no2_diffusion_tube_locations_vw'].exists():\n",
    "    db['no2_diffusion_tube_locations_vw'].drop()"
   ]
  },
  {
   "cell_type": "code",
   "execution_count": 32,
   "id": "d6225955-5e35-4143-8ed0-5c81f3cfcc7d",
   "metadata": {},
   "outputs": [
    {
     "data": {
      "text/plain": [
       "<Database <sqlite3.Connection object at 0x7f5cd0359e40>>"
      ]
     },
     "execution_count": 32,
     "metadata": {},
     "output_type": "execute_result"
    }
   ],
   "source": [
    "db.create_view(\"no2_diffusion_tube_locations_vw\", \"\"\"\n",
    "SELECT\n",
    "    'no2-diffusion-tube-data'.site_id,\n",
    "    location,\n",
    "    year,\n",
    "    round(conc_ugm3, 1) conc_ugm3,\n",
    "    easting,\n",
    "    northing,\n",
    "    round(latitude, 6) latitude,\n",
    "    round(longitude, 6) longitude,\n",
    "    count\n",
    "FROM 'air-quality-monitoring-sites'\n",
    "INNER JOIN 'no2-diffusion-tube-data'\n",
    "ON 'air-quality-monitoring-sites'.site_id = 'no2-diffusion-tube-data'.site_id\n",
    "ORDER BY 'no2-diffusion-tube-data'.site_id, year\n",
    "\"\"\")"
   ]
  },
  {
   "cell_type": "code",
   "execution_count": 33,
   "id": "82334aed-8e6e-4eab-a0eb-8aa7b896d259",
   "metadata": {},
   "outputs": [],
   "source": [
    "if db[\"annual_mean_continuous_vw\"].exists():\n",
    "    db[\"annual_mean_continuous_vw\"].drop()"
   ]
  },
  {
   "cell_type": "code",
   "execution_count": 34,
   "id": "78841af6-cc2e-41fb-b958-421e56902930",
   "metadata": {},
   "outputs": [
    {
     "data": {
      "text/plain": [
       "<Database <sqlite3.Connection object at 0x7f5cd0359e40>>"
      ]
     },
     "execution_count": 34,
     "metadata": {},
     "output_type": "execute_result"
    }
   ],
   "source": [
    "db.create_view(\"annual_mean_continuous_vw\", \"\"\"\n",
    "SELECT \n",
    "    'air-quality-data-continuous'.site_id,\n",
    "    year,\n",
    "    ROUND(AVG(no2), 1) mean_no2,\n",
    "    ROUND(AVG(pm10), 1) mean_pm10,\n",
    "    ROUND(AVG(pm25), 1) as mean_pm25\n",
    "FROM 'air-quality-data-continuous'\n",
    "GROUP BY 'air-quality-data-continuous'.site_id, year\n",
    "ORDER BY year, 'air-quality-data-continuous'.site_id\n",
    "\"\"\")"
   ]
  },
  {
   "cell_type": "code",
   "execution_count": 47,
   "id": "32573239-3580-4eb1-a3f7-a72ca56757d6",
   "metadata": {},
   "outputs": [],
   "source": [
    "if db['annual_mean_locations_vw'].exists():\n",
    "    db['annual_mean_locations_vw'].drop()"
   ]
  },
  {
   "cell_type": "code",
   "execution_count": 48,
   "id": "c8f0a270-49f7-40e0-8896-00bda0ceab31",
   "metadata": {},
   "outputs": [
    {
     "data": {
      "text/plain": [
       "<Database <sqlite3.Connection object at 0x7f5cd0359e40>>"
      ]
     },
     "execution_count": 48,
     "metadata": {},
     "output_type": "execute_result"
    }
   ],
   "source": [
    "#not working\n",
    "db.create_view(\"annual_mean_locations_vw\", \"\"\"\n",
    "SELECT \n",
    "    'annual_mean_continuous_vw'.site_id,\n",
    "    'air-quality-monitoring-sites'.location,\n",
    "    year,\n",
    "    mean_no2,\n",
    "    mean_pm10,\n",
    "    mean_pm25,\n",
    "    ROUND(latitude, 6) latitude,\n",
    "    ROUND(longitude, 6) longitude\n",
    "FROM 'annual_mean_continuous_vw'\n",
    "INNER JOIN 'air-quality-monitoring-sites'\n",
    "ON 'air-quality-monitoring-sites'.site_id = 'annual_mean_continuous_vw'.site_id\n",
    "\"\"\")\n",
    "\n",
    "\n"
   ]
  },
  {
   "cell_type": "code",
   "execution_count": 38,
   "id": "cf35434b-40a0-42ff-9cf3-b95b804c5e84",
   "metadata": {},
   "outputs": [],
   "source": [
    "# print(db.schema)"
   ]
  },
  {
   "cell_type": "code",
   "execution_count": null,
   "id": "5f420b8e-cae3-444b-b036-89636bd8b6c6",
   "metadata": {},
   "outputs": [],
   "source": [
    "!ls -l"
   ]
  },
  {
   "cell_type": "code",
   "execution_count": null,
   "id": "8c29676e-7c8d-4ce8-bbbe-4ef262dd4487",
   "metadata": {},
   "outputs": [],
   "source": [
    "# for row in db['aqdc.db'].rows:\n",
    "#     print(row)"
   ]
  },
  {
   "cell_type": "code",
   "execution_count": null,
   "id": "7059adba-8b66-46aa-94d9-dc95b215111b",
   "metadata": {},
   "outputs": [],
   "source": [
    "# for row in db.query(\"select * from aqdc where siteid = 203\"):\n",
    "#     print(row)"
   ]
  },
  {
   "cell_type": "code",
   "execution_count": 22,
   "id": "5ba2560d-f09a-4381-b926-4757973db76e",
   "metadata": {},
   "outputs": [
    {
     "data": {
      "text/plain": [
       "['no2dt', 'aqms', 'aqdc']"
      ]
     },
     "execution_count": 22,
     "metadata": {},
     "output_type": "execute_result"
    }
   ],
   "source": [
    "db.table_names()"
   ]
  },
  {
   "cell_type": "code",
   "execution_count": null,
   "id": "03a519ce-4a6a-48ff-86bf-c629b22c03df",
   "metadata": {},
   "outputs": [],
   "source": [
    "# print(db.schema)"
   ]
  },
  {
   "cell_type": "code",
   "execution_count": null,
   "id": "6c7ab1e5-b942-4f81-90b0-7da180484e9a",
   "metadata": {},
   "outputs": [],
   "source": [
    "con = sqlite3.connect('aq_data.db')\n",
    "cur = con.cursor()"
   ]
  },
  {
   "cell_type": "code",
   "execution_count": null,
   "id": "37fc8454-3809-4afb-805f-1beb929a0389",
   "metadata": {},
   "outputs": [],
   "source": [
    "con.close()"
   ]
  },
  {
   "cell_type": "code",
   "execution_count": null,
   "id": "e40a0aa3-0b81-4c9c-bc98-8c5025005105",
   "metadata": {},
   "outputs": [],
   "source": [
    "query = \"\"\"\n",
    "SELECT *\n",
    "FROM aqdc\n",
    "WHERE site_id = 203\n",
    "\"\"\"\n",
    "df_aqdc = pd.read_sql_query(query, con, parse_dates = {'date_time':\"%Y-%m-%dT%H:%M:%S%z\"}) # parse the date col in read operation"
   ]
  },
  {
   "cell_type": "code",
   "execution_count": null,
   "id": "28303f5d-730b-45ac-af85-aa060b6ea0e2",
   "metadata": {},
   "outputs": [],
   "source": [
    "df_aqdc['date_time']"
   ]
  },
  {
   "cell_type": "code",
   "execution_count": null,
   "id": "b07056a7-ffac-492a-b949-3675aa6ae579",
   "metadata": {},
   "outputs": [],
   "source": [
    "query = \"\"\"\n",
    "SELECT *\n",
    "FROM no2dt\n",
    "WHERE site_id = 4 AND year = 2021\n",
    "\"\"\"\n",
    "df_no2dt = pd.read_sql_query(query, con)"
   ]
  },
  {
   "cell_type": "code",
   "execution_count": null,
   "id": "32b91215-7c30-48bc-a32c-010e4a6cfdb3",
   "metadata": {},
   "outputs": [],
   "source": [
    "df_no2dt"
   ]
  },
  {
   "cell_type": "code",
   "execution_count": null,
   "id": "30fc33ef-c9bf-40d1-a465-b8df2193caff",
   "metadata": {},
   "outputs": [],
   "source": [
    "query = \"\"\"\n",
    "SELECT *\n",
    "FROM aqms\n",
    "WHERE instrumenttype = \"Continuous (Reference)\" AND current\n",
    "\"\"\"\n",
    "df_aqms = pd.read_sql_query(query, con)"
   ]
  },
  {
   "cell_type": "code",
   "execution_count": null,
   "id": "1b64e1b5-b594-48ca-a6d7-9087590791ab",
   "metadata": {},
   "outputs": [],
   "source": [
    "df_aqms"
   ]
  },
  {
   "cell_type": "code",
   "execution_count": null,
   "id": "64c669c2-6e4a-4535-b934-e2464409fa65",
   "metadata": {},
   "outputs": [],
   "source": [
    "# con.close()"
   ]
  },
  {
   "cell_type": "code",
   "execution_count": null,
   "id": "7fd9dce4-041a-4806-a2d9-a6bb4ed86ce9",
   "metadata": {},
   "outputs": [],
   "source": []
  },
  {
   "cell_type": "code",
   "execution_count": null,
   "id": "80d127f7-1291-4b08-90dc-48ea36729f73",
   "metadata": {},
   "outputs": [],
   "source": [
    "query = \"SELECT* FROM aqdc\"\n",
    "df_aqdc = pd.read_sql_query(query,  con)"
   ]
  },
  {
   "cell_type": "code",
   "execution_count": null,
   "id": "3784746f-5be1-4d9c-b951-d9c6a311f34c",
   "metadata": {},
   "outputs": [],
   "source": [
    "df_aqdc"
   ]
  },
  {
   "cell_type": "code",
   "execution_count": null,
   "id": "f1e6420a-4dc0-4a84-84b7-dadce852ae60",
   "metadata": {},
   "outputs": [],
   "source": [
    "!ls -l"
   ]
  },
  {
   "cell_type": "code",
   "execution_count": null,
   "id": "71d9ad5b-fb14-4ca6-a02d-831a321b8f0b",
   "metadata": {},
   "outputs": [],
   "source": [
    "url_aqdc_upsert = 'nov2-5.csv'"
   ]
  },
  {
   "cell_type": "code",
   "execution_count": null,
   "id": "cb6e8bc1-598b-402a-85bf-9922b1cc0bfb",
   "metadata": {},
   "outputs": [],
   "source": [
    "aqdc_upsert = read_aqdc_from_url(url_aqdc_upsert)"
   ]
  },
  {
   "cell_type": "code",
   "execution_count": null,
   "id": "0c3abe6e-7111-4411-b8c6-e11f74dfad00",
   "metadata": {},
   "outputs": [],
   "source": [
    "aqdc_upsert"
   ]
  },
  {
   "cell_type": "code",
   "execution_count": null,
   "id": "3ca896b4-c927-48c4-bd44-52552b9fcde5",
   "metadata": {},
   "outputs": [],
   "source": []
  },
  {
   "cell_type": "code",
   "execution_count": null,
   "id": "c97e5549-b97f-4718-a6e9-bdce2e0a4d11",
   "metadata": {},
   "outputs": [],
   "source": [
    "aqdc_upsert_payload = aqdc_upsert.to_dict(orient = 'records')"
   ]
  },
  {
   "cell_type": "code",
   "execution_count": null,
   "id": "747ee12a-0445-4ed4-b37e-4c94760582f3",
   "metadata": {},
   "outputs": [],
   "source": [
    "db['aqdc'].upsert_all(aqdc_upsert_payload, pk = ['date_time','site_id'])"
   ]
  },
  {
   "cell_type": "code",
   "execution_count": null,
   "id": "6c09153a-2cdc-425f-b38b-a42ba5834475",
   "metadata": {},
   "outputs": [],
   "source": [
    "query = \"\"\"\n",
    "SELECT *\n",
    "FROM aqdc\n",
    "\"\"\"\n",
    "df_aqdc = pd.read_sql_query(query, con, parse_dates = {'date_time':\"%Y-%m-%dT%H:%M:%S%z\"}) # parse the date col in read operation"
   ]
  },
  {
   "cell_type": "code",
   "execution_count": null,
   "id": "078bdf99-ee33-4c85-8559-738c8b770236",
   "metadata": {},
   "outputs": [],
   "source": [
    "df_aqdc"
   ]
  }
 ],
 "metadata": {
  "kernelspec": {
   "display_name": "Python 3 (ipykernel)",
   "language": "python",
   "name": "python3"
  },
  "language_info": {
   "codemirror_mode": {
    "name": "ipython",
    "version": 3
   },
   "file_extension": ".py",
   "mimetype": "text/x-python",
   "name": "python",
   "nbconvert_exporter": "python",
   "pygments_lexer": "ipython3",
   "version": "3.9.12"
  }
 },
 "nbformat": 4,
 "nbformat_minor": 5
}
