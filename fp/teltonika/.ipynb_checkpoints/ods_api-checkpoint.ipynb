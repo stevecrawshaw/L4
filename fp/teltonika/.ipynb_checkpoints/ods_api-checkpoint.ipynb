{
 "cells": [
  {
   "cell_type": "code",
   "execution_count": 1,
   "id": "d39e0ecf-5645-49d7-ad4f-5f4bbfcefa83",
   "metadata": {},
   "outputs": [],
   "source": [
    "import pandas as pd\n",
    "import numpy as np\n",
    "import requests\n",
    "import io"
   ]
  },
  {
   "cell_type": "code",
   "execution_count": 2,
   "id": "3ce0081f-af7d-47c6-921c-a152d27f055e",
   "metadata": {},
   "outputs": [],
   "source": [
    "ods_url = \"https://opendata.bristol.gov.uk/api/v2/catalog/datasets/air-quality-data-continuous/exports/csv\""
   ]
  },
  {
   "cell_type": "code",
   "execution_count": 10,
   "id": "50490bea-cf3f-48e9-9931-e04751fc7838",
   "metadata": {},
   "outputs": [],
   "source": [
    "params = {\"select\":\"date_time, siteid, nox, no2, no, pm10, pm25, temp, rh\", \"where\":\"date_time >= date'2010'\"}"
   ]
  },
  {
   "cell_type": "code",
   "execution_count": 11,
   "id": "c8161b79-7c8c-4293-994c-6cf9f93906c0",
   "metadata": {},
   "outputs": [],
   "source": [
    "qm = requests.get(url = ods_url, params = params)"
   ]
  },
  {
   "cell_type": "code",
   "execution_count": 12,
   "id": "041f2619-d6a7-41b6-a4fc-6d685c938be3",
   "metadata": {},
   "outputs": [],
   "source": [
    "aqdc_df = pd.read_csv(io.StringIO(qm.text), sep = \";\")"
   ]
  },
  {
   "cell_type": "code",
   "execution_count": 17,
   "id": "1ce90234-d129-4e44-9e4e-b2d83550dd49",
   "metadata": {},
   "outputs": [],
   "source": [
    "aqdc_df.to_csv('aqdc_df_smaller.csv')"
   ]
  },
  {
   "cell_type": "code",
   "execution_count": 15,
   "id": "741f0b04-a9bc-43ae-ac40-b1656d9c6dea",
   "metadata": {},
   "outputs": [
    {
     "data": {
      "text/plain": [
       "'/home/steve/r-projects/L4/project-2-diagnostics/teltonika'"
      ]
     },
     "execution_count": 15,
     "metadata": {},
     "output_type": "execute_result"
    }
   ],
   "source": [
    "%pwd"
   ]
  },
  {
   "cell_type": "code",
   "execution_count": 16,
   "id": "4cbf1ca4-da5e-4f1e-8047-e2e180573a48",
   "metadata": {},
   "outputs": [
    {
     "name": "stdout",
     "output_type": "stream",
     "text": [
      "total 101200\n",
      "-rw-r--r-- 1 steve steve 103186432 Nov  7 21:25  aq_data.db\n",
      "-rw-r--r-- 1 steve steve         0 Nov  3 09:43  aqdc.db\n",
      "-rw-rw-r-- 1 steve steve    105229 Nov  7 19:45  nov1-3.csv\n",
      "-rw-rw-r-- 1 steve steve    140265 Nov  7 19:46  nov2-5.csv\n",
      "-rw-rw-r-- 1 steve steve      9986 Nov  8 19:12  ods_api.ipynb\n",
      "-rw-rw-r-- 1 steve steve     30752 Nov  7 21:26  sqlite_utils.ipynb\n",
      "-rw-rw-r-- 1 steve steve      4335 Oct 28 18:10 'teltonika api.R'\n",
      "-rwxrwxrwx 1 steve steve       621 Oct 28 18:10  teltonika_devices.R\n",
      "-rw-rw-r-- 1 steve steve    124461 Oct 31 16:45  teltonika_test.ipynb\n",
      "-rw-rw-r-- 1 steve steve       983 Nov  8 18:24  Untitled.ipynb\n"
     ]
    }
   ],
   "source": [
    "!ls -l"
   ]
  },
  {
   "cell_type": "code",
   "execution_count": null,
   "id": "ddf84721-25a8-4e17-b3e1-72043d63ebec",
   "metadata": {},
   "outputs": [],
   "source": []
  },
  {
   "cell_type": "code",
   "execution_count": null,
   "id": "3fa746df-e719-4094-aa77-c746026c501b",
   "metadata": {},
   "outputs": [],
   "source": [
    "pd.read_csv(io.StringIO(response_devices_csv.text))\n",
    "aqdc_df = pd.read_csv(requests.get(url = ods_url, params = params), sep = \";\")"
   ]
  },
  {
   "cell_type": "code",
   "execution_count": null,
   "id": "e6d4f504-a52b-4a0d-bed1-297cf5a0e80a",
   "metadata": {},
   "outputs": [],
   "source": []
  }
 ],
 "metadata": {
  "kernelspec": {
   "display_name": "Python 3 (ipykernel)",
   "language": "python",
   "name": "python3"
  },
  "language_info": {
   "codemirror_mode": {
    "name": "ipython",
    "version": 3
   },
   "file_extension": ".py",
   "mimetype": "text/x-python",
   "name": "python",
   "nbconvert_exporter": "python",
   "pygments_lexer": "ipython3",
   "version": "3.9.12"
  }
 },
 "nbformat": 4,
 "nbformat_minor": 5
}
